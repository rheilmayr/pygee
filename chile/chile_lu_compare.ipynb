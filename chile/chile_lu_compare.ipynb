{
 "cells": [
  {
   "cell_type": "code",
   "execution_count": 52,
   "metadata": {
    "collapsed": false
   },
   "outputs": [],
   "source": [
    "from IPython.display import Image\n",
    "import ee\n",
    "ee.Initialize()\n",
    "import sys \n",
    "sys.path.append('/rheil/notebooks/pygee')\n",
    "import pandas as pd\n",
    "import numpy as np\n",
    "import simulation\n",
    "import importlib\n",
    "import gee_random\n",
    "import gee_fc_tools as fct\n",
    "importlib.reload(gee_random)\n",
    "importlib.reload(simulation)\n",
    "import matplotlib.pyplot as plt\n",
    "%matplotlib inline  \n"
   ]
  },
  {
   "cell_type": "code",
   "execution_count": 53,
   "metadata": {
    "collapsed": true
   },
   "outputs": [],
   "source": [
    "asset_dir = 'users/rheilmayr/chile_sim/input/'\n",
    "chile_comunas = ee.FeatureCollection('ft:1MIVtGXFEu3ONr87OPP7JV1_vCs9W3sJEuZDuzkzb')\n",
    "# countries = ee.FeatureCollection('ft:1tdSwUL7MVpOauSgRzqVTOwdfy17KDbw-1d9omPw');\n",
    "# chile = countries.filterMetadata('Country', 'equals', 'Chile');\n",
    "pixelAreaHa = ee.Image.pixelArea().divide(1e7)\n"
   ]
  },
  {
   "cell_type": "markdown",
   "metadata": {},
   "source": [
    "Trying to dissolve to regions"
   ]
  },
  {
   "cell_type": "code",
   "execution_count": 54,
   "metadata": {
    "collapsed": false
   },
   "outputs": [],
   "source": [
    "chile_comunas = chile_comunas.filter(ee.Filter.inList('id_1', [15, 13, 8, 12, 6, 3, 10, 9]))\n",
    "reducerDict = chile_comunas.reduceColumns(ee.Reducer.toList().group(), ['id_1', 'geometry']);\n",
    "groupList = ee.List(reducerDict.get('groups'))\n",
    "chile_regions = groupList.map(fct.dissolve_groups)"
   ]
  },
  {
   "cell_type": "markdown",
   "metadata": {},
   "source": [
    "Code to clean up csv before moving to kml. Move elsewhere"
   ]
  },
  {
   "cell_type": "code",
   "execution_count": 55,
   "metadata": {
    "collapsed": false
   },
   "outputs": [],
   "source": [
    "def parse_key(key, text):\n",
    "    text = text[text.find(key + '</td>\\n\\n<td>') + len(key + '</td>\\n\\n<td>'):]\n",
    "    out_text = text[:text.find('<')]\n",
    "    return out_text\n",
    "\n",
    "comunas_csv = '/rheil/notebooks/data/CHL_adm3.csv'\n",
    "comunas_df = pd.read_csv(comunas_csv)\n",
    "for i in range(4):\n",
    "    comunas_df['id_' + str(i)] = comunas_df['description'].apply(lambda x: parse_key('ID_' + str(i), x))\n",
    "    comunas_df['name_' + str(i)] = comunas_df['description'].apply(lambda x: parse_key('NAME_' + str(i), x))\n",
    "comunas_df = comunas_df.drop('name', axis = 1)\n",
    "comunas_df.to_csv('/rheil/notebooks/data/CHL_adm3_parsed.csv')"
   ]
  },
  {
   "cell_type": "code",
   "execution_count": null,
   "metadata": {
    "collapsed": false
   },
   "outputs": [],
   "source": []
  },
  {
   "cell_type": "code",
   "execution_count": 56,
   "metadata": {
    "collapsed": true
   },
   "outputs": [],
   "source": [
    "clas_1986 = ee.Image(asset_dir + 'css_1986')\n",
    "clas_2001 = ee.Image(asset_dir + 'css_2001')\n",
    "clas_2011 = ee.Image(asset_dir + 'css_2011')"
   ]
  },
  {
   "cell_type": "code",
   "execution_count": 57,
   "metadata": {
    "collapsed": false
   },
   "outputs": [],
   "source": [
    "mask = clas_1986.gte(1).And(clas_1986.lte(19))\\\n",
    "    .And(clas_2001.gte(1).And(clas_2001.lte(19)))\\\n",
    "    .And(clas_2011.gte(1).And(clas_2011.lte(19)))\n",
    "clas_1986 = clas_1986.updateMask(mask)\n",
    "clas_2001 = clas_2001.updateMask(mask)\n",
    "clas_2011 = clas_2011.updateMask(mask)"
   ]
  },
  {
   "cell_type": "code",
   "execution_count": 58,
   "metadata": {
    "collapsed": true
   },
   "outputs": [],
   "source": [
    "def clas_area_band(lu_img, clas_val, band_name):\n",
    "    clas_img = lu_img.eq(clas_val)\n",
    "    clas_area_img = clas_img.multiply(ee.Image.pixelArea().divide(1e7))\n",
    "    clas_area_img = clas_area_img.select(['b1'], [band_name])\n",
    "    return clas_area_img\n",
    "\n",
    "c1986_forarea_img = clas_area_band(clas_1986, 1, 'c_for_1986')\n",
    "c1986_plantarea_img = clas_area_band(clas_1986, 3, 'c_plant_1986')\n",
    "c2001_forarea_img = clas_area_band(clas_2001, 1, 'c_for_2001')\n",
    "c2001_plantarea_img = clas_area_band(clas_2001, 3, 'c_plant_2001')\n",
    "c2011_forarea_img = clas_area_band(clas_2011, 1, 'c_for_2011')\n",
    "c2011_plantarea_img = clas_area_band(clas_2011, 3, 'c_plant_2011')"
   ]
  },
  {
   "cell_type": "code",
   "execution_count": 59,
   "metadata": {
    "collapsed": false
   },
   "outputs": [],
   "source": [
    "hansen_img = ee.Image('UMD/hansen/global_forest_change_2015').updateMask(mask)\n",
    "fc_img = hansen_img.select('treecover2000')\n",
    "for2000_img = fc_img.gte(25)\n",
    "lossyear_img = hansen_img.select('lossyear')\n",
    "loss_img = hansen_img.select('loss')\n",
    "gain_img = hansen_img.select('gain')\n",
    "for2000area_img = for2000_img.multiply(pixelAreaHa)\n",
    "lossarea_img = (for2000_img.eq(1).And(lossyear_img.lte(12)).And(loss_img.eq(1))).multiply(pixelAreaHa)\n",
    "gainarea_img = gain_img.multiply(pixelAreaHa)\n",
    "for2000area_img = for2000area_img.select(['treecover2000'], ['hansen_for_2000'])\n",
    "lossarea_img = lossarea_img.select(['treecover2000'], ['hansen_loss'])\n",
    "gainarea_img = gainarea_img.select(['gain'], ['hansen_gain'])\n"
   ]
  },
  {
   "cell_type": "code",
   "execution_count": 60,
   "metadata": {
    "collapsed": false
   },
   "outputs": [],
   "source": [
    "cat1_img = ee.Image(asset_dir + 'cadaster_p1').updateMask(mask)\n",
    "cat1_for_img = cat1_img.eq(1).Or(cat1_img.eq(2)).Or(cat1_img.eq(7))\n",
    "cat1_forarea_img = cat1_for_img.multiply(pixelAreaHa)\n",
    "cat1_forarea_img = cat1_forarea_img.select(['b1'], ['cat_for_p1'])\n",
    "cat2_img = ee.Image(asset_dir + 'cadaster_p2').updateMask(mask)\n",
    "cat2_for_img = cat2_img.eq(1).Or(cat2_img.eq(2)).Or(cat2_img.eq(7))\n",
    "cat2_forarea_img = cat2_for_img.multiply(pixelAreaHa)\n",
    "cat2_forarea_img = cat2_forarea_img.select(['b1'], ['cat_for_p2'])\n",
    "cat1_plantarea_img = clas_area_band(cat1_img, 4, 'cat_plant_p1')\n",
    "cat2_plantarea_img = clas_area_band(cat2_img, 4, 'cat_plant_p2')\n"
   ]
  },
  {
   "cell_type": "code",
   "execution_count": 61,
   "metadata": {
    "collapsed": false
   },
   "outputs": [],
   "source": [
    "bands = [cat1_forarea_img, cat1_plantarea_img, cat2_forarea_img, cat2_plantarea_img, gainarea_img, \n",
    "         for2000area_img, lossarea_img, c1986_forarea_img, c1986_plantarea_img, c2001_forarea_img, \n",
    "         c2001_plantarea_img, c2011_forarea_img, c2011_plantarea_img]\n",
    "area_img = ee.Image.cat(bands)"
   ]
  },
  {
   "cell_type": "code",
   "execution_count": 62,
   "metadata": {
    "collapsed": false
   },
   "outputs": [],
   "source": [
    "chile = area_img.reduceRegions(collection = chile_comunas, scale = 30, reducer = ee.Reducer.sum())"
   ]
  },
  {
   "cell_type": "code",
   "execution_count": 63,
   "metadata": {
    "collapsed": false
   },
   "outputs": [],
   "source": [
    "task = ee.batch.Export.table.toDrive(collection = chile, description = 'lu_compare_maskor', folder = 'chile', fileFormat = 'csv')\n",
    "task.start()"
   ]
  },
  {
   "cell_type": "code",
   "execution_count": 65,
   "metadata": {
    "collapsed": false
   },
   "outputs": [],
   "source": [
    "task = ee.batch.Export.image.toDrive(image = clas_2011, description = 'clas_2011', \n",
    "                                     folder = 'chile', fileNamePrevix = 'clas_2011', \n",
    "                                     scale = 30, maxPixels = 1e10)\n",
    "task.start()"
   ]
  },
  {
   "cell_type": "code",
   "execution_count": null,
   "metadata": {
    "collapsed": false
   },
   "outputs": [],
   "source": []
  },
  {
   "cell_type": "code",
   "execution_count": null,
   "metadata": {
    "collapsed": true
   },
   "outputs": [],
   "source": []
  }
 ],
 "metadata": {
  "kernelspec": {
   "display_name": "Python 3",
   "language": "python",
   "name": "python3"
  },
  "language_info": {
   "codemirror_mode": {
    "name": "ipython",
    "version": 3
   },
   "file_extension": ".py",
   "mimetype": "text/x-python",
   "name": "python",
   "nbconvert_exporter": "python",
   "pygments_lexer": "ipython3",
   "version": "3.5.2"
  },
  "widgets": {
   "state": {},
   "version": "1.1.2"
  }
 },
 "nbformat": 4,
 "nbformat_minor": 0
}
