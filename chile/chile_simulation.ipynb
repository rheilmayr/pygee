{
 "cells": [
  {
   "cell_type": "code",
   "execution_count": 18,
   "metadata": {
    "collapsed": false
   },
   "outputs": [],
   "source": [
    "from IPython.display import Image\n",
    "import ee\n",
    "ee.Initialize()\n",
    "import sys \n",
    "sys.path.append('/rheil/')\n",
    "import pandas as pd\n",
    "import numpy as np\n",
    "import simulation\n",
    "import importlib\n",
    "import gee_random\n",
    "import gee_tools\n",
    "importlib.reload(gee_random)\n",
    "importlib.reload(simulation)\n",
    "import matplotlib.pyplot as plt\n",
    "%matplotlib inline  \n",
    "import seaborn as sns\n"
   ]
  },
  {
   "cell_type": "code",
   "execution_count": 19,
   "metadata": {
    "collapsed": false
   },
   "outputs": [],
   "source": [
    "rough_coords = [[[-72.70751953125,-35.55407805098183], \n",
    "                [-72.88330078125,-36.24230463768247],\n",
    "                [-73.828125,-37.1758808189678],\n",
    "                [-73.6083984375,-39.502157400405835],\n",
    "                [-74.06982421875,-40.91166803248206],\n",
    "                [-74.2236328125,-42.031161371349604],\n",
    "                [-74.63012703694403,-43.39263031065478],\n",
    "                [-71.53747566975653,-44.14235994137627],\n",
    "                [-71.6748046875,-42.191447917682844],\n",
    "                [-71.7681884765625,-40.913051951779906],\n",
    "                [-70.7904052734375,-38.63355979178271],\n",
    "                [-71.0540771484375,-36.817591733270724],\n",
    "                [-70.6640625,-36.43405098759998],\n",
    "                [-70.279541015625,-35.96862121673053],\n",
    "                [-70.4058837890625,-35.24960684089411],\n",
    "                [-69.78515616618097,-34.21584009811081],\n",
    "                [-69.73571768961847,-33.3529636230323],\n",
    "                [-69.87304683309048,-33.095632114465566],\n",
    "                [-70.15319820027798,-32.28661649357072],\n",
    "                [-70.81237788777798,-31.960965572989558],\n",
    "                [-71.58142085652798,-32.147194134857614],\n",
    "                [-72.70751953125,-35.55407805098183]]]\n",
    "bounds = ee.Geometry.Polygon(rough_coords)\n",
    "\n",
    "\n",
    "# chile_comunas = ee.FeatureCollection('ft:1MIVtGXFEu3ONr87OPP7JV1_vCs9W3sJEuZDuzkzb')\n",
    "# chile_comunas = chile_comunas.filter(ee.Filter.inList('id_1', [15, 13, 8, 12, 6, 3, 10, 9]))\n",
    "# def simplify(feature):\n",
    "#     feature = feature.simplify(1)\n",
    "# chile_comunas = chile_comunas.map(simplify, True)\n",
    "\n",
    "\n",
    "# chile = ee.Feature(ee.FeatureCollection('ft:1tdSwUL7MVpOauSgRzqVTOwdfy17KDbw-1d9omPw')\\\n",
    "#             .filterMetadata('Country', 'equals', 'Chile').first()).geometry().getInfo()\n",
    "\n",
    "# # regions = ee.FeatureCollection('ft:1RfoT4UoTohqmJJrNkMT5Jyp95SahGk5f9V355SnH')\n",
    "# # regions = regions.filter(ee.Filter.inList('COD_REG', ['05', '06', '07', '08', '09', '10', '13', '14']))\n",
    "# # reg = regions.filterMetadata('COD_REG', 'equals', '08')\n",
    "coefs_csv = '/rheil/chile/data/pooled_coefs.csv'\n",
    "coefs_se_csv = '/rheil/chile/data/pooled_se.csv'\n",
    "asset_dir = 'users/rheilmayr/chile_sim/input/'\n",
    "out_dir = 'users/rheilmayr/chile_sim/simulation/'\n",
    "\n",
    "sample_region = ee.Algorithms.GeometryConstructors.Polygon([[-73.25,-37.4], [-73.25,-37.6], \n",
    "    [-73,-37.6], [-73,-37.4], [-73.25,-37.4]])\n",
    "sample_region = ee.Feature(sample_region)\n",
    "\n",
    "np.random.seed(1235)"
   ]
  },
  {
   "cell_type": "code",
   "execution_count": 20,
   "metadata": {
    "collapsed": false
   },
   "outputs": [],
   "source": [
    "n = 1\n",
    "scn_key = 'rs'\n",
    "scale = 30\n",
    "reg_id = '08'"
   ]
  },
  {
   "cell_type": "code",
   "execution_count": 21,
   "metadata": {
    "collapsed": false
   },
   "outputs": [],
   "source": [
    "base_dict ={'agrent': asset_dir + 'agrent_01',\n",
    "            'forrent': asset_dir + 'forrent',\n",
    "            'south': asset_dir + 'south',\n",
    "            'central': asset_dir + 'central',\n",
    "            'noprot': asset_dir + 'noprot',\n",
    "            'luq2': asset_dir + 'luq2',\n",
    "            'luq3': asset_dir + 'luq3',\n",
    "            'mask': asset_dir + 'mask'}\n",
    "\n",
    "map_dicts = {key: base_dict.copy() for key in ['01_sub', '01_ns', '11_rs', '11_ns', '11_sub']}\n",
    "map_dicts['01_sub'].update({'plantrent': asset_dir + 'plantrent_01',\n",
    "                            'olu': asset_dir + 'olu_1986'})\n",
    "map_dicts['01_ns'].update({'plantrent': asset_dir + 'plantrent_01_ns',\n",
    "                           'olu': asset_dir + 'olu_1986'})\n",
    "map_dicts['11_rs'].update({'plantrent': asset_dir + 'plantrent_11_rs'})\n",
    "map_dicts['11_ns'].update({'plantrent': asset_dir + 'plantrent_11_ns'})\n",
    "map_dicts['11_sub'].update({'plantrent': asset_dir + 'plantrent_11'})\n",
    "\n",
    "scn_dict = {'sub': ['01_sub', '11_sub'],\n",
    "            'ns': ['01_ns', '11_ns'],\n",
    "            'rs': ['01_sub', '11_rs']}"
   ]
  },
  {
   "cell_type": "markdown",
   "metadata": {},
   "source": [
    "Run simulation"
   ]
  },
  {
   "cell_type": "code",
   "execution_count": 22,
   "metadata": {
    "collapsed": false
   },
   "outputs": [],
   "source": [
    "# Load period 1 input ic\n",
    "input_ic_p1 = simulation.dict_to_input_ic(map_dicts[scn_dict[scn_key][0]], n)\n",
    "\n",
    "# Run period 1 simulation\n",
    "#pr_ic_p1, cum_pr_ic_p1, clas_ic_p1 = simulation.sim_flow(input_ic_p1, coefs_csv, coefs_se_csv, n)\n",
    "pr_ic_p1, cum_pr_ic_p1, clas_ic_p1 = simulation.sim_flow_norand(input_ic_p1, coefs_csv)\n",
    "\n",
    "# Load period 2 input ic, add period 1 simulated map\n",
    "input_ic_p2 = simulation.dict_to_input_ic(map_dicts[scn_dict[scn_key][1]], n)\n",
    "rename_olu = gee_tools.band_renamer(['clas'], ['olu'])\n",
    "clas_ic_p1 = clas_ic_p1.map(rename_olu)\n",
    "input_ic_p2 = input_ic_p2.combine(clas_ic_p1)\n",
    "\n",
    "# Run period 2 simulation\n",
    "pr_ic_p2, cum_pr_ic_p2, clas_ic_p2 = simulation.sim_flow(input_ic_p2, coefs_csv, coefs_se_csv, n)"
   ]
  },
  {
   "cell_type": "markdown",
   "metadata": {},
   "source": [
    "Export classifications to assets"
   ]
  },
  {
   "cell_type": "code",
   "execution_count": null,
   "metadata": {
    "collapsed": true
   },
   "outputs": [],
   "source": []
  },
  {
   "cell_type": "code",
   "execution_count": 15,
   "metadata": {
    "collapsed": false
   },
   "outputs": [],
   "source": [
    "exports = []\n",
    "for i in range(0,n):\n",
    "    img = clas_ic_p2.toList(count = 1, offset = i).get(0)\n",
    "    exports.append(ee.batch.Export.image.toAsset(image = img, description = 'clas_' + scn_key + str(i), \n",
    "                                           assetId = 'users/rheilmayr/chile_sim/sim_ic/clas_' + scn_key + '_' + str(i),\n",
    "                                           scale = scale, maxPixels = 1e11, region = bounds))\n",
    "\n",
    "\n",
    "    "
   ]
  },
  {
   "cell_type": "code",
   "execution_count": 16,
   "metadata": {
    "collapsed": true
   },
   "outputs": [],
   "source": [
    "i = 0\n",
    "img = clas_ic_p2.toList(count = 1, offset = i).get(0)\n",
    "ee.batch.Export.image.toAsset(image = img, description = 'clas_' + scn_key + str(i), \n",
    "                              assetId = 'users/rheilmayr/chile_sim/sim_ic/clas_' + scn_key + '_' + str(i),\n",
    "                              scale = scale, maxPixels = 1e11, region = bounds).start()\n"
   ]
  },
  {
   "cell_type": "code",
   "execution_count": 17,
   "metadata": {
    "collapsed": false
   },
   "outputs": [],
   "source": [
    "for export in exports[1:]:\n",
    "    export.start()"
   ]
  },
  {
   "cell_type": "markdown",
   "metadata": {},
   "source": [
    "Tabulate results"
   ]
  },
  {
   "cell_type": "code",
   "execution_count": 23,
   "metadata": {
    "collapsed": false
   },
   "outputs": [],
   "source": [
    "regions = ee.Image(asset_dir + 'regions')\n",
    "class add_region_map:\n",
    "    def __init__(self, regions):\n",
    "        self.regions = regions\n",
    "    def __call__(self, img):\n",
    "        img = regions.multiply(100).add(img)\n",
    "        return img\n",
    "add_region_mapper = add_region_map(regions)    \n",
    "clas_ic_p2_reg = clas_ic_p2.map(add_region_mapper)\n",
    "#clas_ic_p2_reg.getInfo()"
   ]
  },
  {
   "cell_type": "code",
   "execution_count": 24,
   "metadata": {
    "collapsed": false
   },
   "outputs": [],
   "source": [
    "regions = [5, 6, 7, 8, 9, 10, 13, 14]\n",
    "lu_types = [1, 3, 5, 19]\n",
    "import itertools\n",
    "values = []\n",
    "for r in itertools.product(regions, lu_types):\n",
    "    values.append(r[0] * 100 + r[1])\n",
    "# img = ee.Image(clas_ic_p2_reg.first())\n",
    "\n",
    "class sum_clas_map:\n",
    "    def __init__(self, values, scale):\n",
    "        self.values = values\n",
    "        self.old_bands = ['constant']\n",
    "        self.old_bands.extend(['constant_' + str(i+1) for i in range(len(values)-1)])\n",
    "        self.new_bands = ['cr_' + str(v) for v in values]\n",
    "        self.scale = scale\n",
    "    def __call__(self, img):\n",
    "#        img = img.clip(sample_region)\n",
    "        areas_img = img.eq(self.values).multiply(ee.Image.pixelArea().divide(1e7))\n",
    "        areas_img = areas_img.select(self.old_bands, self.new_bands)\n",
    "#        areas_dict = areas_img.reduceRegion(reducer = ee.Reducer.sum(), scale = self.scale, \n",
    "#                                            maxPixels = 1e11)\n",
    "        areas_dict = areas_img.reduceRegion(reducer = ee.Reducer.sum(), scale = self.scale, \n",
    "                                            maxPixels = 1e11, geometry = bounds)\n",
    "        out_point = ee.Feature(ee.Geometry.Point(0, 0))\n",
    "        out_point = out_point.set(areas_dict)\n",
    "        return out_point\n"
   ]
  },
  {
   "cell_type": "code",
   "execution_count": 25,
   "metadata": {
    "collapsed": false
   },
   "outputs": [],
   "source": [
    "sum_clas_mapper = sum_clas_map(values, scale)\n",
    "clas_sum_fc = clas_ic_p2_reg.map(sum_clas_mapper)"
   ]
  },
  {
   "cell_type": "code",
   "execution_count": 26,
   "metadata": {
    "collapsed": false
   },
   "outputs": [],
   "source": [
    "task = ee.batch.Export.table.toDrive(collection = clas_sum_fc, \n",
    "                                     description = 'lusim_n' + str(n) + '_s' + str(scale) + '_' + scn_key, \n",
    "                                     folder = 'chile/sim/', fileFormat = 'csv')\n",
    "task.start()"
   ]
  },
  {
   "cell_type": "markdown",
   "metadata": {
    "collapsed": false
   },
   "source": [
    "Single region tabulation"
   ]
  },
  {
   "cell_type": "code",
   "execution_count": null,
   "metadata": {
    "collapsed": true
   },
   "outputs": [],
   "source": [
    "class reg_clip_map:\n",
    "    def __init__(self, region):\n",
    "        self.region = region\n",
    "    def __call__(self, img):\n",
    "        img = img.clip(self.region)\n",
    "        return img\n",
    "\n",
    "values = [1, 3, 5, 19]\n",
    "regions = ee.FeatureCollection('ft:1RfoT4UoTohqmJJrNkMT5Jyp95SahGk5f9V355SnH')\n",
    "regions = regions.filter(ee.Filter.inList('COD_REG', ['05', '06', '07', '08', '09', '10', '13', '14']))\n",
    "reg = regions.filterMetadata('COD_REG', 'equals', reg_id)\n",
    "reg_clip_mapper = reg_clip_map(reg)\n",
    "clas_ic_p2_reg = clas_ic_p2.map(reg_clip_mapper)\n",
    "sum_clas_mapper = sum_clas_map(values, scale)\n",
    "clas_sum_fc = clas_ic_p2_reg.map(sum_clas_mapper)    \n",
    "task = ee.batch.Export.table.toDrive(collection = clas_sum_fc, \n",
    "                                     description = 'lusim_n' + str(n) + '_s' + str(scale) + '_r' + reg_id + '_' + scn_key, \n",
    "                                     folder = 'chile/sim/', fileFormat = 'csv')\n",
    "task.start()"
   ]
  },
  {
   "cell_type": "code",
   "execution_count": null,
   "metadata": {
    "collapsed": true
   },
   "outputs": [],
   "source": []
  },
  {
   "cell_type": "code",
   "execution_count": null,
   "metadata": {
    "collapsed": true
   },
   "outputs": [],
   "source": []
  },
  {
   "cell_type": "code",
   "execution_count": null,
   "metadata": {
    "collapsed": true
   },
   "outputs": [],
   "source": []
  },
  {
   "cell_type": "code",
   "execution_count": null,
   "metadata": {
    "collapsed": true
   },
   "outputs": [],
   "source": []
  },
  {
   "cell_type": "markdown",
   "metadata": {
    "collapsed": true
   },
   "source": [
    "Tabulate results (region by region)"
   ]
  },
  {
   "cell_type": "code",
   "execution_count": 7,
   "metadata": {
    "collapsed": false
   },
   "outputs": [],
   "source": [
    "region_bounds = {5: [[[-72.13348388671875,-34.143271868329485], \n",
    "                      [-69.89501953125,-33.13681647430008],\n",
    "                      [-70.12023917399347,-31.87214800755421],\n",
    "                      [-71.79565421305597,-32.142317351767744],\n",
    "                      [-72.13348388671875,-34.143271868329485]]],\n",
    "                 13: [[[-72.22412109375,-34.060307027573366],\n",
    "                       [-69.697265625,-34.36919591276987],\n",
    "                       [-69.63134765625,-32.859658269759734],\n",
    "                       [-72.1142578125,-32.859658269759734],\n",
    "                       [-72.22412109375,-34.060307027573366]]],\n",
    "#                  6: [[]],\n",
    "#                  7: [[]],\n",
    "#                  8: [[]],\n",
    "#                  9: [[]],\n",
    "                 14: [[[-73.916015625,-40.35866682438446],\n",
    "                       [-71.65283203125,-40.91723140476455],\n",
    "                       [-71.3671875,-39.49088288923408],\n",
    "                       [-73.6138916015625,-39.16795653371165],\n",
    "                       [-73.916015625,-40.35866682438446]]],\n",
    "                 10: [[[-73.89404296875,-40.05950548053006],\n",
    "                       [-74.6630859375,-43.33949606998904],\n",
    "                       [-71.56494107097387,-44.337928878298605],\n",
    "                       [-71.4495849609375,-40.661672432741554],\n",
    "                       [-73.89404296875,-40.05950548053006]]]}\n",
    "region_bounds = {key: ee.Geometry.Polygon(bounds).toGeoJSON() for key, bounds in region_bounds.items()}\n",
    "# bounds = ee.Geometry.Polygon(rough_coords).toGeoJSON()['coordinates']\n",
    "# region_bounds"
   ]
  },
  {
   "cell_type": "code",
   "execution_count": 8,
   "metadata": {
    "collapsed": false
   },
   "outputs": [],
   "source": [
    "region_img = ee.Image(asset_dir + 'regions')\n",
    "class add_region_map:\n",
    "    def __init__(self, region_img):\n",
    "        self.region_img = region_img\n",
    "    def __call__(self, img):\n",
    "        img = self.region_img.multiply(100).add(img)\n",
    "        return img\n",
    "add_region_mapper = add_region_map(region_img)    \n",
    "clas_ic_p2_reg = clas_ic_p2.map(add_region_mapper)"
   ]
  },
  {
   "cell_type": "code",
   "execution_count": 13,
   "metadata": {
    "collapsed": false
   },
   "outputs": [],
   "source": [
    "regions = [5]\n",
    "region = regions[0]\n",
    "lu_types = [1, 3, 5, 19]\n",
    "import itertools\n",
    "values = []\n",
    "for r in itertools.product(regions, lu_types):\n",
    "    values.append(r[0] * 100 + r[1])\n",
    "# img = ee.Image(clas_ic_p2_reg.first())\n",
    "\n",
    "masker = gee_tools.mask_update_map(region_img.eq(region))\n",
    "tab_ic = clas_ic_p2_reg.map(masker)\n",
    "\n",
    "class sum_clas_map:\n",
    "    def __init__(self, values, scale, bounds):\n",
    "        self.values = values\n",
    "        self.old_bands = ['constant']\n",
    "        self.old_bands.extend(['constant_' + str(i+1) for i in range(len(values)-1)])\n",
    "        self.new_bands = ['cr_' + str(v) for v in values]\n",
    "        self.scale = scale\n",
    "        self.bounds = bounds\n",
    "    def __call__(self, img):\n",
    "#         img = img.clip(sample_region)\n",
    "        areas_img = img.eq(self.values).multiply(ee.Image.pixelArea().divide(1e7))\n",
    "        areas_img = areas_img.select(self.old_bands, self.new_bands)\n",
    "        areas_dict = areas_img.reduceRegion(reducer = ee.Reducer.sum(), scale = self.scale, \n",
    "                                            maxPixels = 1e11, geometry = self.bounds)\n",
    "        out_point = ee.Feature(ee.Geometry.Point(0, 0))\n",
    "        out_point = out_point.set(areas_dict)\n",
    "        return out_point\n"
   ]
  },
  {
   "cell_type": "code",
   "execution_count": 14,
   "metadata": {
    "collapsed": false
   },
   "outputs": [],
   "source": [
    "sum_clas_mapper = sum_clas_map(values, scale, region_bounds[region])\n",
    "clas_sum_fc = clas_ic_p2_reg.map(sum_clas_mapper)"
   ]
  },
  {
   "cell_type": "code",
   "execution_count": 15,
   "metadata": {
    "collapsed": true
   },
   "outputs": [],
   "source": [
    "task = ee.batch.Export.table.toDrive(collection = clas_sum_fc, \n",
    "                                     description = 'lusim_n' + str(n) + '_s' + str(scale) + \\\n",
    "                                     '_' + scn_key +'_r' +str(region), \n",
    "                                     folder = 'chile/sim/', fileFormat = 'csv')\n",
    "task.start()"
   ]
  },
  {
   "cell_type": "code",
   "execution_count": null,
   "metadata": {
    "collapsed": true
   },
   "outputs": [],
   "source": []
  },
  {
   "cell_type": "code",
   "execution_count": null,
   "metadata": {
    "collapsed": true
   },
   "outputs": [],
   "source": [
    "\n",
    "\n"
   ]
  },
  {
   "cell_type": "markdown",
   "metadata": {},
   "source": [
    "Deprecated code?"
   ]
  },
  {
   "cell_type": "code",
   "execution_count": null,
   "metadata": {
    "collapsed": false
   },
   "outputs": [],
   "source": [
    "clas_map = ee.Image(asset_dir + 'olu_1986')\n",
    "regions = ee.Image(asset_dir + 'regions')\n",
    "add_region_mapper = add_region_map(regions)    \n",
    "clas_map = add_region_mapper(clas_map)\n",
    "scale = 30\n",
    "sum_clas_mapper = sum_clas_map(values, scale)\n",
    "clas_sum_fc = ee.FeatureCollection(sum_clas_mapper(clas_map))"
   ]
  },
  {
   "cell_type": "code",
   "execution_count": null,
   "metadata": {
    "collapsed": true
   },
   "outputs": [],
   "source": [
    "task = ee.batch.Export.table.toDrive(collection = clas_sum_fc, \n",
    "                                     description = 'olu_1986' + '_s' + str(scale), \n",
    "                                     folder = 'chile/sim/', fileFormat = 'csv')\n",
    "task.start()"
   ]
  },
  {
   "cell_type": "code",
   "execution_count": null,
   "metadata": {
    "collapsed": false
   },
   "outputs": [],
   "source": []
  },
  {
   "cell_type": "code",
   "execution_count": null,
   "metadata": {
    "collapsed": true
   },
   "outputs": [],
   "source": []
  },
  {
   "cell_type": "code",
   "execution_count": null,
   "metadata": {
    "collapsed": false
   },
   "outputs": [],
   "source": [
    "def sum_clas_area(img, clas, fc, scale = 30, n = 1):\n",
    "    \"\"\"\n",
    "    Parameters\n",
    "    ----------\n",
    "    img: ee.Image\n",
    "        Classified image\n",
    "       \n",
    "    clas: int\n",
    "        Class to calculate area (thousand has) over\n",
    "    \n",
    "    fc: ee.FeatureCollection\n",
    "        Features to sum within\n",
    "        \n",
    "    scale: scale\n",
    "        ee scale parameter\n",
    "        \n",
    "    n: int\n",
    "        Number of classified bands included in img. Allows for\n",
    "        comparison of areas resulting from different classified maps\n",
    "       \n",
    "    Returns\n",
    "    ------\n",
    "    fc: ee.FeatureCollection\n",
    "        fc, but with new properties summing the area of the class\n",
    "        within each feature, for each classified band of the img\n",
    "    \"\"\"\n",
    "    binary_img = img.eq(clas)\n",
    "    clasarea_img = binary_img.multiply(ee.Image.pixelArea().divide(1e7))\n",
    "    new_bands = ['c' + str(clas) + '_' + str(i) for i in range(n)]\n",
    "    clasarea_img = clasarea_img.select(img_bands, new_bands)\n",
    "    fc = clasarea_img.reduceRegions(collection = fc, scale = scale, reducer = ee.Reducer.sum())\n",
    "    return fc\n",
    "\n",
    "\n",
    "clas_img = clas_ic_p2.iterate(gee_tools.band_aggregator, ee.Image())\n",
    "img_bands = ['clas_' + str(i+1) for i in range(n-1)]\n",
    "img_bands.extend(['clas'])\n",
    "clas_img = ee.Image(clas_img).select(img_bands)\n",
    "for c in [1, 3, 5, 19]:\n",
    "    chile_comunas = sum_clas_area(clas_img, c, chile_comunas, 500, n)"
   ]
  },
  {
   "cell_type": "code",
   "execution_count": null,
   "metadata": {
    "collapsed": true
   },
   "outputs": [],
   "source": [
    "task = ee.batch.Export.table.toDrive(collection = chile_comunas, description = 'lusim_n' + str(n) + '_' + scn_key, \n",
    "                                     folder = 'chile/sim/', fileFormat = 'csv')\n",
    "task.start()"
   ]
  },
  {
   "cell_type": "code",
   "execution_count": null,
   "metadata": {
    "collapsed": true
   },
   "outputs": [],
   "source": [
    "task = ee.batch.Export.image.toAsset(image = ee.Image(cum_pr_ic_p2.first()).clip(sample_region), description = 'cum_pr_img_clip_2', \n",
    "                                     assetId = 'users/rheilmayr/chile_sim/simulations/cum_pr_clip_2', \n",
    "                                     scale = 30, maxPixels = 1e10)\n",
    "task.start()\n",
    "task = ee.batch.Export.image.toAsset(image = ee.Image(pr_ic_p2.first()).clip(sample_region), description = 'pr_img_clip_2', \n",
    "                                     assetId = 'users/rheilmayr/chile_sim/simulations/pr_clip_2', \n",
    "                                     scale = 30, maxPixels = 1e10)\n",
    "task.start()\n",
    "task = ee.batch.Export.image.toAsset(image = ee.Image(clas_ic_p2.first()).clip(sample_region), description = 'clas_img_clip_2', \n",
    "                                     assetId = 'users/rheilmayr/chile_sim/simulations/clas_clip_2', \n",
    "                                     scale = 30, maxPixels = 1e10)\n",
    "task.start()\n"
   ]
  },
  {
   "cell_type": "code",
   "execution_count": null,
   "metadata": {
    "collapsed": false
   },
   "outputs": [],
   "source": [
    "task = ee.batch.Export.image.toAsset(image = ee.Image(clas_img), description = 'clas_img', \n",
    "                                     assetId = 'users/rheilmayr/chile_sim/simulations/clas_img_ns', \n",
    "                                     scale = 500, maxPixels = 1e10)\n",
    "task.start()\n"
   ]
  },
  {
   "cell_type": "code",
   "execution_count": null,
   "metadata": {
    "collapsed": false
   },
   "outputs": [],
   "source": [
    "time_period = 'pooled'\n",
    "n = 3\n",
    "coefs_df = simulation.load_coefs(coefs_csv, time_period)\n",
    "coefs_se_df = simulation.load_coefs(coefs_se_csv, time_period)\n",
    "\n",
    "x = draws.pop()\n",
    "len(draws)"
   ]
  },
  {
   "cell_type": "code",
   "execution_count": null,
   "metadata": {
    "collapsed": true
   },
   "outputs": [],
   "source": [
    "results_dir = '/rheil/notebooks/data/gee_results/'\n",
    "results_dict  = {key: results_dir + 'lusim_n6_' + key + '.csv' for key in ['sub', 'ns', 'rs']}\n",
    "results_df_dict = {}\n",
    "for key, result in results_dict.items():\n",
    "    results_df_dict[key] = pd.read_csv(result)\n",
    "results_df = pd.concat(results_df_dict)\n",
    "results_df = results_df.set_index('COD_REG', append = True)\n",
    "keep_cols = [col for col in results_df.columns if col[0] == 'c']\n",
    "results_df = results_df[keep_cols]\n",
    "clas = [col[1:col.rfind('_')] for col in results_df.columns]\n",
    "run = [col[col.rfind('_')+1:] for col in results_df.columns]\n",
    "results_df = results_df.T\n",
    "results_df['clas'] = clas\n",
    "results_df['run'] = run\n",
    "results_df = results_df.set_index(['clas', 'run'])"
   ]
  },
  {
   "cell_type": "code",
   "execution_count": null,
   "metadata": {
    "collapsed": false
   },
   "outputs": [],
   "source": [
    "results_df.sum(axis = 1, level = 0).loc['1']['ns']"
   ]
  },
  {
   "cell_type": "code",
   "execution_count": null,
   "metadata": {
    "collapsed": false
   },
   "outputs": [],
   "source": [
    "ax = sns.kdeplot(results_df.sum(axis = 1, level = 0).loc['1']['ns'], results_df.sum(axis = 1, level = 0).loc['3']['ns'],\n",
    "                 cmap=\"Reds\", shade=True, shade_lowest=False)\n",
    "ax = sns.kdeplot(results_df.sum(axis = 1, level = 0).loc['1']['sub'], results_df.sum(axis = 1, level = 0).loc['3']['sub'],\n",
    "                 cmap=\"Greens\", shade=True, shade_lowest=False)\n",
    "ax = sns.kdeplot(results_df.sum(axis = 1, level = 0).loc['1']['rs'], results_df.sum(axis = 1, level = 0).loc['3']['rs'],\n",
    "                 cmap=\"Blues\", shade=True, shade_lowest=False)"
   ]
  },
  {
   "cell_type": "code",
   "execution_count": null,
   "metadata": {
    "collapsed": false
   },
   "outputs": [],
   "source": [
    "task = ee.batch.Export.image.toAsset(image = ee.Image(cum_pr_ic_p2.first()).clip(sample_region), description = 'cum_pr_img_clip_2', \n",
    "                                     assetId = 'users/rheilmayr/chile_sim/simulations/cum_pr_clip_2', \n",
    "                                     scale = 30, maxPixels = 1e10)\n",
    "task.start()\n",
    "task = ee.batch.Export.image.toAsset(image = ee.Image(pr_ic_p2.first()).clip(sample_region), description = 'pr_img_clip_2', \n",
    "                                     assetId = 'users/rheilmayr/chile_sim/simulations/pr_clip_2', \n",
    "                                     scale = 30, maxPixels = 1e10)\n",
    "task.start()\n",
    "task = ee.batch.Export.image.toAsset(image = ee.Image(clas_ic_p2.first()).clip(sample_region), description = 'clas_img_clip_2', \n",
    "                                     assetId = 'users/rheilmayr/chile_sim/simulations/clas_clip_2', \n",
    "                                     scale = 30, maxPixels = 1e10)\n",
    "task.start()\n",
    "# task = ee.batch.Export.image.toAsset(image = ee.Image(cum_pr_ic_p1.first()).clip(sample_region), description = 'cum_pr_img_clip_1', \n",
    "#                                      assetId = 'users/rheilmayr/chile_sim/simulations/cum_pr_clip_1', \n",
    "#                                      scale = 30, maxPixels = 1e10)\n",
    "# task.start()\n",
    "# task = ee.batch.Export.image.toAsset(image = ee.Image(pr_ic_p1.first()).clip(sample_region), description = 'pr_img_clip_1', \n",
    "#                                      assetId = 'users/rheilmayr/chile_sim/simulations/pr_clip_1', \n",
    "#                                      scale = 30, maxPixels = 1e10)\n",
    "# task.start()\n",
    "# task = ee.batch.Export.image.toAsset(image = ee.Image(clas_ic_p1.first()).clip(sample_region), description = 'clas_img_clip_1', \n",
    "#                                      assetId = 'users/rheilmayr/chile_sim/simulations/clas_clip_1', \n",
    "#                                      scale = 30, maxPixels = 1e10)\n",
    "# task.start()"
   ]
  },
  {
   "cell_type": "code",
   "execution_count": null,
   "metadata": {
    "collapsed": false
   },
   "outputs": [],
   "source": [
    "task = ee.batch.Export.image.toAsset(image = ee.Image(cum_pr_ic_p2.first()), description = 'cum_pr_img', \n",
    "                                     assetId = 'users/rheilmayr/chile_sim/simulations/cum_pr', \n",
    "                                     scale = 30, maxPixels = 1e10)\n",
    "task.start()\n",
    "task = ee.batch.Export.image.toAsset(image = ee.Image(pr_ic_p2.first()), description = 'pr_img', \n",
    "                                     assetId = 'users/rheilmayr/chile_sim/simulations/pr', \n",
    "                                     scale = 30, maxPixels = 1e10)\n",
    "task.start()\n",
    "task = ee.batch.Export.image.toAsset(image = ee.Image(clas_ic_p2.first()), description = 'clas_img', \n",
    "                                     assetId = 'users/rheilmayr/chile_sim/simulations/clas', \n",
    "                                     scale = 30, maxPixels = 1e10)\n",
    "task.start()"
   ]
  },
  {
   "cell_type": "code",
   "execution_count": null,
   "metadata": {
    "collapsed": false
   },
   "outputs": [],
   "source": [
    "# task = ee.batch.Export.image.toAsset(image = ee.Image(input_ic_p2.first()).clip(sample_region), description = 'input_p2', \n",
    "#                                      assetId = 'users/rheilmayr/chile_sim/simulations/inputs_p2', \n",
    "#                                      scale = 30, maxPixels = 1e10)\n",
    "# task.start()\n",
    "task = ee.batch.Export.image.toAsset(image = ee.Image(input_ic_p1.first()).clip(sample_region), description = 'input_p1', \n",
    "                                     assetId = 'users/rheilmayr/chile_sim/simulations/inputs_p1', \n",
    "                                     scale = 30, maxPixels = 1e10)\n",
    "task.start()"
   ]
  },
  {
   "cell_type": "code",
   "execution_count": null,
   "metadata": {
    "collapsed": false
   },
   "outputs": [],
   "source": []
  },
  {
   "cell_type": "code",
   "execution_count": null,
   "metadata": {
    "collapsed": false
   },
   "outputs": [],
   "source": []
  },
  {
   "cell_type": "code",
   "execution_count": null,
   "metadata": {
    "collapsed": false
   },
   "outputs": [],
   "source": [
    "results_df.sum(axis = 1)"
   ]
  },
  {
   "cell_type": "code",
   "execution_count": null,
   "metadata": {
    "collapsed": true
   },
   "outputs": [],
   "source": []
  },
  {
   "cell_type": "code",
   "execution_count": null,
   "metadata": {
    "collapsed": true
   },
   "outputs": [],
   "source": []
  },
  {
   "cell_type": "code",
   "execution_count": null,
   "metadata": {
    "collapsed": false
   },
   "outputs": [],
   "source": [
    "luq2 = ee.Image(asset_dir + 'luq2')\n",
    "luq3 = ee.Image(asset_dir + 'luq3')\n",
    "noprot = ee.Image(asset_dir + 'noprot')\n",
    "central = ee.Image(asset_dir + 'central')\n",
    "south = ee.Image(asset_dir + 'south')\n",
    "agrent01 = ee.Image(asset_dir + 'agrent_01')\n",
    "agrent11 = ee.Image(asset_dir + 'agrent_11')\n",
    "plantrent01 = ee.Image(asset_dir + 'plantrent_01')\n",
    "plantrent11 = ee.Image(asset_dir + 'plantrent_11')\n",
    "forrent = ee.Image(asset_dir + 'forrent')\n",
    "olu_1986 = ee.Image(asset_dir + 'olu_1986')\n",
    "mask = (luq2.eq(0).Or(luq2.eq(1)))\\\n",
    "            .And(luq3.eq(0).Or(luq3.eq(1)))\\\n",
    "            .And(noprot.eq(0).Or(noprot.eq(1)))\\\n",
    "            .And(central.eq(0).Or(central.eq(1)))\\\n",
    "            .And(south.eq(0).Or(south.eq(1)))\\\n",
    "            .And(agrent01.gt(-3.4e38))\\\n",
    "            .And(agrent11.gt(-3.4e38))\\\n",
    "            .And(plantrent01.gt(-3.4e38))\\\n",
    "            .And(plantrent11.gt(-3.4e38))\\\n",
    "            .And(forrent.gt(-3.4e38))\\\n",
    "            .And(olu_1986.eq(1).Or(olu_1986.eq(3)).Or(olu_1986.eq(5)).Or(olu_1986.eq(19)))\n",
    "        \n",
    "task = ee.batch.Export.image.toAsset(image = mask, description = 'mask', \n",
    "                                     assetId = 'users/rheilmayr/chile_sim/inputs/mask_new', \n",
    "                                     scale = 30, maxPixels = 1e10)\n",
    "task.start()\n"
   ]
  },
  {
   "cell_type": "code",
   "execution_count": null,
   "metadata": {
    "collapsed": false
   },
   "outputs": [],
   "source": [
    "# var multiMax = function(feature) {\n",
    "#   // Reduce to mean value the input polygon for each image\n",
    "#   var means = collection.map(function(image) {\n",
    "#       var a = image.reduceRegion({\n",
    "#         reducer: ee.Reducer.mean(),\n",
    "#         geometry: feature.geometry(),\n",
    "#         scale: 250\n",
    "#       });\n",
    "#       // Extract the reduced value from the returned dictionary and add it \n",
    "#       // to the image as property 'mean'.\n",
    "#       image = image.set('mean', a.get('EVI'));\n",
    "#       return image;\n",
    "#   });\n",
    "\n",
    "class multiMapAreas:\n",
    "    def __init__(self, ic):\n",
    "        self.ic = ic\n",
    "    def sum_features(self, feature):\n",
    "        self.feature = feature\n",
    "        areas_ic = self.ic.map(self.sum_img)\n",
    "        return areas_ic\n",
    "    def sum_img(self, img):\n",
    "        areas = img.reduceRegion(reducer = ee.Reducer.sum(),\n",
    "                                 geometry = self.feature.geometry(),\n",
    "                                 scale = 500)\n",
    "        clases = ['for', 'plant', 'shrub', 'ag']\n",
    "        clas_dict = {}\n",
    "        for clas in clases:\n",
    "            clas_dict[clas] = areas.get(clas)\n",
    "        img = img.set(clas_dict)\n",
    "        return img\n",
    "    \n",
    "# def sum_ic(feature):\n",
    "#     def sum_img(img):\n",
    "#         areas = img.reduceRegion(reducer = ee.Reducer.sum(),\n",
    "#                                  geometry = feature.geometry(),\n",
    "#                                  scale = 500)\n",
    "#         return areas\n",
    "#     areas = clas_ic.map(sum_img)\n",
    "#     clases = ['for', 'plant', 'shrub', 'ag']\n",
    "#     clas_dict = {}\n",
    "#     for clas in clases:\n",
    "#         clas_dict[clas] = areas.get(clas)\n",
    "#     img = img.set(clas_dict)\n",
    "#     return img\n",
    "\n",
    "# clas_ic = clas_ic.map(sum_freqs)\n",
    "# clas_info = clas_ic.getInfo()"
   ]
  },
  {
   "cell_type": "code",
   "execution_count": null,
   "metadata": {
    "collapsed": false
   },
   "outputs": [],
   "source": [
    "multiMapper = multiMapAreas(clas_ic)\n",
    "areas_ic = regions.map(multiMapper.sum_features)\n",
    "areas_ic.getInfo()"
   ]
  },
  {
   "cell_type": "code",
   "execution_count": null,
   "metadata": {
    "collapsed": false
   },
   "outputs": [],
   "source": [
    "img = ee.Image(clas_ic.first())\n",
    "feature = ee.Feature(reg.first())\n",
    "\n",
    "def sum_img(img):\n",
    "    areas = img.reduceRegion(reducer = ee.Reducer.sum(),\n",
    "                             geometry = feature.geometry(),\n",
    "                             scale = 500)\n",
    "    clases = ['for', 'plant', 'shrub', 'ag']\n",
    "    clas_dict = {}\n",
    "    img_id = img.get('system:index')\n",
    "    for clas in clases:\n",
    "        clas_dict['r' + img_id + '_' + clas] = areas.get(clas)\n",
    "    img = img.set(clas_dict)\n",
    "    return img\n",
    "sum_img(img).getInfo()"
   ]
  },
  {
   "cell_type": "code",
   "execution_count": null,
   "metadata": {
    "collapsed": false
   },
   "outputs": [],
   "source": []
  },
  {
   "cell_type": "code",
   "execution_count": null,
   "metadata": {
    "collapsed": false
   },
   "outputs": [],
   "source": [
    "clas_img = ee.Image(clas_ic.first())\n",
    "area_img = clas_img.multiply(ee.Image.pixelArea().divide(10000000))\n",
    "def add_areas(feature):\n",
    "    clases = ['for', 'plant', 'shrub', 'ag']\n",
    "    areas = area_img.reduceRegion(reducer = ee.Reducer.sum(), \n",
    "                                    geometry = feature.geometry(), \n",
    "                                    scale = 1000, \n",
    "                                    maxPixels = 1e10)\n",
    "    clas_dict = {}\n",
    "    for clas in clases:\n",
    "        clas_dict[clas] = areas.get(clas)\n",
    "    feature = feature.set(clas_dict)\n",
    "    return feature\n",
    "\n",
    "out_regions = regions.map(add_areas)"
   ]
  },
  {
   "cell_type": "code",
   "execution_count": null,
   "metadata": {
    "collapsed": false
   },
   "outputs": [],
   "source": [
    "out_dict = {}\n",
    "for i, region_dict in enumerate(test_info['features']):\n",
    "    out_dict[i] = region_dict['properties']\n",
    "out_df = pd.DataFrame(out_dict)\n",
    "out_df = out_df.T\n",
    "out_df = out_df.set_index('COD_REG').sort_index()\n",
    "out_df[['for', 'plant', 'shrub', 'ag']]"
   ]
  },
  {
   "cell_type": "code",
   "execution_count": null,
   "metadata": {
    "collapsed": false
   },
   "outputs": [],
   "source": []
  },
  {
   "cell_type": "code",
   "execution_count": null,
   "metadata": {
    "collapsed": false
   },
   "outputs": [],
   "source": [
    "stats = clas_img.reduceRegion(reducer = ee.Reducer.frequencyHistogram(), \n",
    "                                      geometry = reg, \n",
    "                                      scale = 100, \n",
    "                                      maxPixels = 9e9)\n",
    "stats.getInfo()"
   ]
  },
  {
   "cell_type": "code",
   "execution_count": null,
   "metadata": {
    "collapsed": false
   },
   "outputs": [],
   "source": []
  },
  {
   "cell_type": "code",
   "execution_count": null,
   "metadata": {
    "collapsed": false
   },
   "outputs": [],
   "source": [
    "Image(url=clas_img.select('for').getThumbUrl({'min':0, 'max':1}))"
   ]
  },
  {
   "cell_type": "code",
   "execution_count": null,
   "metadata": {
    "collapsed": false
   },
   "outputs": [],
   "source": []
  },
  {
   "cell_type": "code",
   "execution_count": null,
   "metadata": {
    "collapsed": false
   },
   "outputs": [],
   "source": [
    "#mask = map_dict['olu'].eq(0).Or(map_dict['olu'].eq(1))\n",
    "#pr_img = pr_img.updateMask(mask)\n",
    "pr_dict = {}\n",
    "pr_dict['ag'] = pr_img.select(['ag'], ['prob']).addBands(ee.Image.constant(19).byte())\n",
    "pr_dict['shrub'] = pr_img.select(['shrub'], ['prob']).addBands(ee.Image.constant(5).byte())\n",
    "pr_dict['for'] = pr_img.select(['for'], ['prob']).addBands(ee.Image.constant(1).byte())\n",
    "pr_dict['plant'] = pr_img.select(['plant'], ['prob']).addBands(ee.Image.constant(3).byte())\n",
    "pr_collection = ee.ImageCollection([pr_dict['for'], pr_dict['plant'], pr_dict['shrub'], pr_dict['ag']])\n",
    "mosaic = pr_collection.qualityMosaic('prob').select(['constant'], ['elu'])\n",
    "transition_img = map_dict['olu'].multiply(100).add(mosaic)\n",
    "\n",
    "transitions = [101, 103, 105, 119, 301, 303, 305, 319, 501, \n",
    "               503, 505, 519, 1901, 1903, 1905, 1919]\n",
    "new_bands = ['constant']\n",
    "additional_bands = ['constant_' + str(i) for i in np.arange(1,16)]\n",
    "new_bands.extend(additional_bands)\n",
    "t_bands = [str(i) for i in transitions]\n",
    "transition_bands = transition_img.eq(transitions).multiply(ee.Image.pixelArea().divide(10000000))\n",
    "transition_bands = transition_bands.select(new_bands, t_bands)\n",
    "\n",
    "\n",
    "def add_change_areas(feature):\n",
    "    changes = transition_bands.reduceRegion(reducer = ee.Reducer.sum(), \n",
    "                                            geometry = feature.geometry(), \n",
    "                                            scale = 30, \n",
    "                                            maxPixels = 5e9)\n",
    "    t_dict = {}\n",
    "    for t in transitions:\n",
    "        t_dict[str(t)] = changes.get(str(t))\n",
    "        feature = feature.set(t_dict)\n",
    "    return feature\n",
    "\n",
    "out = regions.map(add_change_areas)\n",
    "task = ee.batch.Export.table.toDrive(collection = out, description = 'Sim_test_' + str(n),  \n",
    "                                     fileFormat = 'csv', fileNamePrefix = 'sim_test_' + str(n))\n",
    "task.start()"
   ]
  },
  {
   "cell_type": "code",
   "execution_count": null,
   "metadata": {
    "collapsed": true
   },
   "outputs": [],
   "source": []
  },
  {
   "cell_type": "code",
   "execution_count": null,
   "metadata": {
    "collapsed": false
   },
   "outputs": [],
   "source": [
    "regions.getInfo()"
   ]
  },
  {
   "cell_type": "code",
   "execution_count": null,
   "metadata": {
    "collapsed": true
   },
   "outputs": [],
   "source": []
  },
  {
   "cell_type": "code",
   "execution_count": null,
   "metadata": {
    "collapsed": true
   },
   "outputs": [],
   "source": [
    "## Investigate regions\n",
    "\n",
    "band = 'Ran_uniform'\n",
    "# img = ee.Image(cum_pr_ic.first()).select(band)\n",
    "runi =  gee_random.runiform_raster()\n",
    "img = runi(img)\n",
    "hist = img.reduceRegion(reducer = ee.Reducer.frequencyHistogram(), geometry = sample_region.geometry(), scale = 30)\n",
    "hist_info = hist.getInfo()\n",
    "series = pd.Series(hist_info[band])\n"
   ]
  },
  {
   "cell_type": "code",
   "execution_count": null,
   "metadata": {
    "collapsed": false
   },
   "outputs": [],
   "source": [
    "pr_img = ee.Image(asset_dir + 'plantrent_11_rs')\n",
    "mask = pr_img.gt(-1e30)\n",
    "pr_img = pr_img.updateMask(mask)\n",
    "task = ee.batch.Export.image.toAsset(image = ee.Image(pr_img), description = 'plantrent_rs_masked', \n",
    "                                     assetId = 'users/rheilmayr/chile_sim/input/plantrent_rs_masked', \n",
    "                                     scale = 30, maxPixels = 1e10)\n",
    "task.start()\n"
   ]
  },
  {
   "cell_type": "code",
   "execution_count": null,
   "metadata": {
    "collapsed": false
   },
   "outputs": [],
   "source": [
    "coefs_df_all_p1"
   ]
  },
  {
   "cell_type": "code",
   "execution_count": null,
   "metadata": {
    "collapsed": true
   },
   "outputs": [],
   "source": []
  },
  {
   "cell_type": "code",
   "execution_count": null,
   "metadata": {
    "collapsed": false
   },
   "outputs": [],
   "source": []
  },
  {
   "cell_type": "code",
   "execution_count": null,
   "metadata": {
    "collapsed": false
   },
   "outputs": [],
   "source": []
  },
  {
   "cell_type": "code",
   "execution_count": null,
   "metadata": {
    "collapsed": true
   },
   "outputs": [],
   "source": []
  }
 ],
 "metadata": {
  "kernelspec": {
   "display_name": "Python 3",
   "language": "python",
   "name": "python3"
  },
  "language_info": {
   "codemirror_mode": {
    "name": "ipython",
    "version": 3
   },
   "file_extension": ".py",
   "mimetype": "text/x-python",
   "name": "python",
   "nbconvert_exporter": "python",
   "pygments_lexer": "ipython3",
   "version": "3.5.1"
  },
  "widgets": {
   "state": {},
   "version": "1.1.2"
  }
 },
 "nbformat": 4,
 "nbformat_minor": 0
}
