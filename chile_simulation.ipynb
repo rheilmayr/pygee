{
 "cells": [
  {
   "cell_type": "code",
   "execution_count": null,
   "metadata": {
    "collapsed": false
   },
   "outputs": [],
   "source": [
    "from IPython.display import Image\n",
    "import ee\n",
    "ee.Initialize()\n",
    "import sys \n",
    "sys.path.append('/rheil/notebooks/pygee')\n",
    "import pandas as pd\n",
    "import numpy as np\n",
    "import simulation\n",
    "import importlib\n",
    "import gee_random\n",
    "importlib.reload(gee_random)\n",
    "importlib.reload(simulation)\n",
    "import matplotlib.pyplot as plt\n",
    "%matplotlib inline  \n",
    "import seaborn as sns\n"
   ]
  },
  {
   "cell_type": "code",
   "execution_count": null,
   "metadata": {
    "collapsed": false
   },
   "outputs": [],
   "source": [
    "chile_comunas = ee.FeatureCollection('ft:1MIVtGXFEu3ONr87OPP7JV1_vCs9W3sJEuZDuzkzb')\n",
    "chile_comunas = chile_comunas.filter(ee.Filter.inList('id_1', [15, 13, 8, 12, 6, 3, 10, 9]))\n",
    "\n",
    "# regions = ee.FeatureCollection('ft:1RfoT4UoTohqmJJrNkMT5Jyp95SahGk5f9V355SnH')\n",
    "# regions = regions.filter(ee.Filter.inList('COD_REG', ['05', '06', '07', '08', '09', '10', '13', '14']))\n",
    "# reg = regions.filterMetadata('COD_REG', 'equals', '08')\n",
    "coefs_csv = '/rheil/notebooks/data/pooled_coefs.csv'\n",
    "coefs_se_csv = '/rheil/notebooks/data/pooled_se.csv'\n",
    "asset_dir = 'users/rheilmayr/chile_sim/input/'\n",
    "out_dir = 'users/rheilmayr/chile_sim/simulation/'\n",
    "\n",
    "sample_region = ee.Algorithms.GeometryConstructors.Polygon([[-73.25,-37.4], [-73.25,-37.6], \n",
    "    [-73,-37.6], [-73,-37.4], [-73.25,-37.4]])\n",
    "sample_region = ee.Feature(sample_region)"
   ]
  },
  {
   "cell_type": "code",
   "execution_count": null,
   "metadata": {
    "collapsed": false
   },
   "outputs": [],
   "source": [
    "n = 3\n",
    "np.random.seed(1235)"
   ]
  },
  {
   "cell_type": "code",
   "execution_count": null,
   "metadata": {
    "collapsed": false
   },
   "outputs": [],
   "source": [
    "base_dict ={'agrent': asset_dir + 'agrent_01',\n",
    "            'forrent': asset_dir + 'forrent',\n",
    "            'south': asset_dir + 'south',\n",
    "            'central': asset_dir + 'central',\n",
    "            'noprot': asset_dir + 'noprot',\n",
    "            'luq2': asset_dir + 'luq2',\n",
    "            'luq3': asset_dir + 'luq3',\n",
    "            'mask': asset_dir + 'mask'}\n",
    "\n",
    "map_dicts = {key: base_dict.copy() for key in ['01_sub', '01_ns', '11_rs', '11_ns', '11_sub']}\n",
    "map_dicts['01_sub'].update({'plantrent': asset_dir + 'plantrent_01',\n",
    "                            'olu': asset_dir + 'olu_1986'})\n",
    "map_dicts['01_ns'].update({'plantrent': asset_dir + 'plantrent_01_ns',\n",
    "                           'olu': asset_dir + 'olu_1986'})\n",
    "map_dicts['11_rs'].update({'plantrent': asset_dir + 'plantrent_11_rs'})\n",
    "map_dicts['11_ns'].update({'plantrent': asset_dir + 'plantrent_11_ns'})\n",
    "map_dicts['11_sub'].update({'plantrent': asset_dir + 'plantrent_11'})"
   ]
  },
  {
   "cell_type": "code",
   "execution_count": null,
   "metadata": {
    "collapsed": false
   },
   "outputs": [],
   "source": [
    "class mask_updater:\n",
    "    def __init__(self, mask):\n",
    "        self.mask = mask\n",
    "    def __call__(self, img):\n",
    "        img = img.updateMask(self.mask)\n",
    "        return img\n",
    "\n",
    "def sim_flow(input_ic, coefs_csv, coefs_se_csv, n):\n",
    "    template = ee.Image(input_ic.first()).select('olu')\n",
    "    rand_imgs = gee_random.runiform_rasters(template, n)\n",
    "    sim_mapper = simulation.sim_mapper(coefs_csv, coefs_se_csv)\n",
    "    pr_ic = input_ic.map(sim_mapper)\n",
    "    cum_pr_ic = pr_ic.map(simulation.gen_cum_img)\n",
    "    cum_pr_ic = cum_pr_ic.combine(rand_imgs.select('Ran_uniform'))\n",
    "    clas_ic = cum_pr_ic.map(simulation.assign_clas)\n",
    "    update_mask = mask_updater(ee.Image(input_ic.first()).select('mask').eq(0))\n",
    "    clas_ic = clas_ic.map(update_mask)\n",
    "    pr_ic = pr_ic.map(update_mask)\n",
    "    cum_pr_ic = cum_pr_ic.map(update_mask)\n",
    "    return pr_ic, cum_pr_ic, clas_ic\n",
    "\n",
    "class band_renamer:\n",
    "    def __init__(self, orig_bandnames, new_bandnames):\n",
    "        self.orig_bandnames = orig_bandnames\n",
    "        self.new_bandnames = new_bandnames\n",
    "    def __call__(self, img):\n",
    "        img = img.select(self.orig_bandnames, self.new_bandnames)\n",
    "        return img\n",
    "\n",
    "def band_aggregator(new_band, full_img):\n",
    "    \"\"\"\n",
    "    Converts an image collection into a single multiband image.\n",
    "    To be used through iterate on an image collection.\n",
    "    \"\"\"\n",
    "    full_img = ee.Image(full_img).addBands(new_band)\n",
    "    return full_img\n",
    "\n",
    "rename_olu = band_renamer(['clas'], ['olu'])\n",
    "\n",
    "# def rename_clas(img):\n",
    "#     img = img.select(['clas'], ['olu'])\n",
    "#     return img"
   ]
  },
  {
   "cell_type": "markdown",
   "metadata": {},
   "source": [
    "Run subsidized simulation"
   ]
  },
  {
   "cell_type": "code",
   "execution_count": null,
   "metadata": {
    "collapsed": false
   },
   "outputs": [],
   "source": [
    "input_ic_p1 = simulation.dict_to_input_ic(map_dicts['01_ns'], n)\n",
    "pr_ic_p1, cum_pr_ic_p1, clas_ic_p1 = sim_flow(input_ic_p1, coefs_csv, coefs_se_csv, n)\n",
    "input_ic_p2 = simulation.dict_to_input_ic(map_dicts['11_ns'], n)\n",
    "clas_ic_p1 = clas_ic_p1.map(rename_olu)\n",
    "input_ic_p2 = input_ic_p2.combine(clas_ic_p1)\n",
    "pr_ic_p2, cum_pr_ic_p2, clas_ic_p2 = sim_flow(input_ic_p2, coefs_csv, coefs_se_csv, n)"
   ]
  },
  {
   "cell_type": "code",
   "execution_count": null,
   "metadata": {
    "collapsed": true
   },
   "outputs": [],
   "source": [
    "clas_img = clas_ic_p2.iterate(band_aggregator, ee.Image())\n",
    "img_bands = ['clas_' + str(i+1) for i in range(n-1)]\n",
    "img_bands.extend(['clas'])\n",
    "clas_img = ee.Image(clas_img).select(img_bands)\n",
    "def sum_clas_area(img, clas, fc):\n",
    "    binary_img = img.eq(clas)\n",
    "    clasarea_img = binary_img.multiply(ee.Image.pixelArea().divide(1e7))\n",
    "    new_bands = ['c' + str(clas) + '_' + str(i) for i in range(n)]\n",
    "    clasarea_img = clasarea_img.select(img_bands, new_bands)\n",
    "    fc = clasarea_img.reduceRegions(collection = fc, scale = 30, reducer = ee.Reducer.sum())\n",
    "    return fc\n",
    "\n",
    "for c in [1, 3, 5, 19]:\n",
    "    chile_comunas = sum_clas_area(clas_img, c, chile_comunas)"
   ]
  },
  {
   "cell_type": "code",
   "execution_count": null,
   "metadata": {
    "collapsed": true
   },
   "outputs": [],
   "source": [
    "task = ee.batch.Export.table.toDrive(collection = chile_comunas, description = 'lusim_n3_ns', folder = 'chile/sim/', fileFormat = 'csv')\n",
    "task.start()"
   ]
  },
  {
   "cell_type": "code",
   "execution_count": null,
   "metadata": {
    "collapsed": true
   },
   "outputs": [],
   "source": [
    "results_dir = '/rheil/notebooks/data/gee_results/'\n",
    "results_dict  = {key: results_dir + 'lusim_n6_' + key + '.csv' for key in ['sub', 'ns', 'rs']}\n",
    "results_df_dict = {}\n",
    "for key, result in results_dict.items():\n",
    "    results_df_dict[key] = pd.read_csv(result)\n",
    "results_df = pd.concat(results_df_dict)\n",
    "results_df = results_df.set_index('COD_REG', append = True)\n",
    "keep_cols = [col for col in results_df.columns if col[0] == 'c']\n",
    "results_df = results_df[keep_cols]\n",
    "clas = [col[1:col.rfind('_')] for col in results_df.columns]\n",
    "run = [col[col.rfind('_')+1:] for col in results_df.columns]\n",
    "results_df = results_df.T\n",
    "results_df['clas'] = clas\n",
    "results_df['run'] = run\n",
    "results_df = results_df.set_index(['clas', 'run'])"
   ]
  },
  {
   "cell_type": "code",
   "execution_count": null,
   "metadata": {
    "collapsed": false
   },
   "outputs": [],
   "source": [
    "results_df.sum(axis = 1, level = 0).loc['1']['ns']"
   ]
  },
  {
   "cell_type": "code",
   "execution_count": null,
   "metadata": {
    "collapsed": false
   },
   "outputs": [],
   "source": [
    "ax = sns.kdeplot(results_df.sum(axis = 1, level = 0).loc['1']['ns'], results_df.sum(axis = 1, level = 0).loc['3']['ns'],\n",
    "                 cmap=\"Reds\", shade=True, shade_lowest=False)\n",
    "ax = sns.kdeplot(results_df.sum(axis = 1, level = 0).loc['1']['sub'], results_df.sum(axis = 1, level = 0).loc['3']['sub'],\n",
    "                 cmap=\"Greens\", shade=True, shade_lowest=False)\n",
    "ax = sns.kdeplot(results_df.sum(axis = 1, level = 0).loc['1']['rs'], results_df.sum(axis = 1, level = 0).loc['3']['rs'],\n",
    "                 cmap=\"Blues\", shade=True, shade_lowest=False)"
   ]
  },
  {
   "cell_type": "code",
   "execution_count": null,
   "metadata": {
    "collapsed": false
   },
   "outputs": [],
   "source": [
    "task = ee.batch.Export.image.toAsset(image = ee.Image(cum_pr_ic_p2.first()).clip(sample_region), description = 'cum_pr_img_clip_2', \n",
    "                                     assetId = 'users/rheilmayr/chile_sim/simulations/cum_pr_clip_2', \n",
    "                                     scale = 30, maxPixels = 1e10)\n",
    "task.start()\n",
    "task = ee.batch.Export.image.toAsset(image = ee.Image(pr_ic_p2.first()).clip(sample_region), description = 'pr_img_clip_2', \n",
    "                                     assetId = 'users/rheilmayr/chile_sim/simulations/pr_clip_2', \n",
    "                                     scale = 30, maxPixels = 1e10)\n",
    "task.start()\n",
    "task = ee.batch.Export.image.toAsset(image = ee.Image(clas_ic_p2.first()).clip(sample_region), description = 'clas_img_clip_2', \n",
    "                                     assetId = 'users/rheilmayr/chile_sim/simulations/clas_clip_2', \n",
    "                                     scale = 30, maxPixels = 1e10)\n",
    "task.start()\n",
    "# task = ee.batch.Export.image.toAsset(image = ee.Image(cum_pr_ic_p1.first()).clip(sample_region), description = 'cum_pr_img_clip_1', \n",
    "#                                      assetId = 'users/rheilmayr/chile_sim/simulations/cum_pr_clip_1', \n",
    "#                                      scale = 30, maxPixels = 1e10)\n",
    "# task.start()\n",
    "# task = ee.batch.Export.image.toAsset(image = ee.Image(pr_ic_p1.first()).clip(sample_region), description = 'pr_img_clip_1', \n",
    "#                                      assetId = 'users/rheilmayr/chile_sim/simulations/pr_clip_1', \n",
    "#                                      scale = 30, maxPixels = 1e10)\n",
    "# task.start()\n",
    "# task = ee.batch.Export.image.toAsset(image = ee.Image(clas_ic_p1.first()).clip(sample_region), description = 'clas_img_clip_1', \n",
    "#                                      assetId = 'users/rheilmayr/chile_sim/simulations/clas_clip_1', \n",
    "#                                      scale = 30, maxPixels = 1e10)\n",
    "# task.start()"
   ]
  },
  {
   "cell_type": "code",
   "execution_count": null,
   "metadata": {
    "collapsed": false
   },
   "outputs": [],
   "source": [
    "task = ee.batch.Export.image.toAsset(image = ee.Image(cum_pr_ic_p2.first()), description = 'cum_pr_img', \n",
    "                                     assetId = 'users/rheilmayr/chile_sim/simulations/cum_pr', \n",
    "                                     scale = 30, maxPixels = 1e10)\n",
    "task.start()\n",
    "task = ee.batch.Export.image.toAsset(image = ee.Image(pr_ic_p2.first()), description = 'pr_img', \n",
    "                                     assetId = 'users/rheilmayr/chile_sim/simulations/pr', \n",
    "                                     scale = 30, maxPixels = 1e10)\n",
    "task.start()\n",
    "task = ee.batch.Export.image.toAsset(image = ee.Image(clas_ic_p2.first()), description = 'clas_img', \n",
    "                                     assetId = 'users/rheilmayr/chile_sim/simulations/clas', \n",
    "                                     scale = 30, maxPixels = 1e10)\n",
    "task.start()"
   ]
  },
  {
   "cell_type": "code",
   "execution_count": null,
   "metadata": {
    "collapsed": false
   },
   "outputs": [],
   "source": [
    "# task = ee.batch.Export.image.toAsset(image = ee.Image(input_ic_p2.first()).clip(sample_region), description = 'input_p2', \n",
    "#                                      assetId = 'users/rheilmayr/chile_sim/simulations/inputs_p2', \n",
    "#                                      scale = 30, maxPixels = 1e10)\n",
    "# task.start()\n",
    "task = ee.batch.Export.image.toAsset(image = ee.Image(input_ic_p1.first()).clip(sample_region), description = 'input_p1', \n",
    "                                     assetId = 'users/rheilmayr/chile_sim/simulations/inputs_p1', \n",
    "                                     scale = 30, maxPixels = 1e10)\n",
    "task.start()"
   ]
  },
  {
   "cell_type": "code",
   "execution_count": null,
   "metadata": {
    "collapsed": false
   },
   "outputs": [],
   "source": []
  },
  {
   "cell_type": "code",
   "execution_count": null,
   "metadata": {
    "collapsed": false
   },
   "outputs": [],
   "source": []
  },
  {
   "cell_type": "code",
   "execution_count": null,
   "metadata": {
    "collapsed": false
   },
   "outputs": [],
   "source": [
    "results_df.sum(axis = 1)"
   ]
  },
  {
   "cell_type": "code",
   "execution_count": null,
   "metadata": {
    "collapsed": true
   },
   "outputs": [],
   "source": []
  },
  {
   "cell_type": "code",
   "execution_count": null,
   "metadata": {
    "collapsed": true
   },
   "outputs": [],
   "source": []
  },
  {
   "cell_type": "code",
   "execution_count": null,
   "metadata": {
    "collapsed": false
   },
   "outputs": [],
   "source": [
    "luq2 = ee.Image(asset_dir + 'luq2')\n",
    "luq3 = ee.Image(asset_dir + 'luq3')\n",
    "noprot = ee.Image(asset_dir + 'noprot')\n",
    "central = ee.Image(asset_dir + 'central')\n",
    "south = ee.Image(asset_dir + 'south')\n",
    "agrent01 = ee.Image(asset_dir + 'agrent_01')\n",
    "agrent11 = ee.Image(asset_dir + 'agrent_11')\n",
    "plantrent01 = ee.Image(asset_dir + 'plantrent_01')\n",
    "plantrent11 = ee.Image(asset_dir + 'plantrent_11')\n",
    "forrent = ee.Image(asset_dir + 'forrent')\n",
    "olu_1986 = ee.Image(asset_dir + 'olu_1986')\n",
    "mask = (luq2.eq(0).Or(luq2.eq(1)))\\\n",
    "            .And(luq3.eq(0).Or(luq3.eq(1)))\\\n",
    "            .And(noprot.eq(0).Or(noprot.eq(1)))\\\n",
    "            .And(central.eq(0).Or(central.eq(1)))\\\n",
    "            .And(south.eq(0).Or(south.eq(1)))\\\n",
    "            .And(agrent01.gt(-3.4e38))\\\n",
    "            .And(agrent11.gt(-3.4e38))\\\n",
    "            .And(plantrent01.gt(-3.4e38))\\\n",
    "            .And(plantrent11.gt(-3.4e38))\\\n",
    "            .And(forrent.gt(-3.4e38))\\\n",
    "            .And(olu_1986.eq(1).Or(olu_1986.eq(3)).Or(olu_1986.eq(5)).Or(olu_1986.eq(19)))\n",
    "        \n",
    "task = ee.batch.Export.image.toAsset(image = mask, description = 'mask', \n",
    "                                     assetId = 'users/rheilmayr/chile_sim/inputs/mask_new', \n",
    "                                     scale = 30, maxPixels = 1e10)\n",
    "task.start()\n"
   ]
  },
  {
   "cell_type": "code",
   "execution_count": null,
   "metadata": {
    "collapsed": false
   },
   "outputs": [],
   "source": [
    "# var multiMax = function(feature) {\n",
    "#   // Reduce to mean value the input polygon for each image\n",
    "#   var means = collection.map(function(image) {\n",
    "#       var a = image.reduceRegion({\n",
    "#         reducer: ee.Reducer.mean(),\n",
    "#         geometry: feature.geometry(),\n",
    "#         scale: 250\n",
    "#       });\n",
    "#       // Extract the reduced value from the returned dictionary and add it \n",
    "#       // to the image as property 'mean'.\n",
    "#       image = image.set('mean', a.get('EVI'));\n",
    "#       return image;\n",
    "#   });\n",
    "\n",
    "class multiMapAreas:\n",
    "    def __init__(self, ic):\n",
    "        self.ic = ic\n",
    "    def sum_features(self, feature):\n",
    "        self.feature = feature\n",
    "        areas_ic = self.ic.map(self.sum_img)\n",
    "        return areas_ic\n",
    "    def sum_img(self, img):\n",
    "        areas = img.reduceRegion(reducer = ee.Reducer.sum(),\n",
    "                                 geometry = self.feature.geometry(),\n",
    "                                 scale = 500)\n",
    "        clases = ['for', 'plant', 'shrub', 'ag']\n",
    "        clas_dict = {}\n",
    "        for clas in clases:\n",
    "            clas_dict[clas] = areas.get(clas)\n",
    "        img = img.set(clas_dict)\n",
    "        return img\n",
    "    \n",
    "# def sum_ic(feature):\n",
    "#     def sum_img(img):\n",
    "#         areas = img.reduceRegion(reducer = ee.Reducer.sum(),\n",
    "#                                  geometry = feature.geometry(),\n",
    "#                                  scale = 500)\n",
    "#         return areas\n",
    "#     areas = clas_ic.map(sum_img)\n",
    "#     clases = ['for', 'plant', 'shrub', 'ag']\n",
    "#     clas_dict = {}\n",
    "#     for clas in clases:\n",
    "#         clas_dict[clas] = areas.get(clas)\n",
    "#     img = img.set(clas_dict)\n",
    "#     return img\n",
    "\n",
    "# clas_ic = clas_ic.map(sum_freqs)\n",
    "# clas_info = clas_ic.getInfo()"
   ]
  },
  {
   "cell_type": "code",
   "execution_count": null,
   "metadata": {
    "collapsed": false
   },
   "outputs": [],
   "source": [
    "multiMapper = multiMapAreas(clas_ic)\n",
    "areas_ic = regions.map(multiMapper.sum_features)\n",
    "areas_ic.getInfo()"
   ]
  },
  {
   "cell_type": "code",
   "execution_count": null,
   "metadata": {
    "collapsed": false
   },
   "outputs": [],
   "source": [
    "img = ee.Image(clas_ic.first())\n",
    "feature = ee.Feature(reg.first())\n",
    "\n",
    "def sum_img(img):\n",
    "    areas = img.reduceRegion(reducer = ee.Reducer.sum(),\n",
    "                             geometry = feature.geometry(),\n",
    "                             scale = 500)\n",
    "    clases = ['for', 'plant', 'shrub', 'ag']\n",
    "    clas_dict = {}\n",
    "    img_id = img.get('system:index')\n",
    "    for clas in clases:\n",
    "        clas_dict['r' + img_id + '_' + clas] = areas.get(clas)\n",
    "    img = img.set(clas_dict)\n",
    "    return img\n",
    "sum_img(img).getInfo()"
   ]
  },
  {
   "cell_type": "code",
   "execution_count": null,
   "metadata": {
    "collapsed": false
   },
   "outputs": [],
   "source": []
  },
  {
   "cell_type": "code",
   "execution_count": null,
   "metadata": {
    "collapsed": false
   },
   "outputs": [],
   "source": [
    "clas_img = ee.Image(clas_ic.first())\n",
    "area_img = clas_img.multiply(ee.Image.pixelArea().divide(10000000))\n",
    "def add_areas(feature):\n",
    "    clases = ['for', 'plant', 'shrub', 'ag']\n",
    "    areas = area_img.reduceRegion(reducer = ee.Reducer.sum(), \n",
    "                                    geometry = feature.geometry(), \n",
    "                                    scale = 1000, \n",
    "                                    maxPixels = 1e10)\n",
    "    clas_dict = {}\n",
    "    for clas in clases:\n",
    "        clas_dict[clas] = areas.get(clas)\n",
    "    feature = feature.set(clas_dict)\n",
    "    return feature\n",
    "\n",
    "out_regions = regions.map(add_areas)"
   ]
  },
  {
   "cell_type": "code",
   "execution_count": null,
   "metadata": {
    "collapsed": false
   },
   "outputs": [],
   "source": [
    "out_dict = {}\n",
    "for i, region_dict in enumerate(test_info['features']):\n",
    "    out_dict[i] = region_dict['properties']\n",
    "out_df = pd.DataFrame(out_dict)\n",
    "out_df = out_df.T\n",
    "out_df = out_df.set_index('COD_REG').sort_index()\n",
    "out_df[['for', 'plant', 'shrub', 'ag']]"
   ]
  },
  {
   "cell_type": "code",
   "execution_count": null,
   "metadata": {
    "collapsed": false
   },
   "outputs": [],
   "source": []
  },
  {
   "cell_type": "code",
   "execution_count": null,
   "metadata": {
    "collapsed": false
   },
   "outputs": [],
   "source": [
    "stats = clas_img.reduceRegion(reducer = ee.Reducer.frequencyHistogram(), \n",
    "                                      geometry = reg, \n",
    "                                      scale = 100, \n",
    "                                      maxPixels = 9e9)\n",
    "stats.getInfo()"
   ]
  },
  {
   "cell_type": "code",
   "execution_count": null,
   "metadata": {
    "collapsed": false
   },
   "outputs": [],
   "source": []
  },
  {
   "cell_type": "code",
   "execution_count": null,
   "metadata": {
    "collapsed": false
   },
   "outputs": [],
   "source": [
    "Image(url=clas_img.select('for').getThumbUrl({'min':0, 'max':1}))"
   ]
  },
  {
   "cell_type": "code",
   "execution_count": null,
   "metadata": {
    "collapsed": false
   },
   "outputs": [],
   "source": []
  },
  {
   "cell_type": "code",
   "execution_count": null,
   "metadata": {
    "collapsed": false
   },
   "outputs": [],
   "source": [
    "#mask = map_dict['olu'].eq(0).Or(map_dict['olu'].eq(1))\n",
    "#pr_img = pr_img.updateMask(mask)\n",
    "pr_dict = {}\n",
    "pr_dict['ag'] = pr_img.select(['ag'], ['prob']).addBands(ee.Image.constant(19).byte())\n",
    "pr_dict['shrub'] = pr_img.select(['shrub'], ['prob']).addBands(ee.Image.constant(5).byte())\n",
    "pr_dict['for'] = pr_img.select(['for'], ['prob']).addBands(ee.Image.constant(1).byte())\n",
    "pr_dict['plant'] = pr_img.select(['plant'], ['prob']).addBands(ee.Image.constant(3).byte())\n",
    "pr_collection = ee.ImageCollection([pr_dict['for'], pr_dict['plant'], pr_dict['shrub'], pr_dict['ag']])\n",
    "mosaic = pr_collection.qualityMosaic('prob').select(['constant'], ['elu'])\n",
    "transition_img = map_dict['olu'].multiply(100).add(mosaic)\n",
    "\n",
    "transitions = [101, 103, 105, 119, 301, 303, 305, 319, 501, \n",
    "               503, 505, 519, 1901, 1903, 1905, 1919]\n",
    "new_bands = ['constant']\n",
    "additional_bands = ['constant_' + str(i) for i in np.arange(1,16)]\n",
    "new_bands.extend(additional_bands)\n",
    "t_bands = [str(i) for i in transitions]\n",
    "transition_bands = transition_img.eq(transitions).multiply(ee.Image.pixelArea().divide(10000000))\n",
    "transition_bands = transition_bands.select(new_bands, t_bands)\n",
    "\n",
    "\n",
    "def add_change_areas(feature):\n",
    "    changes = transition_bands.reduceRegion(reducer = ee.Reducer.sum(), \n",
    "                                            geometry = feature.geometry(), \n",
    "                                            scale = 30, \n",
    "                                            maxPixels = 5e9)\n",
    "    t_dict = {}\n",
    "    for t in transitions:\n",
    "        t_dict[str(t)] = changes.get(str(t))\n",
    "        feature = feature.set(t_dict)\n",
    "    return feature\n",
    "\n",
    "out = regions.map(add_change_areas)\n",
    "task = ee.batch.Export.table.toDrive(collection = out, description = 'Sim_test_' + str(n),  \n",
    "                                     fileFormat = 'csv', fileNamePrefix = 'sim_test_' + str(n))\n",
    "task.start()"
   ]
  },
  {
   "cell_type": "code",
   "execution_count": null,
   "metadata": {
    "collapsed": true
   },
   "outputs": [],
   "source": []
  },
  {
   "cell_type": "code",
   "execution_count": null,
   "metadata": {
    "collapsed": false
   },
   "outputs": [],
   "source": [
    "regions.getInfo()"
   ]
  },
  {
   "cell_type": "code",
   "execution_count": null,
   "metadata": {
    "collapsed": true
   },
   "outputs": [],
   "source": []
  },
  {
   "cell_type": "code",
   "execution_count": null,
   "metadata": {
    "collapsed": true
   },
   "outputs": [],
   "source": [
    "## Investigate regions\n",
    "\n",
    "band = 'Ran_uniform'\n",
    "# img = ee.Image(cum_pr_ic.first()).select(band)\n",
    "runi =  gee_random.runiform_raster()\n",
    "img = runi(img)\n",
    "hist = img.reduceRegion(reducer = ee.Reducer.frequencyHistogram(), geometry = sample_region.geometry(), scale = 30)\n",
    "hist_info = hist.getInfo()\n",
    "series = pd.Series(hist_info[band])\n"
   ]
  }
 ],
 "metadata": {
  "kernelspec": {
   "display_name": "Python 3",
   "language": "python",
   "name": "python3"
  },
  "language_info": {
   "codemirror_mode": {
    "name": "ipython",
    "version": 3
   },
   "file_extension": ".py",
   "mimetype": "text/x-python",
   "name": "python",
   "nbconvert_exporter": "python",
   "pygments_lexer": "ipython3",
   "version": "3.5.2"
  },
  "widgets": {
   "state": {},
   "version": "1.1.2"
  }
 },
 "nbformat": 4,
 "nbformat_minor": 0
}
