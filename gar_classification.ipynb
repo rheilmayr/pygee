{
 "cells": [
  {
   "cell_type": "code",
   "execution_count": 10,
   "metadata": {
    "collapsed": false
   },
   "outputs": [],
   "source": [
    "from IPython.display import Image\n",
    "import ee\n",
    "ee.Initialize()\n",
    "import sys \n",
    "sys.path.append('/rheil/notebooks/pygee')\n",
    "import cloud_mask"
   ]
  },
  {
   "cell_type": "code",
   "execution_count": 11,
   "metadata": {
    "collapsed": false
   },
   "outputs": [],
   "source": [
    "gar_plots = ee.FeatureCollection(\"ft:14iW585uXib6e89dJyzeNUAXUDpKZECmdvnh4Igbi\")\n",
    "plots = gar_plots\n",
    "study_area = plots.geometry().bounds()"
   ]
  },
  {
   "cell_type": "code",
   "execution_count": 14,
   "metadata": {
    "collapsed": false
   },
   "outputs": [
    {
     "data": {
      "text/html": [
       "<img src=\"https://earthengine.googleapis.com//api/thumb?thumbid=12ff91160453e979be4440ee94cad879&token=47e455ee9810173907c9f7d1522d82a3\"/>"
      ],
      "text/plain": [
       "<IPython.core.display.Image object>"
      ]
     },
     "execution_count": 14,
     "metadata": {},
     "output_type": "execute_result"
    }
   ],
   "source": [
    "ic = ee.ImageCollection('LANDSAT/LT5_L1T_TOA_FMASK')\n",
    "ic = ic.filterDate('2011-01-01', '2016-06-01')\n",
    "ic = ic.filterBounds(study_area)\n",
    "ic = ic.map(cloud_mask.qualityLandsat)\n",
    "image = ic.qualityMosaic('nd')\n",
    "Image(url=image.select(['B4', 'B5', 'B3']).getThumbUrl({'min':0, 'max':.6, 'region':study_area.getInfo()['coordinates']})) "
   ]
  },
  {
   "cell_type": "code",
   "execution_count": null,
   "metadata": {
    "collapsed": true
   },
   "outputs": [],
   "source": []
  }
 ],
 "metadata": {
  "kernelspec": {
   "display_name": "Python 3",
   "language": "python",
   "name": "python3"
  },
  "language_info": {
   "codemirror_mode": {
    "name": "ipython",
    "version": 3
   },
   "file_extension": ".py",
   "mimetype": "text/x-python",
   "name": "python",
   "nbconvert_exporter": "python",
   "pygments_lexer": "ipython3",
   "version": "3.5.1"
  },
  "widgets": {
   "state": {},
   "version": "1.1.2"
  }
 },
 "nbformat": 4,
 "nbformat_minor": 0
}
