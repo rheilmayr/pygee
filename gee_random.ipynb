{
 "cells": [
  {
   "cell_type": "code",
   "execution_count": 24,
   "metadata": {
    "collapsed": false
   },
   "outputs": [],
   "source": [
    "import ee\n",
    "ee.Initialize()\n",
    "from IPython.display import Image"
   ]
  },
  {
   "cell_type": "code",
   "execution_count": 56,
   "metadata": {
    "collapsed": false
   },
   "outputs": [],
   "source": [
    "class runiform_raster:\n",
    "    def generateRan(self, seed):\n",
    "        state1 = ee.Image(seed).select('Ran_state')\n",
    "        state2 = state1.bitwiseXor(state1.leftShift(13))\n",
    "        state3 = state2.bitwiseXor(state2.rightShift(17))\n",
    "        state4 = state3.bitwiseXor(state3.leftShift(5))\n",
    "        state5 = state4.multiply(1597334677).mod(4294967296)\n",
    "        state6 = state4.addBands(state5.divide(4294967296).select([0],['Ran_uniform']))\n",
    "        return state6.set('Ran_has_seed', True);\n",
    "    \n",
    "    def makeSeed(self, img):\n",
    "        template = ee.Image(img)\n",
    "        seed0 = ee.Image.pixelCoordinates(template.projection()).int32().add(2147483648).uint32()\n",
    "        seed1 = seed0.select(0).bitwiseAnd(65535).leftShift(16).add(seed0.select(1).bitwiseAnd(65535))\n",
    "        seed2 = seed1.add(seed1.eq(0).multiply(0x7FFF7FFF)).uint32()\n",
    "        seed3 = seed2.select([0],['Ran_state']).updateMask(template.mask())\n",
    "        for i in range(10):\n",
    "          seed3 = self.generateRan(seed3)\n",
    "        return seed3\n",
    "  \n",
    "    def __call__(self, img):\n",
    "        img = ee.Image(img)\n",
    "        return ee.Image(ee.Algorithms.If(img.get('Ran_'), self.generateRan(img), self.makeSeed(img)))\n"
   ]
  },
  {
   "cell_type": "code",
   "execution_count": 57,
   "metadata": {
    "collapsed": false
   },
   "outputs": [
    {
     "data": {
      "text/plain": [
       "{'bands': [{'crs': 'EPSG:32719',\n",
       "   'crs_transform': [30.0,\n",
       "    0.0,\n",
       "    -136428.67143306672,\n",
       "    0.0,\n",
       "    -30.0,\n",
       "    6619164.6107107885],\n",
       "   'data_type': {'max': 4294967295,\n",
       "    'min': 0,\n",
       "    'precision': 'int',\n",
       "    'type': 'PixelType'},\n",
       "   'id': 'Ran_state'},\n",
       "  {'crs': 'EPSG:32719',\n",
       "   'crs_transform': [30.0,\n",
       "    0.0,\n",
       "    -136428.67143306672,\n",
       "    0.0,\n",
       "    -30.0,\n",
       "    6619164.6107107885],\n",
       "   'data_type': {'max': 1.0,\n",
       "    'min': 0.0,\n",
       "    'precision': 'float',\n",
       "    'type': 'PixelType'},\n",
       "   'id': 'Ran_uniform'}],\n",
       " 'properties': {'Ran_has_seed': True},\n",
       " 'type': 'Image'}"
      ]
     },
     "execution_count": 57,
     "metadata": {},
     "output_type": "execute_result"
    }
   ],
   "source": [
    "asset_dir = 'users/rheilmayr/chile_sim/'\n",
    "template = ee.Image(asset_dir + 'luq2')\n",
    "regions = ee.FeatureCollection('ft:1RfoT4UoTohqmJJrNkMT5Jyp95SahGk5f9V355SnH')\n",
    "reg = regions.filterMetadata('COD_REG', 'equals', '05')\n",
    "runi = runiform_raster()\n",
    "rand_img = runi(template)\n",
    "rand_img.getInfo()"
   ]
  },
  {
   "cell_type": "code",
   "execution_count": 38,
   "metadata": {
    "collapsed": false
   },
   "outputs": [
    {
     "data": {
      "text/html": [
       "<img src=\"https://earthengine.googleapis.com//api/thumb?thumbid=140672f3ffdd727ba4b51f8053d452ac&token=2a0ddfa0b31c684d7d44f09f8420ccf5\"/>"
      ],
      "text/plain": [
       "<IPython.core.display.Image object>"
      ]
     },
     "execution_count": 38,
     "metadata": {},
     "output_type": "execute_result"
    }
   ],
   "source": [
    "Image(url=rand_img.clip(reg).getThumbUrl({'min':0, 'max':1}))\n"
   ]
  },
  {
   "cell_type": "code",
   "execution_count": 52,
   "metadata": {
    "collapsed": false
   },
   "outputs": [
    {
     "data": {
      "text/plain": [
       "True"
      ]
     },
     "execution_count": 52,
     "metadata": {},
     "output_type": "execute_result"
    }
   ],
   "source": [
    "rand_img.get('Ran_has_seed').getInfo()"
   ]
  },
  {
   "cell_type": "code",
   "execution_count": null,
   "metadata": {
    "collapsed": true
   },
   "outputs": [],
   "source": []
  }
 ],
 "metadata": {
  "kernelspec": {
   "display_name": "Python 3",
   "language": "python",
   "name": "python3"
  },
  "language_info": {
   "codemirror_mode": {
    "name": "ipython",
    "version": 3
   },
   "file_extension": ".py",
   "mimetype": "text/x-python",
   "name": "python",
   "nbconvert_exporter": "python",
   "pygments_lexer": "ipython3",
   "version": "3.5.1"
  },
  "widgets": {
   "state": {},
   "version": "1.1.2"
  }
 },
 "nbformat": 4,
 "nbformat_minor": 0
}
