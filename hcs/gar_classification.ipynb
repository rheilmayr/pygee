{
 "cells": [
  {
   "cell_type": "markdown",
   "metadata": {},
   "source": [
    "# Classification of GAR point-data"
   ]
  },
  {
   "cell_type": "code",
   "execution_count": 1,
   "metadata": {
    "collapsed": false
   },
   "outputs": [],
   "source": [
    "from IPython.display import Image\n",
    "import ee\n",
    "ee.Initialize()\n",
    "import sys \n",
    "sys.path.append('/rheil/notebooks/pygee')\n",
    "import cloud_mask\n",
    "from IPython.display import display"
   ]
  },
  {
   "cell_type": "markdown",
   "metadata": {},
   "source": [
    "Javascript of gee widget"
   ]
  },
  {
   "cell_type": "code",
   "execution_count": 2,
   "metadata": {
    "collapsed": false
   },
   "outputs": [
    {
     "data": {
      "application/javascript": [
       "require.undef('geemap-widget');\n",
       "\n",
       "define('geemap-widget', [\"jupyter-js-widgets\",'jquery', 'underscore'], function(widgets, $, _) {\n",
       "    /**\n",
       "     * A simple model to represent a layer on the map.\n",
       "     *\n",
       "     * @constructor\n",
       "     */\n",
       "    var Layer = Backbone.Model.extend({\n",
       "        defaults: function() {\n",
       "            return {\n",
       "                config: {},\n",
       "                type: undefined,\n",
       "                visible: true\n",
       "            };\n",
       "        }\n",
       "    });\n",
       "\n",
       "\n",
       "\n",
       "    /**\n",
       "     * A collection of layers.\n",
       "     *\n",
       "     * @constructor\n",
       "     */\n",
       "    var LayerCollection = Backbone.Collection.extend({\n",
       "        model: Layer\n",
       "    });\n",
       "\n",
       "\n",
       "\n",
       "    /**\n",
       "     * Override of the main widget model to intercept messages from Python\n",
       "     * update Javascript state correctly.\n",
       "     *\n",
       "     * @constructor\n",
       "     */\n",
       "    var GoogleMapsModel = widgets.WidgetModel.extend({\n",
       "        \n",
       "        defaults: _.extend({}, widgets.DOMWidgetModel.prototype.defaults, {\n",
       "            _model_name : 'GoogleMapsModel',\n",
       "            _view_name : 'GoogleMapsView',\n",
       "            _model_module : 'geemap-widget',\n",
       "            _view_module : 'geemap-widget'\n",
       "        }),\n",
       "        \n",
       "        /** @override */\n",
       "        initialize: function() {\n",
       "            this.listenTo(\n",
       "                this, 'msg:custom', _.bind(this.handleMessage, this));\n",
       "            // this.set('layers', new LayerCollection());\n",
       "        },\n",
       "\n",
       "        /**\n",
       "         * Handle a message from Python.\n",
       "         *\n",
       "         * @param {!Object} payload Payload of the message.\n",
       "         */\n",
       "        handleMessage: function(payload) {\n",
       "            if (!this.get('layers')) {\n",
       "                this.set('layers', new LayerCollection());\n",
       "            }\n",
       "            switch(payload.action) {\n",
       "                case 'addLayer':\n",
       "                    this.get('layers').add({\n",
       "                        config: payload.config,\n",
       "                        type: payload.type\n",
       "                    });\n",
       "                    break;\n",
       "                case 'removeLayer':\n",
       "                    console.error('removeLayer not implemented');\n",
       "                    break;\n",
       "            }\n",
       "        }\n",
       "    });\n",
       "\n",
       "    /**\n",
       "     * A Google Maps API widget.\n",
       "     *\n",
       "     * @constructor\n",
       "     */\n",
       "    var GoogleMapsView = widgets.DOMWidgetView.extend({\n",
       "        /**\n",
       "         * Load the Maps API JS if needed, also prepare a deferred in case any\n",
       "         * map methods are called before the map is ready.\n",
       "         */\n",
       "        initialize: function() {\n",
       "            // Deferred to track for when the map is ready.\n",
       "            this.mapsReadyDeferred = $.Deferred();\n",
       "\n",
       "            // Dynamically adding Google Maps API JS here. Using a deferred to\n",
       "            // track its load status as require returns as soon as the first\n",
       "            // script loads and the Maps API triggers more scripts to append\n",
       "            // which leaves a race condition where require thinks Maps API JS\n",
       "            // is ready when it is not yet.\n",
       "            var mapsDeferred = this.mapsDeferred = $.Deferred();\n",
       "            // Another instance of this view may have already loaded the Maps\n",
       "            // API JS, do not try to load it twice.\n",
       "            if (window.google && window.google.maps) {\n",
       "                mapsDeferred.resolve();\n",
       "            } else {\n",
       "                window.googleMapsCallback = function() {\n",
       "                    mapsDeferred.resolve();\n",
       "                };\n",
       "                require(\n",
       "                    ['http://maps.googleapis.com/maps/api/js?callback=googleMapsCallback'],\n",
       "                    function() {},\n",
       "                    function() {});\n",
       "            }\n",
       "        },\n",
       "\n",
       "        /**\n",
       "         * Render the map.\n",
       "         */\n",
       "        render: function() {\n",
       "            // We must wait until the Maps API JS is ready.\n",
       "            $.when(this.mapsDeferred.promise()).then(_.bind(function() {\n",
       "                // Empty the views DOM. There seem to be some weird side\n",
       "                // effects when you render more than one instance of this view\n",
       "                // in the notebook. Cleaning the view DOM and deferring the map\n",
       "                // initialization seems to work around this. It seesm almost if\n",
       "                // map instances are sharing some DOM somehow.\n",
       "                this.$el.empty();\n",
       "                _.defer(_.bind(function() {\n",
       "                    this.$map = $([\n",
       "                        '<div style=\"height: ',\n",
       "                        this.model.get('height'),\n",
       "                        '; width: ',\n",
       "                        this.model.get('width'),\n",
       "                        ';\"></div>'\n",
       "                    ].join(''));\n",
       "                    this.$el.append(this.$map);\n",
       "                    this.map = new google.maps.Map(this.$map.get(0), {\n",
       "                        center: {\n",
       "                            lat: this.model.get('lat'),\n",
       "                            lng: this.model.get('lng')\n",
       "                        },\n",
       "                        zoom: this.model.get('zoom')\n",
       "                    });\n",
       "\n",
       "                    // Notify the map when the map container changes size via\n",
       "                    // the exposed properties in the model.\n",
       "                    this.listenTo(\n",
       "                        this.model, 'change:height', _.bind(function() {\n",
       "                            this.$map.height(this.model.get('height'));\n",
       "                            google.maps.event.trigger(this.map, 'resize');\n",
       "                        }, this));\n",
       "                    this.listenTo(\n",
       "                        this.model, 'change:width', _.bind(function() {\n",
       "                            this.$map.width(this.model.get('width'));\n",
       "                            google.maps.event.trigger(this.map, 'resize');\n",
       "                        }, this));\n",
       "\n",
       "                    // Bind a change in the position of the map to the model.\n",
       "                    google.maps.event.addListener(\n",
       "                        this.map,\n",
       "                        'bounds_changed',\n",
       "                        _.bind(this.syncFromMap, this));\n",
       "\n",
       "                    // Bind a change in the model (coming from the Python side)\n",
       "                    // to the location of the map.\n",
       "                    this.listenTo(\n",
       "                        this.model,\n",
       "                        'change:lat',\n",
       "                        _.bind(this.syncFromModel, this));\n",
       "                    this.listenTo(\n",
       "                        this.model,\n",
       "                        'change:lng',\n",
       "                        _.bind(this.syncFromModel, this));\n",
       "                    this.listenTo(\n",
       "                        this.model,\n",
       "                        'change:zoom',\n",
       "                        _.bind(this.syncFromModel, this));\n",
       "\n",
       "                    // Render the initial set of layers.\n",
       "                    if (!this.model.get('layers')) {\n",
       "                        this.model.set('layers', new LayerCollection());\n",
       "                    }\n",
       "                    this.model.get('layers').each(this.buildLayer, this);\n",
       "\n",
       "                    // Bind to changes in the layers of the model to stay in\n",
       "                    // sync.\n",
       "                    this.listenTo(\n",
       "                        this.model.get('layers'),\n",
       "                        'add',\n",
       "                        _.bind(this.buildLayer, this));\n",
       "                    this.listenTo(\n",
       "                        this.model.get('layers'),\n",
       "                        'remove',\n",
       "                        function() {\n",
       "                            console.error('removeLayer not implemented');\n",
       "                        });\n",
       "\n",
       "                    // Even though a google.maps.Map instance should be ready\n",
       "                    // immediately, it is not. This delay lets the stack clear\n",
       "                    // and initial map bounds to be set.\n",
       "                    _.delay(_.bind(function() {\n",
       "                        this.mapsReadyDeferred.resolve();\n",
       "                    }, this), 500);\n",
       "                }, this));\n",
       "            }, this));\n",
       "        },\n",
       "\n",
       "        /**\n",
       "         * Sync the values from the map into the model.\n",
       "         */\n",
       "        syncFromMap: function() {\n",
       "            this.model.set({\n",
       "                lat: this.map.getCenter().lat(),\n",
       "                lng: this.map.getCenter().lng(),\n",
       "                zoom: this.map.getZoom()\n",
       "            });\n",
       "            // This is needed for the model to update the equivalent properties\n",
       "            // on the Python instance of this view.\n",
       "            this.model.save_changes();\n",
       "        },\n",
       "\n",
       "        /**\n",
       "         * Move the map to match the values from the model.\n",
       "         */\n",
       "        syncFromModel: function() {\n",
       "            this.map.setCenter(new google.maps.LatLng(\n",
       "                this.model.get('lat'),\n",
       "                this.model.get('lng')\n",
       "            ));\n",
       "            this.map.setZoom(this.model.get('zoom'));\n",
       "        },\n",
       "\n",
       "        /**\n",
       "         * Add a layer to the map based on its model.\n",
       "         *\n",
       "         * @param {!Layer} layer The layer to add.\n",
       "         */\n",
       "        buildLayer: function(layer) {\n",
       "            switch(layer.get('type')) {\n",
       "                case 'geojsondata':\n",
       "                    this.addGeoJsonLayer(layer.get('config').data);\n",
       "                    break;\n",
       "                case 'geojsonurl':\n",
       "                    this.loadGeoJsonLayer(layer.get('config').url);\n",
       "                    break;\n",
       "                case 'kmlurl':\n",
       "                    this.loadKmlLayer(layer.get('config').url);\n",
       "                    break;\n",
       "                case 'earthengine':\n",
       "                    this.addEarthEngineLayer(\n",
       "                        layer.get('config').mapid, layer.get('config').token);\n",
       "                    break;\n",
       "            }\n",
       "        },\n",
       "\n",
       "        /**\n",
       "         * Adds GeoJSON to the map.\n",
       "         *\n",
       "         * @param {!Object} data A GeoJSON object.\n",
       "         */\n",
       "        addGeoJsonLayer: function(data) {\n",
       "            // Defer until map is ready.\n",
       "            this.mapsReadyDeferred.done(_.bind(function() {\n",
       "                this.map.data.addGeoJson(data);\n",
       "            }, this));\n",
       "        },\n",
       "\n",
       "        /**\n",
       "         * Adds a URL location of GeoJSON to the map.\n",
       "         *\n",
       "         * @param {string} url The URL of the GeoJSON file to load.\n",
       "         */\n",
       "        loadGeoJsonLayer: function(url) {\n",
       "            // Defer until map is ready.\n",
       "            this.mapsReadyDeferred.done(_.bind(function() {\n",
       "                this.map.data.loadGeoJson(url);\n",
       "            }, this));\n",
       "        },\n",
       "\n",
       "        /**\n",
       "         * Add a KML layer to the map.\n",
       "         *\n",
       "         * @param {string} url The URL of the KML file to load.\n",
       "         */\n",
       "        loadKmlLayer: function(url) {\n",
       "            // Defer until map is ready.\n",
       "            this.mapsReadyDeferred.done(_.bind(function() {\n",
       "                new google.maps.KmlLayer({\n",
       "                    url: url,\n",
       "                    map: this.map\n",
       "                });\n",
       "            }, this));\n",
       "        },\n",
       "\n",
       "        /**\n",
       "         * Add an Earth Engine layer to the map.\n",
       "         *\n",
       "         * @param {string} mapid The id of the Earth Engine layer.\n",
       "         * @param {string} token The OAuth token to authenticate with.\n",
       "         */\n",
       "        addEarthEngineLayer: function(mapid, token) {\n",
       "            // Defer until map is ready.\n",
       "            this.mapsReadyDeferred.done(_.bind(function() {\n",
       "                var eeMapOptions = {\n",
       "                    getTileUrl: function(tile, zoom) {\n",
       "                        var url = [\n",
       "                            'https://earthengine.googleapis.com/map',\n",
       "                            mapid,\n",
       "                            zoom,\n",
       "                            tile.x,\n",
       "                            tile.y\n",
       "                        ].join('/');\n",
       "                        url += '?token=' + token;\n",
       "                        return url;\n",
       "                    },\n",
       "                    tileSize: new window.google.maps.Size(256, 256),\n",
       "                    opacity: 1.0,\n",
       "                };\n",
       "\n",
       "                // Create the overlay map type.\n",
       "                var mapType = new window.google.maps.ImageMapType(eeMapOptions);\n",
       "\n",
       "                // Overlay the Earth Engine generated layer.\n",
       "                this.map.overlayMapTypes.push(mapType);\n",
       "            }, this));\n",
       "        }\n",
       "    });\n",
       "\n",
       "    return {\n",
       "        GoogleMapsModel: GoogleMapsModel,\n",
       "        GoogleMapsView: GoogleMapsView\n",
       "    }\n",
       "});"
      ],
      "text/plain": [
       "<IPython.core.display.Javascript object>"
      ]
     },
     "metadata": {},
     "output_type": "display_data"
    }
   ],
   "source": [
    "%%javascript\n",
    "require.undef('geemap-widget');\n",
    "\n",
    "define('geemap-widget', [\"jupyter-js-widgets\",'jquery', 'underscore'], function(widgets, $, _) {\n",
    "    /**\n",
    "     * A simple model to represent a layer on the map.\n",
    "     *\n",
    "     * @constructor\n",
    "     */\n",
    "    var Layer = Backbone.Model.extend({\n",
    "        defaults: function() {\n",
    "            return {\n",
    "                config: {},\n",
    "                type: undefined,\n",
    "                visible: true\n",
    "            };\n",
    "        }\n",
    "    });\n",
    "\n",
    "\n",
    "\n",
    "    /**\n",
    "     * A collection of layers.\n",
    "     *\n",
    "     * @constructor\n",
    "     */\n",
    "    var LayerCollection = Backbone.Collection.extend({\n",
    "        model: Layer\n",
    "    });\n",
    "\n",
    "\n",
    "\n",
    "    /**\n",
    "     * Override of the main widget model to intercept messages from Python\n",
    "     * update Javascript state correctly.\n",
    "     *\n",
    "     * @constructor\n",
    "     */\n",
    "    var GoogleMapsModel = widgets.WidgetModel.extend({\n",
    "        \n",
    "        defaults: _.extend({}, widgets.DOMWidgetModel.prototype.defaults, {\n",
    "            _model_name : 'GoogleMapsModel',\n",
    "            _view_name : 'GoogleMapsView',\n",
    "            _model_module : 'geemap-widget',\n",
    "            _view_module : 'geemap-widget'\n",
    "        }),\n",
    "        \n",
    "        /** @override */\n",
    "        initialize: function() {\n",
    "            this.listenTo(\n",
    "                this, 'msg:custom', _.bind(this.handleMessage, this));\n",
    "            // this.set('layers', new LayerCollection());\n",
    "        },\n",
    "\n",
    "        /**\n",
    "         * Handle a message from Python.\n",
    "         *\n",
    "         * @param {!Object} payload Payload of the message.\n",
    "         */\n",
    "        handleMessage: function(payload) {\n",
    "            if (!this.get('layers')) {\n",
    "                this.set('layers', new LayerCollection());\n",
    "            }\n",
    "            switch(payload.action) {\n",
    "                case 'addLayer':\n",
    "                    this.get('layers').add({\n",
    "                        config: payload.config,\n",
    "                        type: payload.type\n",
    "                    });\n",
    "                    break;\n",
    "                case 'removeLayer':\n",
    "                    console.error('removeLayer not implemented');\n",
    "                    break;\n",
    "            }\n",
    "        }\n",
    "    });\n",
    "\n",
    "    /**\n",
    "     * A Google Maps API widget.\n",
    "     *\n",
    "     * @constructor\n",
    "     */\n",
    "    var GoogleMapsView = widgets.DOMWidgetView.extend({\n",
    "        /**\n",
    "         * Load the Maps API JS if needed, also prepare a deferred in case any\n",
    "         * map methods are called before the map is ready.\n",
    "         */\n",
    "        initialize: function() {\n",
    "            // Deferred to track for when the map is ready.\n",
    "            this.mapsReadyDeferred = $.Deferred();\n",
    "\n",
    "            // Dynamically adding Google Maps API JS here. Using a deferred to\n",
    "            // track its load status as require returns as soon as the first\n",
    "            // script loads and the Maps API triggers more scripts to append\n",
    "            // which leaves a race condition where require thinks Maps API JS\n",
    "            // is ready when it is not yet.\n",
    "            var mapsDeferred = this.mapsDeferred = $.Deferred();\n",
    "            // Another instance of this view may have already loaded the Maps\n",
    "            // API JS, do not try to load it twice.\n",
    "            if (window.google && window.google.maps) {\n",
    "                mapsDeferred.resolve();\n",
    "            } else {\n",
    "                window.googleMapsCallback = function() {\n",
    "                    mapsDeferred.resolve();\n",
    "                };\n",
    "                require(\n",
    "                    ['http://maps.googleapis.com/maps/api/js?callback=googleMapsCallback'],\n",
    "                    function() {},\n",
    "                    function() {});\n",
    "            }\n",
    "        },\n",
    "\n",
    "        /**\n",
    "         * Render the map.\n",
    "         */\n",
    "        render: function() {\n",
    "            // We must wait until the Maps API JS is ready.\n",
    "            $.when(this.mapsDeferred.promise()).then(_.bind(function() {\n",
    "                // Empty the views DOM. There seem to be some weird side\n",
    "                // effects when you render more than one instance of this view\n",
    "                // in the notebook. Cleaning the view DOM and deferring the map\n",
    "                // initialization seems to work around this. It seesm almost if\n",
    "                // map instances are sharing some DOM somehow.\n",
    "                this.$el.empty();\n",
    "                _.defer(_.bind(function() {\n",
    "                    this.$map = $([\n",
    "                        '<div style=\"height: ',\n",
    "                        this.model.get('height'),\n",
    "                        '; width: ',\n",
    "                        this.model.get('width'),\n",
    "                        ';\"></div>'\n",
    "                    ].join(''));\n",
    "                    this.$el.append(this.$map);\n",
    "                    this.map = new google.maps.Map(this.$map.get(0), {\n",
    "                        center: {\n",
    "                            lat: this.model.get('lat'),\n",
    "                            lng: this.model.get('lng')\n",
    "                        },\n",
    "                        zoom: this.model.get('zoom')\n",
    "                    });\n",
    "\n",
    "                    // Notify the map when the map container changes size via\n",
    "                    // the exposed properties in the model.\n",
    "                    this.listenTo(\n",
    "                        this.model, 'change:height', _.bind(function() {\n",
    "                            this.$map.height(this.model.get('height'));\n",
    "                            google.maps.event.trigger(this.map, 'resize');\n",
    "                        }, this));\n",
    "                    this.listenTo(\n",
    "                        this.model, 'change:width', _.bind(function() {\n",
    "                            this.$map.width(this.model.get('width'));\n",
    "                            google.maps.event.trigger(this.map, 'resize');\n",
    "                        }, this));\n",
    "\n",
    "                    // Bind a change in the position of the map to the model.\n",
    "                    google.maps.event.addListener(\n",
    "                        this.map,\n",
    "                        'bounds_changed',\n",
    "                        _.bind(this.syncFromMap, this));\n",
    "\n",
    "                    // Bind a change in the model (coming from the Python side)\n",
    "                    // to the location of the map.\n",
    "                    this.listenTo(\n",
    "                        this.model,\n",
    "                        'change:lat',\n",
    "                        _.bind(this.syncFromModel, this));\n",
    "                    this.listenTo(\n",
    "                        this.model,\n",
    "                        'change:lng',\n",
    "                        _.bind(this.syncFromModel, this));\n",
    "                    this.listenTo(\n",
    "                        this.model,\n",
    "                        'change:zoom',\n",
    "                        _.bind(this.syncFromModel, this));\n",
    "\n",
    "                    // Render the initial set of layers.\n",
    "                    if (!this.model.get('layers')) {\n",
    "                        this.model.set('layers', new LayerCollection());\n",
    "                    }\n",
    "                    this.model.get('layers').each(this.buildLayer, this);\n",
    "\n",
    "                    // Bind to changes in the layers of the model to stay in\n",
    "                    // sync.\n",
    "                    this.listenTo(\n",
    "                        this.model.get('layers'),\n",
    "                        'add',\n",
    "                        _.bind(this.buildLayer, this));\n",
    "                    this.listenTo(\n",
    "                        this.model.get('layers'),\n",
    "                        'remove',\n",
    "                        function() {\n",
    "                            console.error('removeLayer not implemented');\n",
    "                        });\n",
    "\n",
    "                    // Even though a google.maps.Map instance should be ready\n",
    "                    // immediately, it is not. This delay lets the stack clear\n",
    "                    // and initial map bounds to be set.\n",
    "                    _.delay(_.bind(function() {\n",
    "                        this.mapsReadyDeferred.resolve();\n",
    "                    }, this), 500);\n",
    "                }, this));\n",
    "            }, this));\n",
    "        },\n",
    "\n",
    "        /**\n",
    "         * Sync the values from the map into the model.\n",
    "         */\n",
    "        syncFromMap: function() {\n",
    "            this.model.set({\n",
    "                lat: this.map.getCenter().lat(),\n",
    "                lng: this.map.getCenter().lng(),\n",
    "                zoom: this.map.getZoom()\n",
    "            });\n",
    "            // This is needed for the model to update the equivalent properties\n",
    "            // on the Python instance of this view.\n",
    "            this.model.save_changes();\n",
    "        },\n",
    "\n",
    "        /**\n",
    "         * Move the map to match the values from the model.\n",
    "         */\n",
    "        syncFromModel: function() {\n",
    "            this.map.setCenter(new google.maps.LatLng(\n",
    "                this.model.get('lat'),\n",
    "                this.model.get('lng')\n",
    "            ));\n",
    "            this.map.setZoom(this.model.get('zoom'));\n",
    "        },\n",
    "\n",
    "        /**\n",
    "         * Add a layer to the map based on its model.\n",
    "         *\n",
    "         * @param {!Layer} layer The layer to add.\n",
    "         */\n",
    "        buildLayer: function(layer) {\n",
    "            switch(layer.get('type')) {\n",
    "                case 'geojsondata':\n",
    "                    this.addGeoJsonLayer(layer.get('config').data);\n",
    "                    break;\n",
    "                case 'geojsonurl':\n",
    "                    this.loadGeoJsonLayer(layer.get('config').url);\n",
    "                    break;\n",
    "                case 'kmlurl':\n",
    "                    this.loadKmlLayer(layer.get('config').url);\n",
    "                    break;\n",
    "                case 'earthengine':\n",
    "                    this.addEarthEngineLayer(\n",
    "                        layer.get('config').mapid, layer.get('config').token);\n",
    "                    break;\n",
    "            }\n",
    "        },\n",
    "\n",
    "        /**\n",
    "         * Adds GeoJSON to the map.\n",
    "         *\n",
    "         * @param {!Object} data A GeoJSON object.\n",
    "         */\n",
    "        addGeoJsonLayer: function(data) {\n",
    "            // Defer until map is ready.\n",
    "            this.mapsReadyDeferred.done(_.bind(function() {\n",
    "                this.map.data.addGeoJson(data);\n",
    "            }, this));\n",
    "        },\n",
    "\n",
    "        /**\n",
    "         * Adds a URL location of GeoJSON to the map.\n",
    "         *\n",
    "         * @param {string} url The URL of the GeoJSON file to load.\n",
    "         */\n",
    "        loadGeoJsonLayer: function(url) {\n",
    "            // Defer until map is ready.\n",
    "            this.mapsReadyDeferred.done(_.bind(function() {\n",
    "                this.map.data.loadGeoJson(url);\n",
    "            }, this));\n",
    "        },\n",
    "\n",
    "        /**\n",
    "         * Add a KML layer to the map.\n",
    "         *\n",
    "         * @param {string} url The URL of the KML file to load.\n",
    "         */\n",
    "        loadKmlLayer: function(url) {\n",
    "            // Defer until map is ready.\n",
    "            this.mapsReadyDeferred.done(_.bind(function() {\n",
    "                new google.maps.KmlLayer({\n",
    "                    url: url,\n",
    "                    map: this.map\n",
    "                });\n",
    "            }, this));\n",
    "        },\n",
    "\n",
    "        /**\n",
    "         * Add an Earth Engine layer to the map.\n",
    "         *\n",
    "         * @param {string} mapid The id of the Earth Engine layer.\n",
    "         * @param {string} token The OAuth token to authenticate with.\n",
    "         */\n",
    "        addEarthEngineLayer: function(mapid, token) {\n",
    "            // Defer until map is ready.\n",
    "            this.mapsReadyDeferred.done(_.bind(function() {\n",
    "                var eeMapOptions = {\n",
    "                    getTileUrl: function(tile, zoom) {\n",
    "                        var url = [\n",
    "                            'https://earthengine.googleapis.com/map',\n",
    "                            mapid,\n",
    "                            zoom,\n",
    "                            tile.x,\n",
    "                            tile.y\n",
    "                        ].join('/');\n",
    "                        url += '?token=' + token;\n",
    "                        return url;\n",
    "                    },\n",
    "                    tileSize: new window.google.maps.Size(256, 256),\n",
    "                    opacity: 1.0,\n",
    "                };\n",
    "\n",
    "                // Create the overlay map type.\n",
    "                var mapType = new window.google.maps.ImageMapType(eeMapOptions);\n",
    "\n",
    "                // Overlay the Earth Engine generated layer.\n",
    "                this.map.overlayMapTypes.push(mapType);\n",
    "            }, this));\n",
    "        }\n",
    "    });\n",
    "\n",
    "    return {\n",
    "        GoogleMapsModel: GoogleMapsModel,\n",
    "        GoogleMapsView: GoogleMapsView\n",
    "    }\n",
    "});\n"
   ]
  },
  {
   "cell_type": "markdown",
   "metadata": {},
   "source": [
    "Python code for gee widget"
   ]
  },
  {
   "cell_type": "code",
   "execution_count": 3,
   "metadata": {
    "collapsed": true
   },
   "outputs": [],
   "source": [
    "from ipywidgets import widgets\n",
    "import traitlets\n",
    "\n",
    "class GoogleMapsView(widgets.DOMWidget):\n",
    "    \"\"\"Google Maps API widget.\"\"\"\n",
    "    _model_name = traitlets.Unicode('GoogleMapsModel').tag(sync=True)\n",
    "    _view_name = traitlets.Unicode('GoogleMapsView').tag(sync=True)\n",
    "    _view_module = traitlets.Unicode('geemap-widget').tag(sync=True)\n",
    "    _model_module = traitlets.Unicode('geemap-widget').tag(sync=True)\n",
    "    lat = traitlets.CFloat(0).tag(sync=True)\n",
    "    lng = traitlets.CFloat(0).tag(sync=True)\n",
    "    zoom = traitlets.CInt(2).tag(sync=True)\n",
    "    height = traitlets.CUnicode('300px').tag(sync=True)\n",
    "    width = traitlets.CUnicode('400px').tag(sync=True)\n",
    "    layers = traitlets.List([]).tag(sync=False)\n",
    "\n",
    "    def addGeoJsonLayer(self, data):\n",
    "        \"\"\"Adds a dictionary of GeoJSON to the map.\n",
    "\n",
    "        NOTE: It is likely if you are using a third party GeoJSON library you\n",
    "        will have to first serialize the data into a simple dictionary before\n",
    "        passing the data to this method.\n",
    "\n",
    "        Args:\n",
    "            data: A simple python dictionary of GeoJSON data.\n",
    "        \"\"\"\n",
    "        self.send({\n",
    "            'action': 'addLayer',\n",
    "            'type': 'geojsondata',\n",
    "            'config': {'data': data}\n",
    "        })\n",
    "\n",
    "    def loadGeoJsonLayer(self, url):\n",
    "        \"\"\"Adds a URL location of GeoJSON to the map.\n",
    "\n",
    "        Args:\n",
    "            url: The URL of the GeoJSON file.\n",
    "        \"\"\"\n",
    "        self.send({\n",
    "            'action': 'addLayer',\n",
    "            'type': 'geojsonurl',\n",
    "            'config': {'url': url}\n",
    "        })\n",
    "\n",
    "    def loadKmlLayer(self, url):\n",
    "        \"\"\"Adds a KML layer to the map.\n",
    "\n",
    "        Args:\n",
    "            url: The URL of the KML file.\n",
    "        \"\"\"\n",
    "        self.send({\n",
    "            'action': 'addLayer',\n",
    "            'type': 'kmlurl',\n",
    "            'config': {'url': url}\n",
    "        })\n",
    "\n",
    "    def addEarthEngineLayer(self, image, vis_params):\n",
    "        \"\"\"Adds an Earth Engine layer to the map.\n",
    "\n",
    "        Args:\n",
    "            image: The ee.Image to display.\n",
    "            vis_params: Dictionary of visualization parameters.\n",
    "        \"\"\"\n",
    "        mapid = image.getMapId(vis_params)\n",
    "        self.send({\n",
    "            'action': 'addLayer',\n",
    "            'type': 'earthengine',\n",
    "            'config': {\n",
    "                'mapid': mapid['mapid'],\n",
    "                'token': mapid['token']\n",
    "            }\n",
    "        })\n"
   ]
  },
  {
   "cell_type": "code",
   "execution_count": 4,
   "metadata": {
    "collapsed": false
   },
   "outputs": [],
   "source": [
    "gar_plots = ee.FeatureCollection(\"ft:14iW585uXib6e89dJyzeNUAXUDpKZECmdvnh4Igbi\")\n",
    "plots = gar_plots\n",
    "study_area = plots.geometry().bounds()\n",
    "bounds = study_area.getInfo()['coordinates']"
   ]
  },
  {
   "cell_type": "markdown",
   "metadata": {},
   "source": [
    "Display Landsat 5 image before and after cloud masking"
   ]
  },
  {
   "cell_type": "code",
   "execution_count": 14,
   "metadata": {
    "collapsed": false
   },
   "outputs": [],
   "source": [
    "ic = ee.ImageCollection('LANDSAT/LT5_L1T_TOA_FMASK')\n",
    "ic = ic.filterDate('2010-01-01', '2016-06-01')\n",
    "ic = ic.filterBounds(study_area)\n",
    "raw_img = ee.Image(ic.first())\n",
    "ic_prepper = cloud_mask.prep_ic('l5', 'toa_fmask')\n",
    "ic_masked = ic.map(ic_prepper)\n",
    "clean_img = ic_masked.qualityMosaic('ndvi')\n",
    "# Image(url=image.select(['nir', 'swir1', 'red']).getThumbUrl({'min':0, 'max':.6, 'region': bounds})) "
   ]
  },
  {
   "cell_type": "code",
   "execution_count": 17,
   "metadata": {
    "collapsed": false
   },
   "outputs": [],
   "source": [
    "# Create map widgets.\n",
    "map_a = GoogleMapsView(lng=111.52, lat=0.48, zoom=10, height='250px', width='800px')\n",
    "map_b = GoogleMapsView(height=map_a.height, width=map_a.width)\n",
    "\n",
    "# Link the map widgets.\n",
    "widgets.jslink((map_a, 'lat'), (map_b, 'lat'))\n",
    "widgets.jslink((map_a, 'lng'), (map_b, 'lng'))\n",
    "widgets.jslink((map_a, 'zoom'), (map_b, 'zoom'))\n",
    "\n",
    "# Add the layers to the maps\n",
    "map_a.addEarthEngineLayer(image=raw_img.select(['B4', 'B5', 'B3']), vis_params={'min': 0, 'max': .6, 'region': bounds})\n",
    "map_b.addEarthEngineLayer(image=clean_img.select(['nir', 'swir1', 'red']), vis_params={'min': 0, 'max': .6, 'region': bounds})\n",
    "\n",
    "# Display\n",
    "display(map_a)\n",
    "display(map_b)"
   ]
  },
  {
   "cell_type": "markdown",
   "metadata": {},
   "source": [
    "Display Landsat 8 data before and after cleaning"
   ]
  },
  {
   "cell_type": "code",
   "execution_count": 44,
   "metadata": {
    "collapsed": true
   },
   "outputs": [],
   "source": [
    "ic = ee.ImageCollection('LANDSAT/LC8_L1T_TOA_FMASK')\n",
    "ic = ic.filterDate('2010-01-01', '2016-06-01')\n",
    "ic = ic.filterBounds(study_area)\n",
    "raw_img = ee.Image(ic.first())\n",
    "ic_prepper = cloud_mask.prep_ic('l8', 'toa_fmask')\n",
    "ic_masked = ic.map(ic_prepper)\n",
    "clean_img = ic_masked.qualityMosaic('ndvi')\n",
    "# Image(url=image.select(['nir', 'swir1', 'red']).getThumbUrl({'min':0, 'max':.6, 'region': bounds})) "
   ]
  },
  {
   "cell_type": "code",
   "execution_count": 45,
   "metadata": {
    "collapsed": true
   },
   "outputs": [],
   "source": [
    "# Create map widgets.\n",
    "map_a = GoogleMapsView(lng=111.52, lat=0.48, zoom=10, height='250px', width='800px')\n",
    "map_b = GoogleMapsView(height=map_a.height, width=map_a.width)\n",
    "\n",
    "# Link the map widgets.\n",
    "widgets.jslink((map_a, 'lat'), (map_b, 'lat'))\n",
    "widgets.jslink((map_a, 'lng'), (map_b, 'lng'))\n",
    "widgets.jslink((map_a, 'zoom'), (map_b, 'zoom'))\n",
    "\n",
    "# Add the layers to the maps\n",
    "map_a.addEarthEngineLayer(image=raw_img.select(['B5', 'B6', 'B4']), vis_params={'min': 0, 'max': .6, 'region': bounds})\n",
    "map_b.addEarthEngineLayer(image=clean_img.select(['nir', 'swir1', 'red']), vis_params={'min': 0, 'max': .6, 'region': bounds})\n",
    "\n",
    "# Display\n",
    "display(map_a)\n",
    "display(map_b)"
   ]
  },
  {
   "cell_type": "code",
   "execution_count": 46,
   "metadata": {
    "collapsed": false
   },
   "outputs": [],
   "source": [
    "training = clean_img.sampleRegions(plots, ['hcs_id'], 30)\n",
    "bands = list(cloud_mask.band_dict['l8'].values())\n",
    "trained = ee.Classifier.cart().train(training, 'hcs_id', bands)\n",
    "classified = clean_img.select(bands).classify(trained)\n"
   ]
  },
  {
   "cell_type": "code",
   "execution_count": 48,
   "metadata": {
    "collapsed": false
   },
   "outputs": [],
   "source": [
    "colors = '152106,225129,369b47,b76031,91af40,cc0013'\n",
    "\n",
    "# Create map widgets.\n",
    "map_a = GoogleMapsView(lng=111.52, lat=0.48, zoom=10, height='250px', width='800px')\n",
    "map_b = GoogleMapsView(height=map_a.height, width=map_a.width)\n",
    "\n",
    "# Link the map widgets.\n",
    "widgets.jslink((map_a, 'lat'), (map_b, 'lat'))\n",
    "widgets.jslink((map_a, 'lng'), (map_b, 'lng'))\n",
    "widgets.jslink((map_a, 'zoom'), (map_b, 'zoom'))\n",
    "\n",
    "# Add the layers to the maps\n",
    "map_a.addEarthEngineLayer(image = clean_img.select(['nir', 'swir1', 'red']), \n",
    "                          vis_params = {'min': 0, 'max': .6, 'region': bounds})\n",
    "map_b.addEarthEngineLayer(image = classified, vis_params = {'min': 0, 'max': 4, 'palette': colors})\n",
    "\n",
    "# Display\n",
    "display(map_a)\n",
    "display(map_b)"
   ]
  },
  {
   "cell_type": "code",
   "execution_count": null,
   "metadata": {
    "collapsed": false
   },
   "outputs": [],
   "source": []
  },
  {
   "cell_type": "code",
   "execution_count": null,
   "metadata": {
    "collapsed": false
   },
   "outputs": [],
   "source": []
  },
  {
   "cell_type": "code",
   "execution_count": null,
   "metadata": {
    "collapsed": true
   },
   "outputs": [],
   "source": []
  }
 ],
 "metadata": {
  "kernelspec": {
   "display_name": "Python 3",
   "language": "python",
   "name": "python3"
  },
  "language_info": {
   "codemirror_mode": {
    "name": "ipython",
    "version": 3
   },
   "file_extension": ".py",
   "mimetype": "text/x-python",
   "name": "python",
   "nbconvert_exporter": "python",
   "pygments_lexer": "ipython3",
   "version": "3.5.2"
  },
  "widgets": {
   "state": {
    "010b8184876446b887ce98d6fc31dd2c": {
     "views": []
    },
    "01557e543c3b4f59a7a547447467432c": {
     "views": []
    },
    "03587a9e7972437b9059a319a5224707": {
     "views": []
    },
    "04bafc998cd84d728fd4ba87cb876b32": {
     "views": []
    },
    "0649bb8358b74d57bcb82bf8bbdd6756": {
     "views": []
    },
    "06d5d5f0937d45dcbc67425f9ebd848b": {
     "views": []
    },
    "09ef2ef6d0e24a32a594354033f56ead": {
     "views": []
    },
    "0a63f231163f4680a564c4d990830797": {
     "views": []
    },
    "0b75d8af86b2441089e2c0e45cbb3f9e": {
     "views": []
    },
    "0bb9000509a145ce88b29f6cf831b9ca": {
     "views": []
    },
    "0cfc3d2a201e4b1cbebbdfd48d01b804": {
     "views": []
    },
    "0e8cabb24e5348aeaff159f2d662891c": {
     "views": []
    },
    "11e29ea250854559b8754a8a1983215c": {
     "views": []
    },
    "18c72dbd35174be8adce77873f559e20": {
     "views": []
    },
    "1ae9049fa76c4e91996a24b8888b883a": {
     "views": []
    },
    "1ee81f1feacc4dc0959811d3d382b0e5": {
     "views": []
    },
    "1f96a7e646c34f3c930e5d552bbaec05": {
     "views": []
    },
    "25807c0932d14f2abe3a6e4336ec5aed": {
     "views": []
    },
    "26711151ceb44659ae11aa06cdd19e4f": {
     "views": []
    },
    "28712a6ffa1f40dcab1a464c29e202e3": {
     "views": []
    },
    "287f107fa8c04821adf4fc4a6f534cf4": {
     "views": []
    },
    "28ac7c48468d4f56ae7e002bafc90510": {
     "views": []
    },
    "2a8b8cace30042f0b2d5fe06c0b5703f": {
     "views": []
    },
    "2ad0df5a0d6f42f7a37d913be829d3c6": {
     "views": []
    },
    "2b74066028b0452ea0f31ea85d7632a8": {
     "views": []
    },
    "2e11547156044174aed4713dffe81e72": {
     "views": []
    },
    "2e4d9b6dae494b00955d36a714247cd7": {
     "views": []
    },
    "2f9ab44324844867b12503f6a441978c": {
     "views": []
    },
    "2fe1d25cf4ff4d1c9d3a2ebf2de1608b": {
     "views": []
    },
    "30a2f5dbd2b24a488d81775b8b66e572": {
     "views": []
    },
    "31546a59225d4148b662b6ebd8f9c664": {
     "views": []
    },
    "32182b354777433bbf085626add08776": {
     "views": []
    },
    "349e2ceb747246f2b5e5579ef8241971": {
     "views": []
    },
    "35c9c6e4fcc040939c2c61038b74d7be": {
     "views": []
    },
    "36d587624784492e9f9fe5703e82cbbb": {
     "views": []
    },
    "38ac993f29034ddba41aa48de7ed613a": {
     "views": []
    },
    "3be393e2ea0547a1b7835dc6a62de06c": {
     "views": []
    },
    "3d53a3939cc944298d924c0b51aad793": {
     "views": []
    },
    "3e5f5aa4165f44a99a05e275c5fc0a43": {
     "views": []
    },
    "41146edccf6d40a5b7a4684c61abf128": {
     "views": []
    },
    "42c199a71cee4d1c9529f0377b077723": {
     "views": []
    },
    "4357e2cf5a324f6e8acc3c73882c22d1": {
     "views": []
    },
    "43f564be39974744b5426ade8a4a468c": {
     "views": []
    },
    "451a821f673340da9e76620038b89a4c": {
     "views": []
    },
    "45b47be69f0d44379bbbbfbab42c01c7": {
     "views": []
    },
    "4a1bf369160741d1ab2963c2ba5659ce": {
     "views": []
    },
    "4c86075d6d2841019251963135f87288": {
     "views": []
    },
    "4de2f84744f44615803c861e5131f41a": {
     "views": []
    },
    "5213317342f047c9a6e551102cf8b027": {
     "views": []
    },
    "5281cfa0df3746578973b31577f43a2e": {
     "views": []
    },
    "542330a0f4b14f12a80633919aa42074": {
     "views": []
    },
    "5521a6fc593145879b27347c50d230d7": {
     "views": []
    },
    "58b0174769fc4eba8f923f18584b275b": {
     "views": []
    },
    "5c5bb3f1489741e4a1125e9110aaf368": {
     "views": []
    },
    "5df28b76b2764969960d2abca0cfd626": {
     "views": []
    },
    "5ecce6c5b9084f61b9a808d66a0eae39": {
     "views": []
    },
    "5f3a19a1fc96422993dd9c14192cbb57": {
     "views": []
    },
    "61455ad789ba4cc8a3dd2d630303d0d2": {
     "views": []
    },
    "61d8dde2cc644723b209200332858c6f": {
     "views": []
    },
    "625a00ab599c4ac9b0c94f8f6ac6a32d": {
     "views": []
    },
    "638d2885ef6340f38f3d4d648c3f97ac": {
     "views": []
    },
    "6566681478114581a369a2fe27491b31": {
     "views": []
    },
    "688216abc9034ded80d82f7a1e2eb08f": {
     "views": []
    },
    "68b9bc571b8a4fd3825e09a743b106e2": {
     "views": []
    },
    "6c71eb4eaa9c4d47a0956c161885ce1d": {
     "views": []
    },
    "6ebcef17039048cdbe49b4d2ca931aa3": {
     "views": []
    },
    "6ec4d46df8f0438b8429485476fc6bcc": {
     "views": []
    },
    "7341d7d7efff4cb9a63e9529f64ad8c7": {
     "views": []
    },
    "7555d4b1a0c24b32a6e8975196b46725": {
     "views": []
    },
    "75f33d6d2b914f8d8e2719bd5968a91a": {
     "views": []
    },
    "7766cb8b3a164f95b11726e98c39a622": {
     "views": []
    },
    "7c090d3fd1ce4af58ec4f0540232ed82": {
     "views": []
    },
    "7c2f8a73c296401399a7c949088dfa1c": {
     "views": []
    },
    "8062eb4c31ab48c989532784ae8dc0e4": {
     "views": []
    },
    "809ef2b53e984960aeaa94946a1ce315": {
     "views": []
    },
    "829fda96cb8a43ebba1dba43634af7e9": {
     "views": []
    },
    "82c841f79c694aa1961711036c8fd775": {
     "views": []
    },
    "837ba2df55364a08a2a024f4b709193c": {
     "views": []
    },
    "8451d6364f4446ed916573af083f24f6": {
     "views": []
    },
    "849bb1ac16f04dd6b8813187eea51c84": {
     "views": []
    },
    "85fc7453d65c4198a4ce11beeabde76c": {
     "views": []
    },
    "860bac450ccf49439acbead7dd2b90d0": {
     "views": []
    },
    "86257500286d4d949612b7ca3f66a25f": {
     "views": []
    },
    "883a6823dac34aa494d19e18f57cfb83": {
     "views": []
    },
    "88a8d67ba8744416991819bd50624182": {
     "views": []
    },
    "88cd4abc6a694108b7647ebeb4d25ca5": {
     "views": []
    },
    "9570556d47f84802ab07bf53ff92ac3b": {
     "views": []
    },
    "96b114f086ce4471b1d4ad2780b965c8": {
     "views": []
    },
    "9a7a0219749f495bb08242f6b0d0bde5": {
     "views": []
    },
    "9c1c55d40dfe4d2a93c5af3df9f32498": {
     "views": []
    },
    "9ec8090e3b0d4387b53a1d3af5d17dae": {
     "views": []
    },
    "9f9eeeadef5441cb972d7072d60ed098": {
     "views": []
    },
    "a57d8b6e5ce6446b885c39b2e8235d2f": {
     "views": []
    },
    "a595ef971a3e45d4b9a654bdd5b698c6": {
     "views": []
    },
    "a7455bf440fb4313844970e8956357ad": {
     "views": []
    },
    "a82ccfc020c5493b8ceb0defd046b353": {
     "views": []
    },
    "a8adee6ae19947bfba781587c9ace3b1": {
     "views": []
    },
    "a971a96220724e6c93617a83b501b91d": {
     "views": []
    },
    "acb9a673cc3545399fada71fff42fefe": {
     "views": []
    },
    "ad2c9d413b8a41e0b5c83ee489eb0974": {
     "views": []
    },
    "adfc8cf05880450594e15d370ef3ee18": {
     "views": []
    },
    "b1b88b671b2f42e1b74dc59731be08dd": {
     "views": []
    },
    "b2efd5ed16354389a307669ac24b1fee": {
     "views": []
    },
    "b309aeeb9744496fb05107fdc62a8131": {
     "views": []
    },
    "b4de2c8aa373401c94b5e8bd08263d23": {
     "views": []
    },
    "b5079e16ad294e028d56cae15fa84741": {
     "views": []
    },
    "b54f620d10034ac0874c5d0df582fb1e": {
     "views": []
    },
    "b9badb7301434349a497e9eadf12d413": {
     "views": []
    },
    "baf3463f678e4fb6941eeb67b3bd7f22": {
     "views": []
    },
    "bc69a01e7c5041ce9ecb5a23867e153c": {
     "views": []
    },
    "c599cd9626774b998299159880f346a1": {
     "views": []
    },
    "c71b0156971a4a8084d6734c666a4d2b": {
     "views": []
    },
    "c9434955bda1472d94bf5f4766174592": {
     "views": []
    },
    "cc6524d8d41e467e895a307415176205": {
     "views": []
    },
    "cd546e583dd845d4b3f80bc490630fdd": {
     "views": []
    },
    "d0e5a73353c544e29d59d448b7cc3233": {
     "views": []
    },
    "d41394943b1d41fdb03ec12695a2bdd0": {
     "views": []
    },
    "d4f237d9891d45f1953d017d2e4d7928": {
     "views": []
    },
    "d6378007e645475d9887dce3e6232850": {
     "views": []
    },
    "d658426825d840b689cbf931d3a0d408": {
     "views": []
    },
    "da1b8d65d1c04dbab43c48cec3729185": {
     "views": []
    },
    "dba5b80374e14055a270a6b0edf79e98": {
     "views": []
    },
    "dd37a25ab5fa425aab2cc865384c63a5": {
     "views": []
    },
    "e0bd15b2130a41a1a4424c2772e09794": {
     "views": []
    },
    "e0e7138ab7c44cdfae5a63f7d1689243": {
     "views": []
    },
    "e26e1306dc5f4cb9afae62c8567ce9a6": {
     "views": []
    },
    "e289337d22324ed78ebc559f92d46a49": {
     "views": []
    },
    "e32b3db2cb04450695390a4d0563f867": {
     "views": []
    },
    "e491dbc540054ad9b3c6f844a58f753b": {
     "views": []
    },
    "e6d3e2932eea400d8d442c731e7abda2": {
     "views": []
    },
    "e6daf3d19efa4323bb1126d3aead9e08": {
     "views": []
    },
    "ebeea6a1ddc74a22a66810a05a7bf6f3": {
     "views": []
    },
    "eca0631127eb4d1ebfa45b00e9baa5df": {
     "views": []
    },
    "efb9fd9b46974bbcb3d9b5069b72e000": {
     "views": []
    },
    "f4192d2b39544d69b4673096db6c30fc": {
     "views": []
    },
    "f4355171a0fb4bcaafc26ccf05488e37": {
     "views": []
    },
    "f82d1b4b63314a2a9a31eba757629fce": {
     "views": []
    },
    "fb255ca5183b4e5c93b1db6a175f9ece": {
     "views": []
    },
    "fbdb87c2537a4fcaa18055877fc52b61": {
     "views": []
    },
    "fc32bb6887f6413ba14cf5c2cb91ba1e": {
     "views": []
    },
    "ffb642c20a3e4b32a84b8d74cb9d1935": {
     "views": []
    }
   },
   "version": "1.1.2"
  }
 },
 "nbformat": 4,
 "nbformat_minor": 0
}
