{
 "cells": [
  {
   "cell_type": "markdown",
   "metadata": {},
   "source": [
    "# HCS classification on preferred sensor/site combination"
   ]
  },
  {
   "cell_type": "markdown",
   "metadata": {},
   "source": [
    "Imports"
   ]
  },
  {
   "cell_type": "code",
   "execution_count": 27,
   "metadata": {
    "collapsed": false
   },
   "outputs": [],
   "source": [
    "from IPython.display import Image\n",
    "from IPython.display import display\n",
    "import numpy as np\n",
    "\n",
    "import ee\n",
    "ee.Initialize()\n",
    "\n",
    "import sys \n",
    "sys.path.append('/rheil/notebooks/pygee')\n",
    "### Note: This path should lead to the root directory of the docker system running the \n",
    "### notebook. This is defined when you initialize the docker container. This enables you\n",
    "### to import the custom scripts below.\n",
    "\n",
    "import hcs_database as hcs_db\n",
    "import cloud_mask"
   ]
  },
  {
   "cell_type": "markdown",
   "metadata": {},
   "source": [
    "Next two cells set up the python and javascript code for the gee widget enabling slippy tile views. Eventually we should move this to a separate module that can be imported."
   ]
  },
  {
   "cell_type": "code",
   "execution_count": 28,
   "metadata": {
    "collapsed": false
   },
   "outputs": [
    {
     "data": {
      "application/javascript": [
       "require.undef('geemap-widget');\n",
       "\n",
       "define('geemap-widget', [\"jupyter-js-widgets\",'jquery', 'underscore'], function(widgets, $, _) {\n",
       "    /**\n",
       "     * A simple model to represent a layer on the map.\n",
       "     *\n",
       "     * @constructor\n",
       "     */\n",
       "    var Layer = Backbone.Model.extend({\n",
       "        defaults: function() {\n",
       "            return {\n",
       "                config: {},\n",
       "                type: undefined,\n",
       "                visible: true\n",
       "            };\n",
       "        }\n",
       "    });\n",
       "\n",
       "\n",
       "\n",
       "    /**\n",
       "     * A collection of layers.\n",
       "     *\n",
       "     * @constructor\n",
       "     */\n",
       "    var LayerCollection = Backbone.Collection.extend({\n",
       "        model: Layer\n",
       "    });\n",
       "\n",
       "\n",
       "\n",
       "    /**\n",
       "     * Override of the main widget model to intercept messages from Python\n",
       "     * update Javascript state correctly.\n",
       "     *\n",
       "     * @constructor\n",
       "     */\n",
       "    var GoogleMapsModel = widgets.WidgetModel.extend({\n",
       "        \n",
       "        defaults: _.extend({}, widgets.DOMWidgetModel.prototype.defaults, {\n",
       "            _model_name : 'GoogleMapsModel',\n",
       "            _view_name : 'GoogleMapsView',\n",
       "            _model_module : 'geemap-widget',\n",
       "            _view_module : 'geemap-widget'\n",
       "        }),\n",
       "        \n",
       "        /** @override */\n",
       "        initialize: function() {\n",
       "            this.listenTo(\n",
       "                this, 'msg:custom', _.bind(this.handleMessage, this));\n",
       "            // this.set('layers', new LayerCollection());\n",
       "        },\n",
       "\n",
       "        /**\n",
       "         * Handle a message from Python.\n",
       "         *\n",
       "         * @param {!Object} payload Payload of the message.\n",
       "         */\n",
       "        handleMessage: function(payload) {\n",
       "            if (!this.get('layers')) {\n",
       "                this.set('layers', new LayerCollection());\n",
       "            }\n",
       "            switch(payload.action) {\n",
       "                case 'addLayer':\n",
       "                    this.get('layers').add({\n",
       "                        config: payload.config,\n",
       "                        type: payload.type\n",
       "                    });\n",
       "                    break;\n",
       "                case 'removeLayer':\n",
       "                    console.error('removeLayer not implemented');\n",
       "                    break;\n",
       "            }\n",
       "        }\n",
       "    });\n",
       "\n",
       "    /**\n",
       "     * A Google Maps API widget.\n",
       "     *\n",
       "     * @constructor\n",
       "     */\n",
       "    var GoogleMapsView = widgets.DOMWidgetView.extend({\n",
       "        /**\n",
       "         * Load the Maps API JS if needed, also prepare a deferred in case any\n",
       "         * map methods are called before the map is ready.\n",
       "         */\n",
       "        initialize: function() {\n",
       "            // Deferred to track for when the map is ready.\n",
       "            this.mapsReadyDeferred = $.Deferred();\n",
       "\n",
       "            // Dynamically adding Google Maps API JS here. Using a deferred to\n",
       "            // track its load status as require returns as soon as the first\n",
       "            // script loads and the Maps API triggers more scripts to append\n",
       "            // which leaves a race condition where require thinks Maps API JS\n",
       "            // is ready when it is not yet.\n",
       "            var mapsDeferred = this.mapsDeferred = $.Deferred();\n",
       "            // Another instance of this view may have already loaded the Maps\n",
       "            // API JS, do not try to load it twice.\n",
       "            if (window.google && window.google.maps) {\n",
       "                mapsDeferred.resolve();\n",
       "            } else {\n",
       "                window.googleMapsCallback = function() {\n",
       "                    mapsDeferred.resolve();\n",
       "                };\n",
       "                require(\n",
       "                    ['http://maps.googleapis.com/maps/api/js?callback=googleMapsCallback'],\n",
       "                    function() {},\n",
       "                    function() {});\n",
       "            }\n",
       "        },\n",
       "\n",
       "        /**\n",
       "         * Render the map.\n",
       "         */\n",
       "        render: function() {\n",
       "            // We must wait until the Maps API JS is ready.\n",
       "            $.when(this.mapsDeferred.promise()).then(_.bind(function() {\n",
       "                // Empty the views DOM. There seem to be some weird side\n",
       "                // effects when you render more than one instance of this view\n",
       "                // in the notebook. Cleaning the view DOM and deferring the map\n",
       "                // initialization seems to work around this. It seesm almost if\n",
       "                // map instances are sharing some DOM somehow.\n",
       "                this.$el.empty();\n",
       "                _.defer(_.bind(function() {\n",
       "                    this.$map = $([\n",
       "                        '<div style=\"height: ',\n",
       "                        this.model.get('height'),\n",
       "                        '; width: ',\n",
       "                        this.model.get('width'),\n",
       "                        ';\"></div>'\n",
       "                    ].join(''));\n",
       "                    this.$el.append(this.$map);\n",
       "                    this.map = new google.maps.Map(this.$map.get(0), {\n",
       "                        center: {\n",
       "                            lat: this.model.get('lat'),\n",
       "                            lng: this.model.get('lng')\n",
       "                        },\n",
       "                        zoom: this.model.get('zoom')\n",
       "                    });\n",
       "\n",
       "                    // Notify the map when the map container changes size via\n",
       "                    // the exposed properties in the model.\n",
       "                    this.listenTo(\n",
       "                        this.model, 'change:height', _.bind(function() {\n",
       "                            this.$map.height(this.model.get('height'));\n",
       "                            google.maps.event.trigger(this.map, 'resize');\n",
       "                        }, this));\n",
       "                    this.listenTo(\n",
       "                        this.model, 'change:width', _.bind(function() {\n",
       "                            this.$map.width(this.model.get('width'));\n",
       "                            google.maps.event.trigger(this.map, 'resize');\n",
       "                        }, this));\n",
       "\n",
       "                    // Bind a change in the position of the map to the model.\n",
       "                    google.maps.event.addListener(\n",
       "                        this.map,\n",
       "                        'bounds_changed',\n",
       "                        _.bind(this.syncFromMap, this));\n",
       "\n",
       "                    // Bind a change in the model (coming from the Python side)\n",
       "                    // to the location of the map.\n",
       "                    this.listenTo(\n",
       "                        this.model,\n",
       "                        'change:lat',\n",
       "                        _.bind(this.syncFromModel, this));\n",
       "                    this.listenTo(\n",
       "                        this.model,\n",
       "                        'change:lng',\n",
       "                        _.bind(this.syncFromModel, this));\n",
       "                    this.listenTo(\n",
       "                        this.model,\n",
       "                        'change:zoom',\n",
       "                        _.bind(this.syncFromModel, this));\n",
       "\n",
       "                    // Render the initial set of layers.\n",
       "                    if (!this.model.get('layers')) {\n",
       "                        this.model.set('layers', new LayerCollection());\n",
       "                    }\n",
       "                    this.model.get('layers').each(this.buildLayer, this);\n",
       "\n",
       "                    // Bind to changes in the layers of the model to stay in\n",
       "                    // sync.\n",
       "                    this.listenTo(\n",
       "                        this.model.get('layers'),\n",
       "                        'add',\n",
       "                        _.bind(this.buildLayer, this));\n",
       "                    this.listenTo(\n",
       "                        this.model.get('layers'),\n",
       "                        'remove',\n",
       "                        function() {\n",
       "                            console.error('removeLayer not implemented');\n",
       "                        });\n",
       "\n",
       "                    // Even though a google.maps.Map instance should be ready\n",
       "                    // immediately, it is not. This delay lets the stack clear\n",
       "                    // and initial map bounds to be set.\n",
       "                    _.delay(_.bind(function() {\n",
       "                        this.mapsReadyDeferred.resolve();\n",
       "                    }, this), 500);\n",
       "                }, this));\n",
       "            }, this));\n",
       "        },\n",
       "\n",
       "        /**\n",
       "         * Sync the values from the map into the model.\n",
       "         */\n",
       "        syncFromMap: function() {\n",
       "            this.model.set({\n",
       "                lat: this.map.getCenter().lat(),\n",
       "                lng: this.map.getCenter().lng(),\n",
       "                zoom: this.map.getZoom()\n",
       "            });\n",
       "            // This is needed for the model to update the equivalent properties\n",
       "            // on the Python instance of this view.\n",
       "            this.model.save_changes();\n",
       "        },\n",
       "\n",
       "        /**\n",
       "         * Move the map to match the values from the model.\n",
       "         */\n",
       "        syncFromModel: function() {\n",
       "            this.map.setCenter(new google.maps.LatLng(\n",
       "                this.model.get('lat'),\n",
       "                this.model.get('lng')\n",
       "            ));\n",
       "            this.map.setZoom(this.model.get('zoom'));\n",
       "        },\n",
       "\n",
       "        /**\n",
       "         * Add a layer to the map based on its model.\n",
       "         *\n",
       "         * @param {!Layer} layer The layer to add.\n",
       "         */\n",
       "        buildLayer: function(layer) {\n",
       "            switch(layer.get('type')) {\n",
       "                case 'geojsondata':\n",
       "                    this.addGeoJsonLayer(layer.get('config').data);\n",
       "                    break;\n",
       "                case 'geojsonurl':\n",
       "                    this.loadGeoJsonLayer(layer.get('config').url);\n",
       "                    break;\n",
       "                case 'kmlurl':\n",
       "                    this.loadKmlLayer(layer.get('config').url);\n",
       "                    break;\n",
       "                case 'earthengine':\n",
       "                    this.addEarthEngineLayer(\n",
       "                        layer.get('config').mapid, layer.get('config').token);\n",
       "                    break;\n",
       "            }\n",
       "        },\n",
       "\n",
       "        /**\n",
       "         * Adds GeoJSON to the map.\n",
       "         *\n",
       "         * @param {!Object} data A GeoJSON object.\n",
       "         */\n",
       "        addGeoJsonLayer: function(data) {\n",
       "            // Defer until map is ready.\n",
       "            this.mapsReadyDeferred.done(_.bind(function() {\n",
       "                this.map.data.addGeoJson(data);\n",
       "            }, this));\n",
       "        },\n",
       "\n",
       "        /**\n",
       "         * Adds a URL location of GeoJSON to the map.\n",
       "         *\n",
       "         * @param {string} url The URL of the GeoJSON file to load.\n",
       "         */\n",
       "        loadGeoJsonLayer: function(url) {\n",
       "            // Defer until map is ready.\n",
       "            this.mapsReadyDeferred.done(_.bind(function() {\n",
       "                this.map.data.loadGeoJson(url);\n",
       "            }, this));\n",
       "        },\n",
       "\n",
       "        /**\n",
       "         * Add a KML layer to the map.\n",
       "         *\n",
       "         * @param {string} url The URL of the KML file to load.\n",
       "         */\n",
       "        loadKmlLayer: function(url) {\n",
       "            // Defer until map is ready.\n",
       "            this.mapsReadyDeferred.done(_.bind(function() {\n",
       "                new google.maps.KmlLayer({\n",
       "                    url: url,\n",
       "                    map: this.map\n",
       "                });\n",
       "            }, this));\n",
       "        },\n",
       "\n",
       "        /**\n",
       "         * Add an Earth Engine layer to the map.\n",
       "         *\n",
       "         * @param {string} mapid The id of the Earth Engine layer.\n",
       "         * @param {string} token The OAuth token to authenticate with.\n",
       "         */\n",
       "        addEarthEngineLayer: function(mapid, token) {\n",
       "            // Defer until map is ready.\n",
       "            this.mapsReadyDeferred.done(_.bind(function() {\n",
       "                var eeMapOptions = {\n",
       "                    getTileUrl: function(tile, zoom) {\n",
       "                        var url = [\n",
       "                            'https://earthengine.googleapis.com/map',\n",
       "                            mapid,\n",
       "                            zoom,\n",
       "                            tile.x,\n",
       "                            tile.y\n",
       "                        ].join('/');\n",
       "                        url += '?token=' + token;\n",
       "                        return url;\n",
       "                    },\n",
       "                    tileSize: new window.google.maps.Size(256, 256),\n",
       "                    opacity: 1.0,\n",
       "                };\n",
       "\n",
       "                // Create the overlay map type.\n",
       "                var mapType = new window.google.maps.ImageMapType(eeMapOptions);\n",
       "\n",
       "                // Overlay the Earth Engine generated layer.\n",
       "                this.map.overlayMapTypes.push(mapType);\n",
       "            }, this));\n",
       "        }\n",
       "    });\n",
       "\n",
       "    return {\n",
       "        GoogleMapsModel: GoogleMapsModel,\n",
       "        GoogleMapsView: GoogleMapsView\n",
       "    }\n",
       "});"
      ],
      "text/plain": [
       "<IPython.core.display.Javascript object>"
      ]
     },
     "metadata": {},
     "output_type": "display_data"
    }
   ],
   "source": [
    "%%javascript\n",
    "require.undef('geemap-widget');\n",
    "\n",
    "define('geemap-widget', [\"jupyter-js-widgets\",'jquery', 'underscore'], function(widgets, $, _) {\n",
    "    /**\n",
    "     * A simple model to represent a layer on the map.\n",
    "     *\n",
    "     * @constructor\n",
    "     */\n",
    "    var Layer = Backbone.Model.extend({\n",
    "        defaults: function() {\n",
    "            return {\n",
    "                config: {},\n",
    "                type: undefined,\n",
    "                visible: true\n",
    "            };\n",
    "        }\n",
    "    });\n",
    "\n",
    "\n",
    "\n",
    "    /**\n",
    "     * A collection of layers.\n",
    "     *\n",
    "     * @constructor\n",
    "     */\n",
    "    var LayerCollection = Backbone.Collection.extend({\n",
    "        model: Layer\n",
    "    });\n",
    "\n",
    "\n",
    "\n",
    "    /**\n",
    "     * Override of the main widget model to intercept messages from Python\n",
    "     * update Javascript state correctly.\n",
    "     *\n",
    "     * @constructor\n",
    "     */\n",
    "    var GoogleMapsModel = widgets.WidgetModel.extend({\n",
    "        \n",
    "        defaults: _.extend({}, widgets.DOMWidgetModel.prototype.defaults, {\n",
    "            _model_name : 'GoogleMapsModel',\n",
    "            _view_name : 'GoogleMapsView',\n",
    "            _model_module : 'geemap-widget',\n",
    "            _view_module : 'geemap-widget'\n",
    "        }),\n",
    "        \n",
    "        /** @override */\n",
    "        initialize: function() {\n",
    "            this.listenTo(\n",
    "                this, 'msg:custom', _.bind(this.handleMessage, this));\n",
    "            // this.set('layers', new LayerCollection());\n",
    "        },\n",
    "\n",
    "        /**\n",
    "         * Handle a message from Python.\n",
    "         *\n",
    "         * @param {!Object} payload Payload of the message.\n",
    "         */\n",
    "        handleMessage: function(payload) {\n",
    "            if (!this.get('layers')) {\n",
    "                this.set('layers', new LayerCollection());\n",
    "            }\n",
    "            switch(payload.action) {\n",
    "                case 'addLayer':\n",
    "                    this.get('layers').add({\n",
    "                        config: payload.config,\n",
    "                        type: payload.type\n",
    "                    });\n",
    "                    break;\n",
    "                case 'removeLayer':\n",
    "                    console.error('removeLayer not implemented');\n",
    "                    break;\n",
    "            }\n",
    "        }\n",
    "    });\n",
    "\n",
    "    /**\n",
    "     * A Google Maps API widget.\n",
    "     *\n",
    "     * @constructor\n",
    "     */\n",
    "    var GoogleMapsView = widgets.DOMWidgetView.extend({\n",
    "        /**\n",
    "         * Load the Maps API JS if needed, also prepare a deferred in case any\n",
    "         * map methods are called before the map is ready.\n",
    "         */\n",
    "        initialize: function() {\n",
    "            // Deferred to track for when the map is ready.\n",
    "            this.mapsReadyDeferred = $.Deferred();\n",
    "\n",
    "            // Dynamically adding Google Maps API JS here. Using a deferred to\n",
    "            // track its load status as require returns as soon as the first\n",
    "            // script loads and the Maps API triggers more scripts to append\n",
    "            // which leaves a race condition where require thinks Maps API JS\n",
    "            // is ready when it is not yet.\n",
    "            var mapsDeferred = this.mapsDeferred = $.Deferred();\n",
    "            // Another instance of this view may have already loaded the Maps\n",
    "            // API JS, do not try to load it twice.\n",
    "            if (window.google && window.google.maps) {\n",
    "                mapsDeferred.resolve();\n",
    "            } else {\n",
    "                window.googleMapsCallback = function() {\n",
    "                    mapsDeferred.resolve();\n",
    "                };\n",
    "                require(\n",
    "                    ['http://maps.googleapis.com/maps/api/js?callback=googleMapsCallback'],\n",
    "                    function() {},\n",
    "                    function() {});\n",
    "            }\n",
    "        },\n",
    "\n",
    "        /**\n",
    "         * Render the map.\n",
    "         */\n",
    "        render: function() {\n",
    "            // We must wait until the Maps API JS is ready.\n",
    "            $.when(this.mapsDeferred.promise()).then(_.bind(function() {\n",
    "                // Empty the views DOM. There seem to be some weird side\n",
    "                // effects when you render more than one instance of this view\n",
    "                // in the notebook. Cleaning the view DOM and deferring the map\n",
    "                // initialization seems to work around this. It seesm almost if\n",
    "                // map instances are sharing some DOM somehow.\n",
    "                this.$el.empty();\n",
    "                _.defer(_.bind(function() {\n",
    "                    this.$map = $([\n",
    "                        '<div style=\"height: ',\n",
    "                        this.model.get('height'),\n",
    "                        '; width: ',\n",
    "                        this.model.get('width'),\n",
    "                        ';\"></div>'\n",
    "                    ].join(''));\n",
    "                    this.$el.append(this.$map);\n",
    "                    this.map = new google.maps.Map(this.$map.get(0), {\n",
    "                        center: {\n",
    "                            lat: this.model.get('lat'),\n",
    "                            lng: this.model.get('lng')\n",
    "                        },\n",
    "                        zoom: this.model.get('zoom')\n",
    "                    });\n",
    "\n",
    "                    // Notify the map when the map container changes size via\n",
    "                    // the exposed properties in the model.\n",
    "                    this.listenTo(\n",
    "                        this.model, 'change:height', _.bind(function() {\n",
    "                            this.$map.height(this.model.get('height'));\n",
    "                            google.maps.event.trigger(this.map, 'resize');\n",
    "                        }, this));\n",
    "                    this.listenTo(\n",
    "                        this.model, 'change:width', _.bind(function() {\n",
    "                            this.$map.width(this.model.get('width'));\n",
    "                            google.maps.event.trigger(this.map, 'resize');\n",
    "                        }, this));\n",
    "\n",
    "                    // Bind a change in the position of the map to the model.\n",
    "                    google.maps.event.addListener(\n",
    "                        this.map,\n",
    "                        'bounds_changed',\n",
    "                        _.bind(this.syncFromMap, this));\n",
    "\n",
    "                    // Bind a change in the model (coming from the Python side)\n",
    "                    // to the location of the map.\n",
    "                    this.listenTo(\n",
    "                        this.model,\n",
    "                        'change:lat',\n",
    "                        _.bind(this.syncFromModel, this));\n",
    "                    this.listenTo(\n",
    "                        this.model,\n",
    "                        'change:lng',\n",
    "                        _.bind(this.syncFromModel, this));\n",
    "                    this.listenTo(\n",
    "                        this.model,\n",
    "                        'change:zoom',\n",
    "                        _.bind(this.syncFromModel, this));\n",
    "\n",
    "                    // Render the initial set of layers.\n",
    "                    if (!this.model.get('layers')) {\n",
    "                        this.model.set('layers', new LayerCollection());\n",
    "                    }\n",
    "                    this.model.get('layers').each(this.buildLayer, this);\n",
    "\n",
    "                    // Bind to changes in the layers of the model to stay in\n",
    "                    // sync.\n",
    "                    this.listenTo(\n",
    "                        this.model.get('layers'),\n",
    "                        'add',\n",
    "                        _.bind(this.buildLayer, this));\n",
    "                    this.listenTo(\n",
    "                        this.model.get('layers'),\n",
    "                        'remove',\n",
    "                        function() {\n",
    "                            console.error('removeLayer not implemented');\n",
    "                        });\n",
    "\n",
    "                    // Even though a google.maps.Map instance should be ready\n",
    "                    // immediately, it is not. This delay lets the stack clear\n",
    "                    // and initial map bounds to be set.\n",
    "                    _.delay(_.bind(function() {\n",
    "                        this.mapsReadyDeferred.resolve();\n",
    "                    }, this), 500);\n",
    "                }, this));\n",
    "            }, this));\n",
    "        },\n",
    "\n",
    "        /**\n",
    "         * Sync the values from the map into the model.\n",
    "         */\n",
    "        syncFromMap: function() {\n",
    "            this.model.set({\n",
    "                lat: this.map.getCenter().lat(),\n",
    "                lng: this.map.getCenter().lng(),\n",
    "                zoom: this.map.getZoom()\n",
    "            });\n",
    "            // This is needed for the model to update the equivalent properties\n",
    "            // on the Python instance of this view.\n",
    "            this.model.save_changes();\n",
    "        },\n",
    "\n",
    "        /**\n",
    "         * Move the map to match the values from the model.\n",
    "         */\n",
    "        syncFromModel: function() {\n",
    "            this.map.setCenter(new google.maps.LatLng(\n",
    "                this.model.get('lat'),\n",
    "                this.model.get('lng')\n",
    "            ));\n",
    "            this.map.setZoom(this.model.get('zoom'));\n",
    "        },\n",
    "\n",
    "        /**\n",
    "         * Add a layer to the map based on its model.\n",
    "         *\n",
    "         * @param {!Layer} layer The layer to add.\n",
    "         */\n",
    "        buildLayer: function(layer) {\n",
    "            switch(layer.get('type')) {\n",
    "                case 'geojsondata':\n",
    "                    this.addGeoJsonLayer(layer.get('config').data);\n",
    "                    break;\n",
    "                case 'geojsonurl':\n",
    "                    this.loadGeoJsonLayer(layer.get('config').url);\n",
    "                    break;\n",
    "                case 'kmlurl':\n",
    "                    this.loadKmlLayer(layer.get('config').url);\n",
    "                    break;\n",
    "                case 'earthengine':\n",
    "                    this.addEarthEngineLayer(\n",
    "                        layer.get('config').mapid, layer.get('config').token);\n",
    "                    break;\n",
    "            }\n",
    "        },\n",
    "\n",
    "        /**\n",
    "         * Adds GeoJSON to the map.\n",
    "         *\n",
    "         * @param {!Object} data A GeoJSON object.\n",
    "         */\n",
    "        addGeoJsonLayer: function(data) {\n",
    "            // Defer until map is ready.\n",
    "            this.mapsReadyDeferred.done(_.bind(function() {\n",
    "                this.map.data.addGeoJson(data);\n",
    "            }, this));\n",
    "        },\n",
    "\n",
    "        /**\n",
    "         * Adds a URL location of GeoJSON to the map.\n",
    "         *\n",
    "         * @param {string} url The URL of the GeoJSON file to load.\n",
    "         */\n",
    "        loadGeoJsonLayer: function(url) {\n",
    "            // Defer until map is ready.\n",
    "            this.mapsReadyDeferred.done(_.bind(function() {\n",
    "                this.map.data.loadGeoJson(url);\n",
    "            }, this));\n",
    "        },\n",
    "\n",
    "        /**\n",
    "         * Add a KML layer to the map.\n",
    "         *\n",
    "         * @param {string} url The URL of the KML file to load.\n",
    "         */\n",
    "        loadKmlLayer: function(url) {\n",
    "            // Defer until map is ready.\n",
    "            this.mapsReadyDeferred.done(_.bind(function() {\n",
    "                new google.maps.KmlLayer({\n",
    "                    url: url,\n",
    "                    map: this.map\n",
    "                });\n",
    "            }, this));\n",
    "        },\n",
    "\n",
    "        /**\n",
    "         * Add an Earth Engine layer to the map.\n",
    "         *\n",
    "         * @param {string} mapid The id of the Earth Engine layer.\n",
    "         * @param {string} token The OAuth token to authenticate with.\n",
    "         */\n",
    "        addEarthEngineLayer: function(mapid, token) {\n",
    "            // Defer until map is ready.\n",
    "            this.mapsReadyDeferred.done(_.bind(function() {\n",
    "                var eeMapOptions = {\n",
    "                    getTileUrl: function(tile, zoom) {\n",
    "                        var url = [\n",
    "                            'https://earthengine.googleapis.com/map',\n",
    "                            mapid,\n",
    "                            zoom,\n",
    "                            tile.x,\n",
    "                            tile.y\n",
    "                        ].join('/');\n",
    "                        url += '?token=' + token;\n",
    "                        return url;\n",
    "                    },\n",
    "                    tileSize: new window.google.maps.Size(256, 256),\n",
    "                    opacity: 1.0,\n",
    "                };\n",
    "\n",
    "                // Create the overlay map type.\n",
    "                var mapType = new window.google.maps.ImageMapType(eeMapOptions);\n",
    "\n",
    "                // Overlay the Earth Engine generated layer.\n",
    "                this.map.overlayMapTypes.push(mapType);\n",
    "            }, this));\n",
    "        }\n",
    "    });\n",
    "\n",
    "    return {\n",
    "        GoogleMapsModel: GoogleMapsModel,\n",
    "        GoogleMapsView: GoogleMapsView\n",
    "    }\n",
    "});\n"
   ]
  },
  {
   "cell_type": "code",
   "execution_count": 29,
   "metadata": {
    "collapsed": true
   },
   "outputs": [],
   "source": [
    "from ipywidgets import widgets\n",
    "import traitlets\n",
    "\n",
    "class GoogleMapsView(widgets.DOMWidget):\n",
    "    \"\"\"Google Maps API widget.\"\"\"\n",
    "    _model_name = traitlets.Unicode('GoogleMapsModel').tag(sync=True)\n",
    "    _view_name = traitlets.Unicode('GoogleMapsView').tag(sync=True)\n",
    "    _view_module = traitlets.Unicode('geemap-widget').tag(sync=True)\n",
    "    _model_module = traitlets.Unicode('geemap-widget').tag(sync=True)\n",
    "    lat = traitlets.CFloat(0).tag(sync=True)\n",
    "    lng = traitlets.CFloat(0).tag(sync=True)\n",
    "    zoom = traitlets.CInt(2).tag(sync=True)\n",
    "    height = traitlets.CUnicode('300px').tag(sync=True)\n",
    "    width = traitlets.CUnicode('400px').tag(sync=True)\n",
    "    layers = traitlets.List([]).tag(sync=False)\n",
    "\n",
    "    def addGeoJsonLayer(self, data):\n",
    "        \"\"\"Adds a dictionary of GeoJSON to the map.\n",
    "\n",
    "        NOTE: It is likely if you are using a third party GeoJSON library you\n",
    "        will have to first serialize the data into a simple dictionary before\n",
    "        passing the data to this method.\n",
    "\n",
    "        Args:\n",
    "            data: A simple python dictionary of GeoJSON data.\n",
    "        \"\"\"\n",
    "        self.send({\n",
    "            'action': 'addLayer',\n",
    "            'type': 'geojsondata',\n",
    "            'config': {'data': data}\n",
    "        })\n",
    "\n",
    "    def loadGeoJsonLayer(self, url):\n",
    "        \"\"\"Adds a URL location of GeoJSON to the map.\n",
    "\n",
    "        Args:\n",
    "            url: The URL of the GeoJSON file.\n",
    "        \"\"\"\n",
    "        self.send({\n",
    "            'action': 'addLayer',\n",
    "            'type': 'geojsonurl',\n",
    "            'config': {'url': url}\n",
    "        })\n",
    "\n",
    "    def loadKmlLayer(self, url):\n",
    "        \"\"\"Adds a KML layer to the map.\n",
    "\n",
    "        Args:\n",
    "            url: The URL of the KML file.\n",
    "        \"\"\"\n",
    "        self.send({\n",
    "            'action': 'addLayer',\n",
    "            'type': 'kmlurl',\n",
    "            'config': {'url': url}\n",
    "        })\n",
    "\n",
    "    def addEarthEngineLayer(self, image, vis_params):\n",
    "        \"\"\"Adds an Earth Engine layer to the map.\n",
    "\n",
    "        Args:\n",
    "            image: The ee.Image to display.\n",
    "            vis_params: Dictionary of visualization parameters.\n",
    "        \"\"\"\n",
    "        mapid = image.getMapId(vis_params)\n",
    "        self.send({\n",
    "            'action': 'addLayer',\n",
    "            'type': 'earthengine',\n",
    "            'config': {\n",
    "                'mapid': mapid['mapid'],\n",
    "                'token': mapid['token']\n",
    "            }\n",
    "        })\n"
   ]
  },
  {
   "cell_type": "markdown",
   "metadata": {},
   "source": [
    "Prep the study site. Can use any site that has a link to underlying fusion tables in hcs_database.py"
   ]
  },
  {
   "cell_type": "code",
   "execution_count": 30,
   "metadata": {
    "collapsed": false
   },
   "outputs": [],
   "source": [
    "strata_map = ee.FeatureCollection(hcs_db.maps_dict['gar_pgm'])\n",
    "study_area = strata_map.geometry().bounds()\n",
    "coords = study_area.getInfo()\n",
    "center_lng = np.mean([coords['coordinates'][0][0][0], coords['coordinates'][0][1][0]])\n",
    "center_lat = np.mean([coords['coordinates'][0][0][1], coords['coordinates'][0][2][1]])\n",
    "center = ee.Geometry.Point([center_lat, center_lng])\n"
   ]
  },
  {
   "cell_type": "markdown",
   "metadata": {},
   "source": [
    "Remap classes to simpler stratification, 0 = other, 1 = forest, 2 = YRF or YS"
   ]
  },
  {
   "cell_type": "code",
   "execution_count": 31,
   "metadata": {
    "collapsed": false
   },
   "outputs": [],
   "source": [
    "input_classes = ee.List([1,2,3,4,5,6,7,8,9,10,11,12,13,14,15,16])\n",
    "output_classes = ee.List([1,1,1,2,2,0,0,0,0,0,0,1,0,0,0,0])\n",
    "strata_map = strata_map.remap(lookupIn = input_classes, lookupOut = output_classes, columnName = 'code_int')"
   ]
  },
  {
   "cell_type": "markdown",
   "metadata": {},
   "source": [
    "Reduce to image"
   ]
  },
  {
   "cell_type": "code",
   "execution_count": 32,
   "metadata": {
    "collapsed": false
   },
   "outputs": [],
   "source": [
    "strata_img = strata_map.reduceToImage(\n",
    "    properties = ['code_int'],\n",
    "    reducer = ee.Reducer.first())\n",
    "\n",
    "strata_img = strata_img.select(['first'], ['strata'])"
   ]
  },
  {
   "cell_type": "markdown",
   "metadata": {},
   "source": [
    "Prep spectral data - Landsat 8"
   ]
  },
  {
   "cell_type": "code",
   "execution_count": 33,
   "metadata": {
    "collapsed": true
   },
   "outputs": [],
   "source": [
    "ic = ee.ImageCollection('LANDSAT/LC8_L1T_TOA_FMASK')\n",
    "ic = ic.filterDate('2010-01-01', '2016-06-01')\n",
    "ic = ic.filterMetadata(name = 'WRS_ROW', operator = 'less_than', value = 120)\n",
    "ic = ic.filterBounds(study_area)\n",
    "raw_img = ee.Image(ic.first())\n",
    "ic_prepper = cloud_mask.prep_ic('l8', 'toa_fmask')\n",
    "ic_masked = ic.map(ic_prepper)\n",
    "clean_img = ic_masked.qualityMosaic('ndvi')"
   ]
  },
  {
   "cell_type": "markdown",
   "metadata": {},
   "source": [
    "Example of how to use landsat 5 (could also use sentinel)"
   ]
  },
  {
   "cell_type": "code",
   "execution_count": 34,
   "metadata": {
    "collapsed": false
   },
   "outputs": [],
   "source": [
    "# ic = ee.ImageCollection('LANDSAT/LT5_L1T_TOA_FMASK')\n",
    "# ic = ic.filterDate('2010-01-01', '2016-06-01')\n",
    "# ic = ic.filterBounds(study_area)\n",
    "# raw_img = ee.Image(ic.first())\n",
    "# ic_prepper = cloud_mask.prep_ic('l5', 'toa_fmask')\n",
    "# ic_masked = ic.map(ic_prepper)\n",
    "# clean_img = ic_masked.qualityMosaic('ndvi')"
   ]
  },
  {
   "cell_type": "markdown",
   "metadata": {},
   "source": [
    "Sample data"
   ]
  },
  {
   "cell_type": "code",
   "execution_count": 35,
   "metadata": {
    "collapsed": false
   },
   "outputs": [],
   "source": [
    "training = clean_img.addBands(strata_img).sample(numPixels = 5000, seed = 0, scale = 30, \n",
    "                                                 region = study_area)\n",
    "classifier = ee.Classifier.cart().train(training, 'strata')"
   ]
  },
  {
   "cell_type": "markdown",
   "metadata": {},
   "source": [
    "Accuracy of classifier on training data"
   ]
  },
  {
   "cell_type": "code",
   "execution_count": 36,
   "metadata": {
    "collapsed": false
   },
   "outputs": [
    {
     "name": "stdout",
     "output_type": "stream",
     "text": [
      "0.9099350046425255\n"
     ]
    },
    {
     "data": {
      "text/plain": [
       "[[1258, 5, 90], [3, 300, 34], [47, 15, 402]]"
      ]
     },
     "execution_count": 36,
     "metadata": {},
     "output_type": "execute_result"
    }
   ],
   "source": [
    "classified = clean_img.classify(classifier)\n",
    "trainAccuracy = classifier.confusionMatrix()\n",
    "print(trainAccuracy.accuracy().getInfo())\n",
    "trainAccuracy.getInfo()"
   ]
  },
  {
   "cell_type": "markdown",
   "metadata": {},
   "source": [
    "Out of sample accuracy"
   ]
  },
  {
   "cell_type": "code",
   "execution_count": 37,
   "metadata": {
    "collapsed": false
   },
   "outputs": [
    {
     "name": "stdout",
     "output_type": "stream",
     "text": [
      "0.7156626506024096\n"
     ]
    },
    {
     "data": {
      "text/plain": [
       "[[192, 2, 36], [6, 52, 25], [40, 9, 53]]"
      ]
     },
     "execution_count": 37,
     "metadata": {},
     "output_type": "execute_result"
    }
   ],
   "source": [
    "validation = clean_img.addBands(strata_img).sample(numPixels = 1000, seed = 1, scale = 30, region = study_area)\n",
    "validated = validation.classify(classifier)\n",
    "testAccuracy = validated.errorMatrix('strata', 'classification')\n",
    "print(testAccuracy.accuracy().getInfo())\n",
    "testAccuracy.getInfo()"
   ]
  },
  {
   "cell_type": "markdown",
   "metadata": {},
   "source": [
    "Display spectral data, official stratification, and gee classification"
   ]
  },
  {
   "cell_type": "code",
   "execution_count": 39,
   "metadata": {
    "collapsed": false
   },
   "outputs": [],
   "source": [
    "# Create map widgets.\n",
    "map_a = GoogleMapsView(lng = center_lng, lat = center_lat, zoom = 11, height = '250px', width = '800px')\n",
    "map_b = GoogleMapsView(height = map_a.height, width = map_a.width)\n",
    "map_c = GoogleMapsView(height = map_a.height, width = map_a.width)\n",
    "\n",
    "# Link the map widgets.\n",
    "widgets.jslink((map_a, 'lat'), (map_b, 'lat'))\n",
    "widgets.jslink((map_a, 'lng'), (map_b, 'lng'))\n",
    "widgets.jslink((map_a, 'zoom'), (map_b, 'zoom'))\n",
    "\n",
    "widgets.jslink((map_a, 'lat'), (map_c, 'lat'))\n",
    "widgets.jslink((map_a, 'lng'), (map_c, 'lng'))\n",
    "widgets.jslink((map_a, 'zoom'), (map_c, 'zoom'))\n",
    "\n",
    "# Add the layers to the maps\n",
    "map_a.addEarthEngineLayer(image=clean_img.select(['nir', 'swir1', 'red']), vis_params={'min': 0, 'max': .6})\n",
    "map_b.addEarthEngineLayer(image=strata_img, vis_params={'min': 0, 'max': 10})\n",
    "map_c.addEarthEngineLayer(image=classified, vis_params={'min': 0, 'max': 10})\n",
    "\n",
    "# Display\n",
    "display(map_a)\n",
    "display(map_b)\n",
    "display(map_c)\n"
   ]
  },
  {
   "cell_type": "code",
   "execution_count": null,
   "metadata": {
    "collapsed": false
   },
   "outputs": [],
   "source": []
  },
  {
   "cell_type": "code",
   "execution_count": null,
   "metadata": {
    "collapsed": true
   },
   "outputs": [],
   "source": []
  }
 ],
 "metadata": {
  "kernelspec": {
   "display_name": "Python 3",
   "language": "python",
   "name": "python3"
  },
  "language_info": {
   "codemirror_mode": {
    "name": "ipython",
    "version": 3
   },
   "file_extension": ".py",
   "mimetype": "text/x-python",
   "name": "python",
   "nbconvert_exporter": "python",
   "pygments_lexer": "ipython3",
   "version": "3.5.1"
  },
  "widgets": {
   "state": {
    "075ad0e912d841a18ee2441a0895d1a0": {
     "views": []
    },
    "0797bad485d844978c8aa6babd2f2995": {
     "views": []
    },
    "0ee4a378974e49d88e75d0d9e155ac7e": {
     "views": []
    },
    "1088084d8b664a9bb75f66a72509bbec": {
     "views": []
    },
    "112f6dbcf15b4be98a0af1d23edf4666": {
     "views": []
    },
    "16d2f1d8869f416a84d75e8abc2a7686": {
     "views": []
    },
    "185a0b8722b84b7180aaeb6ae1d064ad": {
     "views": []
    },
    "1b2d5b23be5747f8a90e9dceb19b1d5f": {
     "views": []
    },
    "1b558e9e62ab4c05b4c8c117f695b1a6": {
     "views": []
    },
    "1be6132ef5a4404592920f0c53194aca": {
     "views": []
    },
    "1e42a610d7d044d19c9bcd753a0a9d79": {
     "views": []
    },
    "20717327ff8b46cfb7b97412b0a4bb1a": {
     "views": []
    },
    "217f679f601148ae8608f9d46bc285b9": {
     "views": []
    },
    "2398f3f0f64c4c1aab520c0e669a4d77": {
     "views": []
    },
    "250abf39fb3a49b1b9a9f42f4a0cea14": {
     "views": []
    },
    "264f0f13bfca4fbcb6846aa3b279a07e": {
     "views": []
    },
    "282345d428ea458a8c43f0c2733cca45": {
     "views": []
    },
    "2857bcb3fac04f2bb9885b1fe02f523c": {
     "views": []
    },
    "295701b571d046b89e0baca128053699": {
     "views": []
    },
    "2ee722ee0ac84490bf4d15aa833ada20": {
     "views": []
    },
    "2f19a739a2c040069b31aeee259799df": {
     "views": []
    },
    "3324e16511d642fb8862ca571407daf8": {
     "views": []
    },
    "333c646ff92f4a7d871659b649c7e220": {
     "views": []
    },
    "33b32b37d0bd4006b78db0bfd6896048": {
     "views": []
    },
    "33eb4380dde5445094861492ae597498": {
     "views": []
    },
    "39b1672a2370424fa1bfc6ed2416b209": {
     "views": []
    },
    "3c85fc3f44804d2fa6695f3ba55f125c": {
     "views": []
    },
    "3dca61204543416982f1afcf29f102ba": {
     "views": []
    },
    "419964f31c8a455292a176c58aab4ccc": {
     "views": []
    },
    "45c96c0d8ea14980a62293b9403b58d9": {
     "views": []
    },
    "474f1b65cb364aec8916893f93187220": {
     "views": []
    },
    "497fc0fd6c8c47e5b2ddbceb4c74f275": {
     "views": []
    },
    "4a6160de69e246779e44ada3a2b733d0": {
     "views": []
    },
    "4a8bc99c9d9e4455a59741a695301360": {
     "views": []
    },
    "4a939acef2da481d80333b073e62618c": {
     "views": []
    },
    "4cade5450a8f4a2792f443b1719d298c": {
     "views": []
    },
    "4d43975d20aa404c9630274135118fa5": {
     "views": []
    },
    "4d4c960901f742d688d927f353f2be21": {
     "views": []
    },
    "4e81ed43fc2140df9ac50f886fdd7870": {
     "views": []
    },
    "4ecf37ba523e4d1aad1844836a0d0b31": {
     "views": []
    },
    "509272ea2b3b49d58cb1fe269ff718ff": {
     "views": []
    },
    "52adb297238e4e99b99ae49cc2cfa3ff": {
     "views": []
    },
    "533eb4bf80b345698885bf83396b8a9e": {
     "views": []
    },
    "5572f998e45441d4b8a9fd6083835eef": {
     "views": []
    },
    "57a14ee55a5a4ef4abffa24100d8c991": {
     "views": []
    },
    "5a4b8d2c300d42728c3d8adb7238f406": {
     "views": []
    },
    "5ba0b0c6c3a244efa4fe748be169fa3a": {
     "views": []
    },
    "607c9cbec02446f1936d42192b825b91": {
     "views": []
    },
    "60a16ce63c524f63a33485c0fda98b7a": {
     "views": []
    },
    "60c1fc2b3ab6485b8517aaf32afed3e2": {
     "views": []
    },
    "6133a3843cf94f60a41213825b9aea49": {
     "views": []
    },
    "618e882bf5b84ac8b593c5a8df27c92a": {
     "views": []
    },
    "61a3e09cb377461d92e757d085de0ca1": {
     "views": []
    },
    "62456348600a4e5088188ae0383e46e3": {
     "views": []
    },
    "64d5e2d8807545d58a32d3c5ab49adf8": {
     "views": []
    },
    "65eb86afeb364c5ea4422f909c8d856a": {
     "views": []
    },
    "67e87c61a76a474cbdb1210f08cad4ba": {
     "views": []
    },
    "6b0639b009e14403a4026749975f5ac4": {
     "views": []
    },
    "6bd35eb650e54debb19ba96a819ab678": {
     "views": []
    },
    "6c497dae5fe94b01910868267fec4845": {
     "views": []
    },
    "6c7a6bcf9ba3414a88d6c0406832fcfc": {
     "views": []
    },
    "703051f81f8440cbac280992fdd318aa": {
     "views": []
    },
    "75a8f1a8c50049bb91e29d62d6171c63": {
     "views": []
    },
    "7729424bca7a4c43b4437cc7bd4cb639": {
     "views": []
    },
    "781596a8733a42d99187ff5fc304cfdc": {
     "views": []
    },
    "7c181c6588344f59a9a28c56b83df1f6": {
     "views": []
    },
    "7d2d8df8a4d24dff85861fdebbc0f314": {
     "views": []
    },
    "7e7a08765bda4f7383ac6e63891c0d5a": {
     "views": []
    },
    "7ecd24f80c2540f78332641a62c069de": {
     "views": []
    },
    "7ed5bd77c8554c8e9c75bfe92e56fe37": {
     "views": []
    },
    "7fbc780e8e97483d99e50fb95ff60d84": {
     "views": []
    },
    "814b38019546431bb6dd9a211e4c0982": {
     "views": []
    },
    "82de1cb9453e4d46a9d3c0afb7afb278": {
     "views": []
    },
    "89e74f4eb0a545b9835dceac41675504": {
     "views": []
    },
    "8aa504f5f40841e48c0df704e96c4ffb": {
     "views": []
    },
    "8b0cbb301aa540f1a75c4221192df8c8": {
     "views": []
    },
    "8eda1ebd9d8e45f8a6cc15c585ea23cf": {
     "views": []
    },
    "8f03b10de9c1425caa22789dc534ffe5": {
     "views": []
    },
    "8f7e6cba0106411d9f375e67b7bf502e": {
     "views": []
    },
    "8ff40a5762864f3eb923bd8fdd5419d2": {
     "views": []
    },
    "91d8721fb06f4c50a5ab77e337b94345": {
     "views": []
    },
    "92053a91e1c74f559e35c6c17e0fc7ad": {
     "views": []
    },
    "94364bd2a8854c43a94fea26c1f9cc97": {
     "views": []
    },
    "969c526d679646a89162bf8f4e4189aa": {
     "views": []
    },
    "9bd0c24c443d4d7fb753456574824001": {
     "views": []
    },
    "9dc56128aadf49db909df1923ae519df": {
     "views": []
    },
    "a264d0b51e0346bf8113895eb1835fe0": {
     "views": []
    },
    "a85992b5b2544cd1bb6582c7afb96ab5": {
     "views": []
    },
    "aa0fa892d2e24a06bd28870f7303cf88": {
     "views": []
    },
    "abb0c6bc9467422689ba017e06f98ca5": {
     "views": []
    },
    "ac8445f9996b4c8a87094c28eafd4e31": {
     "views": []
    },
    "b0e44ef4792d43c69d79311ade951203": {
     "views": []
    },
    "b17d811bb4af4bd1b5a0dbd5d642a5b9": {
     "views": []
    },
    "b2b352c5b2ea48efb5d7c3c89f59d750": {
     "views": []
    },
    "b365ecb126be48c396fee1db03b31c56": {
     "views": []
    },
    "b67bf8f44adf49cab0ad6c08a60ce203": {
     "views": []
    },
    "bd5a02c0b83c4ad29bac71cdf1c3104b": {
     "views": []
    },
    "bdb66d6eb04544569ab3e13360c5968c": {
     "views": []
    },
    "bf677afa90b04530895623b33fea0878": {
     "views": []
    },
    "c10a416708a545a68b88933b2aad6725": {
     "views": []
    },
    "c2dff2cc31a14b86bfa3351c39e5776f": {
     "views": []
    },
    "c8cb268ca4fd4fe690eebf3a7f25a175": {
     "views": []
    },
    "ca42af3ad1eb4367a2e4c2210ac4dd8b": {
     "views": []
    },
    "cc3d68d8ebbc4ac1ac8fc0cee7139f74": {
     "views": []
    },
    "cde2a4c17e4645c1b418b9f5f1949afd": {
     "views": []
    },
    "d865486d6b2f4b7ebb7f503f341bd9a7": {
     "views": []
    },
    "dcf532ebc6cd4d8da42fd8db879d8e7e": {
     "views": []
    },
    "dcf819aed6784a67a795c242e091f808": {
     "views": []
    },
    "df1fae16357e4a129dfd1eb3959ac857": {
     "views": []
    },
    "dfe670ae3f954dde9cc8ec514c9fff85": {
     "views": []
    },
    "e00ae892b11944c9b9da3bc571469ec9": {
     "views": []
    },
    "e0d077e753fb4763be351b8bb38d9b54": {
     "views": []
    },
    "e130006f54364721af081c96c93d38cb": {
     "views": []
    },
    "e3142ca1d97445b3bd0b2f09c5eb6281": {
     "views": []
    },
    "e538668c9c3b40199d9dc0da08fdd2ea": {
     "views": []
    },
    "e6b93db704114da69b0c1c2a4b950b8d": {
     "views": []
    },
    "e9d74c7f68ff4d718f61981c1e1a3cbc": {
     "views": []
    },
    "ea6227155ab145b597694c1eb605e45b": {
     "views": []
    },
    "f1025123d5cd45b1b01fbfcce83e8928": {
     "views": []
    },
    "f2bd00624cd0402ebbd5e4a35a6809b3": {
     "views": []
    },
    "f59418c7ed8a4a3980c9e6d4afd75aa5": {
     "views": []
    },
    "f60e8b35aafb45eebf76489c9b8c6a86": {
     "views": []
    },
    "f858f53df2da4419a981f0434d761977": {
     "views": []
    },
    "fa9012c99af84119b657066215683466": {
     "views": []
    },
    "fd56de692e8448b9b4f4a5f183992342": {
     "views": []
    },
    "fd816c4b2aea470c8aaa4d4c252c5e84": {
     "views": []
    },
    "ff64e83fa0e540b69195ae7aedfed5d8": {
     "views": []
    },
    "ffb5776b77a94f1a86f53a9fe119543e": {
     "views": []
    }
   },
   "version": "1.1.2"
  }
 },
 "nbformat": 4,
 "nbformat_minor": 0
}
