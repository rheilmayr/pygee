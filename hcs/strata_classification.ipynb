{
 "cells": [
  {
   "cell_type": "code",
   "execution_count": 13,
   "metadata": {
    "collapsed": true
   },
   "outputs": [],
   "source": [
    "from IPython.display import Image\n",
    "import ee\n",
    "ee.Initialize()\n",
    "import sys \n",
    "sys.path.append('/rheil/notebooks/pygee')\n",
    "import hcs_database as hcs_db\n",
    "import cloud_mask\n",
    "from IPython.display import display\n",
    "import numpy as np"
   ]
  },
  {
   "cell_type": "code",
   "execution_count": 14,
   "metadata": {
    "collapsed": false
   },
   "outputs": [
    {
     "data": {
      "application/javascript": [
       "require.undef('geemap-widget');\n",
       "\n",
       "define('geemap-widget', [\"jupyter-js-widgets\",'jquery', 'underscore'], function(widgets, $, _) {\n",
       "    /**\n",
       "     * A simple model to represent a layer on the map.\n",
       "     *\n",
       "     * @constructor\n",
       "     */\n",
       "    var Layer = Backbone.Model.extend({\n",
       "        defaults: function() {\n",
       "            return {\n",
       "                config: {},\n",
       "                type: undefined,\n",
       "                visible: true\n",
       "            };\n",
       "        }\n",
       "    });\n",
       "\n",
       "\n",
       "\n",
       "    /**\n",
       "     * A collection of layers.\n",
       "     *\n",
       "     * @constructor\n",
       "     */\n",
       "    var LayerCollection = Backbone.Collection.extend({\n",
       "        model: Layer\n",
       "    });\n",
       "\n",
       "\n",
       "\n",
       "    /**\n",
       "     * Override of the main widget model to intercept messages from Python\n",
       "     * update Javascript state correctly.\n",
       "     *\n",
       "     * @constructor\n",
       "     */\n",
       "    var GoogleMapsModel = widgets.WidgetModel.extend({\n",
       "        \n",
       "        defaults: _.extend({}, widgets.DOMWidgetModel.prototype.defaults, {\n",
       "            _model_name : 'GoogleMapsModel',\n",
       "            _view_name : 'GoogleMapsView',\n",
       "            _model_module : 'geemap-widget',\n",
       "            _view_module : 'geemap-widget'\n",
       "        }),\n",
       "        \n",
       "        /** @override */\n",
       "        initialize: function() {\n",
       "            this.listenTo(\n",
       "                this, 'msg:custom', _.bind(this.handleMessage, this));\n",
       "            // this.set('layers', new LayerCollection());\n",
       "        },\n",
       "\n",
       "        /**\n",
       "         * Handle a message from Python.\n",
       "         *\n",
       "         * @param {!Object} payload Payload of the message.\n",
       "         */\n",
       "        handleMessage: function(payload) {\n",
       "            if (!this.get('layers')) {\n",
       "                this.set('layers', new LayerCollection());\n",
       "            }\n",
       "            switch(payload.action) {\n",
       "                case 'addLayer':\n",
       "                    this.get('layers').add({\n",
       "                        config: payload.config,\n",
       "                        type: payload.type\n",
       "                    });\n",
       "                    break;\n",
       "                case 'removeLayer':\n",
       "                    console.error('removeLayer not implemented');\n",
       "                    break;\n",
       "            }\n",
       "        }\n",
       "    });\n",
       "\n",
       "    /**\n",
       "     * A Google Maps API widget.\n",
       "     *\n",
       "     * @constructor\n",
       "     */\n",
       "    var GoogleMapsView = widgets.DOMWidgetView.extend({\n",
       "        /**\n",
       "         * Load the Maps API JS if needed, also prepare a deferred in case any\n",
       "         * map methods are called before the map is ready.\n",
       "         */\n",
       "        initialize: function() {\n",
       "            // Deferred to track for when the map is ready.\n",
       "            this.mapsReadyDeferred = $.Deferred();\n",
       "\n",
       "            // Dynamically adding Google Maps API JS here. Using a deferred to\n",
       "            // track its load status as require returns as soon as the first\n",
       "            // script loads and the Maps API triggers more scripts to append\n",
       "            // which leaves a race condition where require thinks Maps API JS\n",
       "            // is ready when it is not yet.\n",
       "            var mapsDeferred = this.mapsDeferred = $.Deferred();\n",
       "            // Another instance of this view may have already loaded the Maps\n",
       "            // API JS, do not try to load it twice.\n",
       "            if (window.google && window.google.maps) {\n",
       "                mapsDeferred.resolve();\n",
       "            } else {\n",
       "                window.googleMapsCallback = function() {\n",
       "                    mapsDeferred.resolve();\n",
       "                };\n",
       "                require(\n",
       "                    ['http://maps.googleapis.com/maps/api/js?callback=googleMapsCallback'],\n",
       "                    function() {},\n",
       "                    function() {});\n",
       "            }\n",
       "        },\n",
       "\n",
       "        /**\n",
       "         * Render the map.\n",
       "         */\n",
       "        render: function() {\n",
       "            // We must wait until the Maps API JS is ready.\n",
       "            $.when(this.mapsDeferred.promise()).then(_.bind(function() {\n",
       "                // Empty the views DOM. There seem to be some weird side\n",
       "                // effects when you render more than one instance of this view\n",
       "                // in the notebook. Cleaning the view DOM and deferring the map\n",
       "                // initialization seems to work around this. It seesm almost if\n",
       "                // map instances are sharing some DOM somehow.\n",
       "                this.$el.empty();\n",
       "                _.defer(_.bind(function() {\n",
       "                    this.$map = $([\n",
       "                        '<div style=\"height: ',\n",
       "                        this.model.get('height'),\n",
       "                        '; width: ',\n",
       "                        this.model.get('width'),\n",
       "                        ';\"></div>'\n",
       "                    ].join(''));\n",
       "                    this.$el.append(this.$map);\n",
       "                    this.map = new google.maps.Map(this.$map.get(0), {\n",
       "                        center: {\n",
       "                            lat: this.model.get('lat'),\n",
       "                            lng: this.model.get('lng')\n",
       "                        },\n",
       "                        zoom: this.model.get('zoom')\n",
       "                    });\n",
       "\n",
       "                    // Notify the map when the map container changes size via\n",
       "                    // the exposed properties in the model.\n",
       "                    this.listenTo(\n",
       "                        this.model, 'change:height', _.bind(function() {\n",
       "                            this.$map.height(this.model.get('height'));\n",
       "                            google.maps.event.trigger(this.map, 'resize');\n",
       "                        }, this));\n",
       "                    this.listenTo(\n",
       "                        this.model, 'change:width', _.bind(function() {\n",
       "                            this.$map.width(this.model.get('width'));\n",
       "                            google.maps.event.trigger(this.map, 'resize');\n",
       "                        }, this));\n",
       "\n",
       "                    // Bind a change in the position of the map to the model.\n",
       "                    google.maps.event.addListener(\n",
       "                        this.map,\n",
       "                        'bounds_changed',\n",
       "                        _.bind(this.syncFromMap, this));\n",
       "\n",
       "                    // Bind a change in the model (coming from the Python side)\n",
       "                    // to the location of the map.\n",
       "                    this.listenTo(\n",
       "                        this.model,\n",
       "                        'change:lat',\n",
       "                        _.bind(this.syncFromModel, this));\n",
       "                    this.listenTo(\n",
       "                        this.model,\n",
       "                        'change:lng',\n",
       "                        _.bind(this.syncFromModel, this));\n",
       "                    this.listenTo(\n",
       "                        this.model,\n",
       "                        'change:zoom',\n",
       "                        _.bind(this.syncFromModel, this));\n",
       "\n",
       "                    // Render the initial set of layers.\n",
       "                    if (!this.model.get('layers')) {\n",
       "                        this.model.set('layers', new LayerCollection());\n",
       "                    }\n",
       "                    this.model.get('layers').each(this.buildLayer, this);\n",
       "\n",
       "                    // Bind to changes in the layers of the model to stay in\n",
       "                    // sync.\n",
       "                    this.listenTo(\n",
       "                        this.model.get('layers'),\n",
       "                        'add',\n",
       "                        _.bind(this.buildLayer, this));\n",
       "                    this.listenTo(\n",
       "                        this.model.get('layers'),\n",
       "                        'remove',\n",
       "                        function() {\n",
       "                            console.error('removeLayer not implemented');\n",
       "                        });\n",
       "\n",
       "                    // Even though a google.maps.Map instance should be ready\n",
       "                    // immediately, it is not. This delay lets the stack clear\n",
       "                    // and initial map bounds to be set.\n",
       "                    _.delay(_.bind(function() {\n",
       "                        this.mapsReadyDeferred.resolve();\n",
       "                    }, this), 500);\n",
       "                }, this));\n",
       "            }, this));\n",
       "        },\n",
       "\n",
       "        /**\n",
       "         * Sync the values from the map into the model.\n",
       "         */\n",
       "        syncFromMap: function() {\n",
       "            this.model.set({\n",
       "                lat: this.map.getCenter().lat(),\n",
       "                lng: this.map.getCenter().lng(),\n",
       "                zoom: this.map.getZoom()\n",
       "            });\n",
       "            // This is needed for the model to update the equivalent properties\n",
       "            // on the Python instance of this view.\n",
       "            this.model.save_changes();\n",
       "        },\n",
       "\n",
       "        /**\n",
       "         * Move the map to match the values from the model.\n",
       "         */\n",
       "        syncFromModel: function() {\n",
       "            this.map.setCenter(new google.maps.LatLng(\n",
       "                this.model.get('lat'),\n",
       "                this.model.get('lng')\n",
       "            ));\n",
       "            this.map.setZoom(this.model.get('zoom'));\n",
       "        },\n",
       "\n",
       "        /**\n",
       "         * Add a layer to the map based on its model.\n",
       "         *\n",
       "         * @param {!Layer} layer The layer to add.\n",
       "         */\n",
       "        buildLayer: function(layer) {\n",
       "            switch(layer.get('type')) {\n",
       "                case 'geojsondata':\n",
       "                    this.addGeoJsonLayer(layer.get('config').data);\n",
       "                    break;\n",
       "                case 'geojsonurl':\n",
       "                    this.loadGeoJsonLayer(layer.get('config').url);\n",
       "                    break;\n",
       "                case 'kmlurl':\n",
       "                    this.loadKmlLayer(layer.get('config').url);\n",
       "                    break;\n",
       "                case 'earthengine':\n",
       "                    this.addEarthEngineLayer(\n",
       "                        layer.get('config').mapid, layer.get('config').token);\n",
       "                    break;\n",
       "            }\n",
       "        },\n",
       "\n",
       "        /**\n",
       "         * Adds GeoJSON to the map.\n",
       "         *\n",
       "         * @param {!Object} data A GeoJSON object.\n",
       "         */\n",
       "        addGeoJsonLayer: function(data) {\n",
       "            // Defer until map is ready.\n",
       "            this.mapsReadyDeferred.done(_.bind(function() {\n",
       "                this.map.data.addGeoJson(data);\n",
       "            }, this));\n",
       "        },\n",
       "\n",
       "        /**\n",
       "         * Adds a URL location of GeoJSON to the map.\n",
       "         *\n",
       "         * @param {string} url The URL of the GeoJSON file to load.\n",
       "         */\n",
       "        loadGeoJsonLayer: function(url) {\n",
       "            // Defer until map is ready.\n",
       "            this.mapsReadyDeferred.done(_.bind(function() {\n",
       "                this.map.data.loadGeoJson(url);\n",
       "            }, this));\n",
       "        },\n",
       "\n",
       "        /**\n",
       "         * Add a KML layer to the map.\n",
       "         *\n",
       "         * @param {string} url The URL of the KML file to load.\n",
       "         */\n",
       "        loadKmlLayer: function(url) {\n",
       "            // Defer until map is ready.\n",
       "            this.mapsReadyDeferred.done(_.bind(function() {\n",
       "                new google.maps.KmlLayer({\n",
       "                    url: url,\n",
       "                    map: this.map\n",
       "                });\n",
       "            }, this));\n",
       "        },\n",
       "\n",
       "        /**\n",
       "         * Add an Earth Engine layer to the map.\n",
       "         *\n",
       "         * @param {string} mapid The id of the Earth Engine layer.\n",
       "         * @param {string} token The OAuth token to authenticate with.\n",
       "         */\n",
       "        addEarthEngineLayer: function(mapid, token) {\n",
       "            // Defer until map is ready.\n",
       "            this.mapsReadyDeferred.done(_.bind(function() {\n",
       "                var eeMapOptions = {\n",
       "                    getTileUrl: function(tile, zoom) {\n",
       "                        var url = [\n",
       "                            'https://earthengine.googleapis.com/map',\n",
       "                            mapid,\n",
       "                            zoom,\n",
       "                            tile.x,\n",
       "                            tile.y\n",
       "                        ].join('/');\n",
       "                        url += '?token=' + token;\n",
       "                        return url;\n",
       "                    },\n",
       "                    tileSize: new window.google.maps.Size(256, 256),\n",
       "                    opacity: 1.0,\n",
       "                };\n",
       "\n",
       "                // Create the overlay map type.\n",
       "                var mapType = new window.google.maps.ImageMapType(eeMapOptions);\n",
       "\n",
       "                // Overlay the Earth Engine generated layer.\n",
       "                this.map.overlayMapTypes.push(mapType);\n",
       "            }, this));\n",
       "        }\n",
       "    });\n",
       "\n",
       "    return {\n",
       "        GoogleMapsModel: GoogleMapsModel,\n",
       "        GoogleMapsView: GoogleMapsView\n",
       "    }\n",
       "});"
      ],
      "text/plain": [
       "<IPython.core.display.Javascript object>"
      ]
     },
     "metadata": {},
     "output_type": "display_data"
    }
   ],
   "source": [
    "%%javascript\n",
    "require.undef('geemap-widget');\n",
    "\n",
    "define('geemap-widget', [\"jupyter-js-widgets\",'jquery', 'underscore'], function(widgets, $, _) {\n",
    "    /**\n",
    "     * A simple model to represent a layer on the map.\n",
    "     *\n",
    "     * @constructor\n",
    "     */\n",
    "    var Layer = Backbone.Model.extend({\n",
    "        defaults: function() {\n",
    "            return {\n",
    "                config: {},\n",
    "                type: undefined,\n",
    "                visible: true\n",
    "            };\n",
    "        }\n",
    "    });\n",
    "\n",
    "\n",
    "\n",
    "    /**\n",
    "     * A collection of layers.\n",
    "     *\n",
    "     * @constructor\n",
    "     */\n",
    "    var LayerCollection = Backbone.Collection.extend({\n",
    "        model: Layer\n",
    "    });\n",
    "\n",
    "\n",
    "\n",
    "    /**\n",
    "     * Override of the main widget model to intercept messages from Python\n",
    "     * update Javascript state correctly.\n",
    "     *\n",
    "     * @constructor\n",
    "     */\n",
    "    var GoogleMapsModel = widgets.WidgetModel.extend({\n",
    "        \n",
    "        defaults: _.extend({}, widgets.DOMWidgetModel.prototype.defaults, {\n",
    "            _model_name : 'GoogleMapsModel',\n",
    "            _view_name : 'GoogleMapsView',\n",
    "            _model_module : 'geemap-widget',\n",
    "            _view_module : 'geemap-widget'\n",
    "        }),\n",
    "        \n",
    "        /** @override */\n",
    "        initialize: function() {\n",
    "            this.listenTo(\n",
    "                this, 'msg:custom', _.bind(this.handleMessage, this));\n",
    "            // this.set('layers', new LayerCollection());\n",
    "        },\n",
    "\n",
    "        /**\n",
    "         * Handle a message from Python.\n",
    "         *\n",
    "         * @param {!Object} payload Payload of the message.\n",
    "         */\n",
    "        handleMessage: function(payload) {\n",
    "            if (!this.get('layers')) {\n",
    "                this.set('layers', new LayerCollection());\n",
    "            }\n",
    "            switch(payload.action) {\n",
    "                case 'addLayer':\n",
    "                    this.get('layers').add({\n",
    "                        config: payload.config,\n",
    "                        type: payload.type\n",
    "                    });\n",
    "                    break;\n",
    "                case 'removeLayer':\n",
    "                    console.error('removeLayer not implemented');\n",
    "                    break;\n",
    "            }\n",
    "        }\n",
    "    });\n",
    "\n",
    "    /**\n",
    "     * A Google Maps API widget.\n",
    "     *\n",
    "     * @constructor\n",
    "     */\n",
    "    var GoogleMapsView = widgets.DOMWidgetView.extend({\n",
    "        /**\n",
    "         * Load the Maps API JS if needed, also prepare a deferred in case any\n",
    "         * map methods are called before the map is ready.\n",
    "         */\n",
    "        initialize: function() {\n",
    "            // Deferred to track for when the map is ready.\n",
    "            this.mapsReadyDeferred = $.Deferred();\n",
    "\n",
    "            // Dynamically adding Google Maps API JS here. Using a deferred to\n",
    "            // track its load status as require returns as soon as the first\n",
    "            // script loads and the Maps API triggers more scripts to append\n",
    "            // which leaves a race condition where require thinks Maps API JS\n",
    "            // is ready when it is not yet.\n",
    "            var mapsDeferred = this.mapsDeferred = $.Deferred();\n",
    "            // Another instance of this view may have already loaded the Maps\n",
    "            // API JS, do not try to load it twice.\n",
    "            if (window.google && window.google.maps) {\n",
    "                mapsDeferred.resolve();\n",
    "            } else {\n",
    "                window.googleMapsCallback = function() {\n",
    "                    mapsDeferred.resolve();\n",
    "                };\n",
    "                require(\n",
    "                    ['http://maps.googleapis.com/maps/api/js?callback=googleMapsCallback'],\n",
    "                    function() {},\n",
    "                    function() {});\n",
    "            }\n",
    "        },\n",
    "\n",
    "        /**\n",
    "         * Render the map.\n",
    "         */\n",
    "        render: function() {\n",
    "            // We must wait until the Maps API JS is ready.\n",
    "            $.when(this.mapsDeferred.promise()).then(_.bind(function() {\n",
    "                // Empty the views DOM. There seem to be some weird side\n",
    "                // effects when you render more than one instance of this view\n",
    "                // in the notebook. Cleaning the view DOM and deferring the map\n",
    "                // initialization seems to work around this. It seesm almost if\n",
    "                // map instances are sharing some DOM somehow.\n",
    "                this.$el.empty();\n",
    "                _.defer(_.bind(function() {\n",
    "                    this.$map = $([\n",
    "                        '<div style=\"height: ',\n",
    "                        this.model.get('height'),\n",
    "                        '; width: ',\n",
    "                        this.model.get('width'),\n",
    "                        ';\"></div>'\n",
    "                    ].join(''));\n",
    "                    this.$el.append(this.$map);\n",
    "                    this.map = new google.maps.Map(this.$map.get(0), {\n",
    "                        center: {\n",
    "                            lat: this.model.get('lat'),\n",
    "                            lng: this.model.get('lng')\n",
    "                        },\n",
    "                        zoom: this.model.get('zoom')\n",
    "                    });\n",
    "\n",
    "                    // Notify the map when the map container changes size via\n",
    "                    // the exposed properties in the model.\n",
    "                    this.listenTo(\n",
    "                        this.model, 'change:height', _.bind(function() {\n",
    "                            this.$map.height(this.model.get('height'));\n",
    "                            google.maps.event.trigger(this.map, 'resize');\n",
    "                        }, this));\n",
    "                    this.listenTo(\n",
    "                        this.model, 'change:width', _.bind(function() {\n",
    "                            this.$map.width(this.model.get('width'));\n",
    "                            google.maps.event.trigger(this.map, 'resize');\n",
    "                        }, this));\n",
    "\n",
    "                    // Bind a change in the position of the map to the model.\n",
    "                    google.maps.event.addListener(\n",
    "                        this.map,\n",
    "                        'bounds_changed',\n",
    "                        _.bind(this.syncFromMap, this));\n",
    "\n",
    "                    // Bind a change in the model (coming from the Python side)\n",
    "                    // to the location of the map.\n",
    "                    this.listenTo(\n",
    "                        this.model,\n",
    "                        'change:lat',\n",
    "                        _.bind(this.syncFromModel, this));\n",
    "                    this.listenTo(\n",
    "                        this.model,\n",
    "                        'change:lng',\n",
    "                        _.bind(this.syncFromModel, this));\n",
    "                    this.listenTo(\n",
    "                        this.model,\n",
    "                        'change:zoom',\n",
    "                        _.bind(this.syncFromModel, this));\n",
    "\n",
    "                    // Render the initial set of layers.\n",
    "                    if (!this.model.get('layers')) {\n",
    "                        this.model.set('layers', new LayerCollection());\n",
    "                    }\n",
    "                    this.model.get('layers').each(this.buildLayer, this);\n",
    "\n",
    "                    // Bind to changes in the layers of the model to stay in\n",
    "                    // sync.\n",
    "                    this.listenTo(\n",
    "                        this.model.get('layers'),\n",
    "                        'add',\n",
    "                        _.bind(this.buildLayer, this));\n",
    "                    this.listenTo(\n",
    "                        this.model.get('layers'),\n",
    "                        'remove',\n",
    "                        function() {\n",
    "                            console.error('removeLayer not implemented');\n",
    "                        });\n",
    "\n",
    "                    // Even though a google.maps.Map instance should be ready\n",
    "                    // immediately, it is not. This delay lets the stack clear\n",
    "                    // and initial map bounds to be set.\n",
    "                    _.delay(_.bind(function() {\n",
    "                        this.mapsReadyDeferred.resolve();\n",
    "                    }, this), 500);\n",
    "                }, this));\n",
    "            }, this));\n",
    "        },\n",
    "\n",
    "        /**\n",
    "         * Sync the values from the map into the model.\n",
    "         */\n",
    "        syncFromMap: function() {\n",
    "            this.model.set({\n",
    "                lat: this.map.getCenter().lat(),\n",
    "                lng: this.map.getCenter().lng(),\n",
    "                zoom: this.map.getZoom()\n",
    "            });\n",
    "            // This is needed for the model to update the equivalent properties\n",
    "            // on the Python instance of this view.\n",
    "            this.model.save_changes();\n",
    "        },\n",
    "\n",
    "        /**\n",
    "         * Move the map to match the values from the model.\n",
    "         */\n",
    "        syncFromModel: function() {\n",
    "            this.map.setCenter(new google.maps.LatLng(\n",
    "                this.model.get('lat'),\n",
    "                this.model.get('lng')\n",
    "            ));\n",
    "            this.map.setZoom(this.model.get('zoom'));\n",
    "        },\n",
    "\n",
    "        /**\n",
    "         * Add a layer to the map based on its model.\n",
    "         *\n",
    "         * @param {!Layer} layer The layer to add.\n",
    "         */\n",
    "        buildLayer: function(layer) {\n",
    "            switch(layer.get('type')) {\n",
    "                case 'geojsondata':\n",
    "                    this.addGeoJsonLayer(layer.get('config').data);\n",
    "                    break;\n",
    "                case 'geojsonurl':\n",
    "                    this.loadGeoJsonLayer(layer.get('config').url);\n",
    "                    break;\n",
    "                case 'kmlurl':\n",
    "                    this.loadKmlLayer(layer.get('config').url);\n",
    "                    break;\n",
    "                case 'earthengine':\n",
    "                    this.addEarthEngineLayer(\n",
    "                        layer.get('config').mapid, layer.get('config').token);\n",
    "                    break;\n",
    "            }\n",
    "        },\n",
    "\n",
    "        /**\n",
    "         * Adds GeoJSON to the map.\n",
    "         *\n",
    "         * @param {!Object} data A GeoJSON object.\n",
    "         */\n",
    "        addGeoJsonLayer: function(data) {\n",
    "            // Defer until map is ready.\n",
    "            this.mapsReadyDeferred.done(_.bind(function() {\n",
    "                this.map.data.addGeoJson(data);\n",
    "            }, this));\n",
    "        },\n",
    "\n",
    "        /**\n",
    "         * Adds a URL location of GeoJSON to the map.\n",
    "         *\n",
    "         * @param {string} url The URL of the GeoJSON file to load.\n",
    "         */\n",
    "        loadGeoJsonLayer: function(url) {\n",
    "            // Defer until map is ready.\n",
    "            this.mapsReadyDeferred.done(_.bind(function() {\n",
    "                this.map.data.loadGeoJson(url);\n",
    "            }, this));\n",
    "        },\n",
    "\n",
    "        /**\n",
    "         * Add a KML layer to the map.\n",
    "         *\n",
    "         * @param {string} url The URL of the KML file to load.\n",
    "         */\n",
    "        loadKmlLayer: function(url) {\n",
    "            // Defer until map is ready.\n",
    "            this.mapsReadyDeferred.done(_.bind(function() {\n",
    "                new google.maps.KmlLayer({\n",
    "                    url: url,\n",
    "                    map: this.map\n",
    "                });\n",
    "            }, this));\n",
    "        },\n",
    "\n",
    "        /**\n",
    "         * Add an Earth Engine layer to the map.\n",
    "         *\n",
    "         * @param {string} mapid The id of the Earth Engine layer.\n",
    "         * @param {string} token The OAuth token to authenticate with.\n",
    "         */\n",
    "        addEarthEngineLayer: function(mapid, token) {\n",
    "            // Defer until map is ready.\n",
    "            this.mapsReadyDeferred.done(_.bind(function() {\n",
    "                var eeMapOptions = {\n",
    "                    getTileUrl: function(tile, zoom) {\n",
    "                        var url = [\n",
    "                            'https://earthengine.googleapis.com/map',\n",
    "                            mapid,\n",
    "                            zoom,\n",
    "                            tile.x,\n",
    "                            tile.y\n",
    "                        ].join('/');\n",
    "                        url += '?token=' + token;\n",
    "                        return url;\n",
    "                    },\n",
    "                    tileSize: new window.google.maps.Size(256, 256),\n",
    "                    opacity: 1.0,\n",
    "                };\n",
    "\n",
    "                // Create the overlay map type.\n",
    "                var mapType = new window.google.maps.ImageMapType(eeMapOptions);\n",
    "\n",
    "                // Overlay the Earth Engine generated layer.\n",
    "                this.map.overlayMapTypes.push(mapType);\n",
    "            }, this));\n",
    "        }\n",
    "    });\n",
    "\n",
    "    return {\n",
    "        GoogleMapsModel: GoogleMapsModel,\n",
    "        GoogleMapsView: GoogleMapsView\n",
    "    }\n",
    "});\n"
   ]
  },
  {
   "cell_type": "code",
   "execution_count": 15,
   "metadata": {
    "collapsed": true
   },
   "outputs": [],
   "source": [
    "from ipywidgets import widgets\n",
    "import traitlets\n",
    "\n",
    "class GoogleMapsView(widgets.DOMWidget):\n",
    "    \"\"\"Google Maps API widget.\"\"\"\n",
    "    _model_name = traitlets.Unicode('GoogleMapsModel').tag(sync=True)\n",
    "    _view_name = traitlets.Unicode('GoogleMapsView').tag(sync=True)\n",
    "    _view_module = traitlets.Unicode('geemap-widget').tag(sync=True)\n",
    "    _model_module = traitlets.Unicode('geemap-widget').tag(sync=True)\n",
    "    lat = traitlets.CFloat(0).tag(sync=True)\n",
    "    lng = traitlets.CFloat(0).tag(sync=True)\n",
    "    zoom = traitlets.CInt(2).tag(sync=True)\n",
    "    height = traitlets.CUnicode('300px').tag(sync=True)\n",
    "    width = traitlets.CUnicode('400px').tag(sync=True)\n",
    "    layers = traitlets.List([]).tag(sync=False)\n",
    "\n",
    "    def addGeoJsonLayer(self, data):\n",
    "        \"\"\"Adds a dictionary of GeoJSON to the map.\n",
    "\n",
    "        NOTE: It is likely if you are using a third party GeoJSON library you\n",
    "        will have to first serialize the data into a simple dictionary before\n",
    "        passing the data to this method.\n",
    "\n",
    "        Args:\n",
    "            data: A simple python dictionary of GeoJSON data.\n",
    "        \"\"\"\n",
    "        self.send({\n",
    "            'action': 'addLayer',\n",
    "            'type': 'geojsondata',\n",
    "            'config': {'data': data}\n",
    "        })\n",
    "\n",
    "    def loadGeoJsonLayer(self, url):\n",
    "        \"\"\"Adds a URL location of GeoJSON to the map.\n",
    "\n",
    "        Args:\n",
    "            url: The URL of the GeoJSON file.\n",
    "        \"\"\"\n",
    "        self.send({\n",
    "            'action': 'addLayer',\n",
    "            'type': 'geojsonurl',\n",
    "            'config': {'url': url}\n",
    "        })\n",
    "\n",
    "    def loadKmlLayer(self, url):\n",
    "        \"\"\"Adds a KML layer to the map.\n",
    "\n",
    "        Args:\n",
    "            url: The URL of the KML file.\n",
    "        \"\"\"\n",
    "        self.send({\n",
    "            'action': 'addLayer',\n",
    "            'type': 'kmlurl',\n",
    "            'config': {'url': url}\n",
    "        })\n",
    "\n",
    "    def addEarthEngineLayer(self, image, vis_params):\n",
    "        \"\"\"Adds an Earth Engine layer to the map.\n",
    "\n",
    "        Args:\n",
    "            image: The ee.Image to display.\n",
    "            vis_params: Dictionary of visualization parameters.\n",
    "        \"\"\"\n",
    "        mapid = image.getMapId(vis_params)\n",
    "        self.send({\n",
    "            'action': 'addLayer',\n",
    "            'type': 'earthengine',\n",
    "            'config': {\n",
    "                'mapid': mapid['mapid'],\n",
    "                'token': mapid['token']\n",
    "            }\n",
    "        })\n"
   ]
  },
  {
   "cell_type": "code",
   "execution_count": null,
   "metadata": {
    "collapsed": true
   },
   "outputs": [],
   "source": []
  },
  {
   "cell_type": "code",
   "execution_count": 16,
   "metadata": {
    "collapsed": false
   },
   "outputs": [],
   "source": [
    "strata_map = ee.FeatureCollection(hcs_db.maps_dict['gar_pgm'])\n",
    "study_area = strata_map.geometry().bounds()\n",
    "coords = study_area.getInfo()\n",
    "center_lng = np.mean([coords['coordinates'][0][0][0], coords['coordinates'][0][1][0]])\n",
    "center_lat = np.mean([coords['coordinates'][0][0][1], coords['coordinates'][0][2][1]])\n",
    "center = ee.Geometry.Point([center_lat, center_lng])\n"
   ]
  },
  {
   "cell_type": "code",
   "execution_count": 17,
   "metadata": {
    "collapsed": false
   },
   "outputs": [],
   "source": [
    "input_classes = ee.List([1,2,3,4,5,6,7,8,9,10,11,12,13,14,15,16])\n",
    "output_classes = ee.List([1,1,1,2,2,0,0,0,0,0,0,1,0,0,0,0])\n",
    "strata_map = strata_map.remap(lookupIn = input_classes, lookupOut = output_classes, columnName = 'code_int')"
   ]
  },
  {
   "cell_type": "code",
   "execution_count": 18,
   "metadata": {
    "collapsed": false
   },
   "outputs": [],
   "source": [
    "strata_img = strata_map.reduceToImage(\n",
    "    properties = ['code_int'],\n",
    "    reducer = ee.Reducer.first())\n",
    "\n",
    "strata_img = strata_img.select(['first'], ['strata'])"
   ]
  },
  {
   "cell_type": "markdown",
   "metadata": {},
   "source": [
    "Prep spectral data - Landsat 8"
   ]
  },
  {
   "cell_type": "code",
   "execution_count": 19,
   "metadata": {
    "collapsed": true
   },
   "outputs": [],
   "source": [
    "ic = ee.ImageCollection('LANDSAT/LC8_L1T_TOA_FMASK')\n",
    "ic = ic.filterDate('2010-01-01', '2016-06-01')\n",
    "ic = ic.filterMetadata(name = 'WRS_ROW', operator = 'less_than', value = 120)\n",
    "ic = ic.filterBounds(study_area)\n",
    "raw_img = ee.Image(ic.first())\n",
    "ic_prepper = cloud_mask.prep_ic('l8', 'toa_fmask')\n",
    "ic_masked = ic.map(ic_prepper)\n",
    "clean_img = ic_masked.qualityMosaic('ndvi')"
   ]
  },
  {
   "cell_type": "markdown",
   "metadata": {},
   "source": [
    "Switch to different sensor?"
   ]
  },
  {
   "cell_type": "code",
   "execution_count": 20,
   "metadata": {
    "collapsed": false
   },
   "outputs": [],
   "source": [
    "# ic = ee.ImageCollection('LANDSAT/LT5_L1T_TOA_FMASK')\n",
    "# ic = ic.filterDate('2010-01-01', '2016-06-01')\n",
    "# ic = ic.filterBounds(study_area)\n",
    "# raw_img = ee.Image(ic.first())\n",
    "# ic_prepper = cloud_mask.prep_ic('l5', 'toa_fmask')\n",
    "# ic_masked = ic.map(ic_prepper)\n",
    "# clean_img = ic_masked.qualityMosaic('ndvi')"
   ]
  },
  {
   "cell_type": "code",
   "execution_count": null,
   "metadata": {
    "collapsed": false
   },
   "outputs": [],
   "source": []
  },
  {
   "cell_type": "markdown",
   "metadata": {},
   "source": [
    "Sample data"
   ]
  },
  {
   "cell_type": "code",
   "execution_count": 21,
   "metadata": {
    "collapsed": false
   },
   "outputs": [],
   "source": [
    "training = clean_img.addBands(strata_img).sample(numPixels = 5000, seed = 0, scale = 30, \n",
    "                                                 region = study_area)\n",
    "classifier = ee.Classifier.cart().train(training, 'strata')"
   ]
  },
  {
   "cell_type": "markdown",
   "metadata": {},
   "source": [
    "Accuracy of classifier on training data"
   ]
  },
  {
   "cell_type": "code",
   "execution_count": null,
   "metadata": {
    "collapsed": false
   },
   "outputs": [],
   "source": [
    "classified = clean_img.classify(classifier)\n",
    "trainAccuracy = classifier.confusionMatrix()\n",
    "print(trainAccuracy.accuracy().getInfo())\n",
    "trainAccuracy.getInfo()"
   ]
  },
  {
   "cell_type": "markdown",
   "metadata": {},
   "source": [
    "Out of sample accuracy"
   ]
  },
  {
   "cell_type": "code",
   "execution_count": null,
   "metadata": {
    "collapsed": false
   },
   "outputs": [],
   "source": [
    "validation = clean_img.addBands(strata_img).sample(numPixels = 1000, seed = 1, scale = 30, region = study_area)\n",
    "validated = validation.classify(classifier)\n",
    "testAccuracy = validated.errorMatrix('strata', 'classification')\n",
    "print(testAccuracy.accuracy().getInfo())\n",
    "testAccuracy.getInfo()"
   ]
  },
  {
   "cell_type": "code",
   "execution_count": null,
   "metadata": {
    "collapsed": false
   },
   "outputs": [],
   "source": [
    "# Create map widgets.\n",
    "map_a = GoogleMapsView(lng = center_lng, lat = center_lat, zoom = 11, height = '250px', width = '800px')\n",
    "map_b = GoogleMapsView(height = map_a.height, width = map_a.width)\n",
    "map_c = GoogleMapsView(height = map_a.height, width = map_a.width)\n",
    "\n",
    "# Link the map widgets.\n",
    "widgets.jslink((map_a, 'lat'), (map_b, 'lat'))\n",
    "widgets.jslink((map_a, 'lng'), (map_b, 'lng'))\n",
    "widgets.jslink((map_a, 'zoom'), (map_b, 'zoom'))\n",
    "\n",
    "widgets.jslink((map_a, 'lat'), (map_c, 'lat'))\n",
    "widgets.jslink((map_a, 'lng'), (map_c, 'lng'))\n",
    "widgets.jslink((map_a, 'zoom'), (map_c, 'zoom'))\n",
    "\n",
    "# Add the layers to the maps\n",
    "map_a.addEarthEngineLayer(image=clean_img.select(['nir', 'swir1', 'red']), vis_params={'min': 0, 'max': .6})\n",
    "map_b.addEarthEngineLayer(image=strata_img, vis_params={'min': 0, 'max': 10})\n",
    "map_c.addEarthEngineLayer(image=classified, vis_params={'min': 0, 'max': 10})\n",
    "\n",
    "# Display\n",
    "display(map_a)\n",
    "display(map_b)\n",
    "display(map_c)"
   ]
  },
  {
   "cell_type": "code",
   "execution_count": null,
   "metadata": {
    "collapsed": false
   },
   "outputs": [],
   "source": []
  }
 ],
 "metadata": {
  "kernelspec": {
   "display_name": "Python 3",
   "language": "python",
   "name": "python3"
  },
  "language_info": {
   "codemirror_mode": {
    "name": "ipython",
    "version": 3
   },
   "file_extension": ".py",
   "mimetype": "text/x-python",
   "name": "python",
   "nbconvert_exporter": "python",
   "pygments_lexer": "ipython3",
   "version": "3.5.2"
  },
  "widgets": {
   "state": {
    "0028ac0a3d2a40ea81142c1a1f1efbac": {
     "views": []
    },
    "014ee07592b847d5b3530f21f916f4a1": {
     "views": []
    },
    "09828be7dd4e49a690711879462a10cd": {
     "views": []
    },
    "0bc6454e42954c74b10d92dfd82bc743": {
     "views": []
    },
    "0ed4be9c966849e4a012653e5e167065": {
     "views": []
    },
    "1294b08387b54f2c8d3bdc70508257a2": {
     "views": []
    },
    "13c79dc73ed14a87a04d76e3e5941a04": {
     "views": []
    },
    "1439aa69352a4ac4a8c5725e6cf30436": {
     "views": []
    },
    "17014ae9e81242709146d1e79f263dc2": {
     "views": []
    },
    "1953ae74c7a543e8acf9ec0e013f1aee": {
     "views": []
    },
    "1bb5fe6d16df4fd2862fa13560cc3b73": {
     "views": []
    },
    "1d54767729814116a1e24a967320ee01": {
     "views": []
    },
    "1da1bf28128e44b09327356b4115f6ba": {
     "views": []
    },
    "201d2fd4d4a94bb4b8184fe20a184962": {
     "views": []
    },
    "21e0efd2005a457eb884dbedf7b41512": {
     "views": []
    },
    "22c3f61894ad4e798b4eea9fdac4e3c7": {
     "views": []
    },
    "24bcd35274124b2183f3e71a8b8beef0": {
     "views": []
    },
    "261d422620b648519416a5ddd5d84568": {
     "views": []
    },
    "28e872ef3c1f41b39d35bf32000c352b": {
     "views": []
    },
    "295a95bdd7b046a3b760508a6c19f5a2": {
     "views": []
    },
    "2b379131ee94431fb4c7ab48e0842d4c": {
     "views": []
    },
    "2b8a0448888241c0af9129d84968d1f5": {
     "views": []
    },
    "2cf7a545eb3e4211ad4426a5e61c4c7d": {
     "views": []
    },
    "2e0b50392ea9465b84324c7032d6a32d": {
     "views": []
    },
    "368f230a705f4bba987ec65635c99e6b": {
     "views": []
    },
    "3d80e14eb9a84d1da12a8443f329715d": {
     "views": []
    },
    "422ad7a35cbd4742a38164148479c09f": {
     "views": []
    },
    "4236bdc0049d429881cf316aab7e9609": {
     "views": []
    },
    "4464e17b2ed641bab6dee33b4b007b18": {
     "views": []
    },
    "49a80fb0e599492196b365743c263daa": {
     "views": []
    },
    "49b6b5e39156411692d9b327cfaa860a": {
     "views": []
    },
    "4ca9e59fe7fb409eb8c2ed357697b1e9": {
     "views": []
    },
    "4cbdad8b026e4b28a4d4e4b05fcae34a": {
     "views": []
    },
    "4cc0d66493f54bcf943ac3a0847e6277": {
     "views": []
    },
    "4d53b0f344d741e2a57e95a055a384ec": {
     "views": []
    },
    "4ddcf18c60634ea9888cc18ee195af3c": {
     "views": []
    },
    "4f5ee27e692845dab52987fec5707cf9": {
     "views": []
    },
    "4f7f21dc5f2949988dc813a3ff297d51": {
     "views": []
    },
    "4f9bcb8227fb4e57af692d11b0eae2d6": {
     "views": []
    },
    "50cc4c2484cc421684633b4b28972107": {
     "views": []
    },
    "52b5ca1015384d1b8ea2bcfaebf3716a": {
     "views": []
    },
    "5e42503ab09a45349b652e2f18884786": {
     "views": []
    },
    "619ce061a2c649088c11dd43ef4f091d": {
     "views": []
    },
    "68f18c309fa14eb19bd8b581688e3832": {
     "views": []
    },
    "6d1d7e1ac7434456b16310d73c58e004": {
     "views": []
    },
    "6f2f403dc41d411c88926f8ffb05f918": {
     "views": []
    },
    "7179f3c8850f4ce193875e6b34f1ccc9": {
     "views": []
    },
    "751ac9bfc2e3461db1f971db0edb1d77": {
     "views": []
    },
    "770e80626c684b46b8c5fbf9dc3edeae": {
     "views": []
    },
    "7881c4545b634ad79681daba31db2771": {
     "views": []
    },
    "7ac757ab439f4950a861c616279db013": {
     "views": []
    },
    "7d85d454eba64221b9e7d77998bdca88": {
     "views": []
    },
    "807c8730fbff429da312a48a92633855": {
     "views": []
    },
    "86a27d5d66aa41749e1af79089965029": {
     "views": []
    },
    "8b634995f2e346f1b232e7238ec057cb": {
     "views": []
    },
    "8d0aa3573026482a9d4a86ed59d3781d": {
     "views": []
    },
    "8d3ff85ee06d4c92bdc5cb127678d53b": {
     "views": []
    },
    "8df26b87bf43432d9f55678ded857e8a": {
     "views": []
    },
    "8dfa2dd6b3354120a7f0abbb1c140bfa": {
     "views": []
    },
    "8f0a3be3a5974ae29ba2a43ebb8a74d6": {
     "views": []
    },
    "916e6e3f4f3c4fa9bcbd7fc5369c8d97": {
     "views": []
    },
    "9354882fd8014c0b880b0ba9f48e3bcb": {
     "views": []
    },
    "9427cbd643304436b690401d2e8522a7": {
     "views": []
    },
    "94567f80dc4b4ea791c61ca986c8f79f": {
     "views": []
    },
    "95a9c3a2fe194b868bed5cb1b7e17beb": {
     "views": []
    },
    "961f07c4ebde45aeb384316655a3b597": {
     "views": []
    },
    "96582858546048fcabbc989335e473b4": {
     "views": []
    },
    "9802c544364046f08975159b89e548b9": {
     "views": []
    },
    "9bb47f7fce784e58820bb528d93716e5": {
     "views": []
    },
    "9e0fa5b5c2c043e9ac9f38c86009eaa1": {
     "views": []
    },
    "9f7c01c571b748e7b3b644d055375241": {
     "views": []
    },
    "a01bf317f47c4c6d94d9a308822c7d18": {
     "views": []
    },
    "a4ca6bef7da043ffbb012af6d48277f2": {
     "views": []
    },
    "a58273b11eae46b68809aec3d5b39c67": {
     "views": []
    },
    "a5bfd6af668a4e9c9eb1a451b2d2bfd7": {
     "views": []
    },
    "aa4511ec6f4a4e18b3550c897404f13a": {
     "views": []
    },
    "ab9de287fe0e4ba1810afc465f9d3770": {
     "views": []
    },
    "afb43632d1514f11adba18f154e512d0": {
     "views": []
    },
    "b613b76d946642d4a22fed0a681d95dd": {
     "views": []
    },
    "b7ea74f2092a4f238ebb73e0ee3bacd2": {
     "views": []
    },
    "bb9869df098a4f32a2cc4362567d17b7": {
     "views": []
    },
    "bbc6254d9ffb46a7b9d1acca9383560f": {
     "views": []
    },
    "c09a7d78a1ae4882b75b0fae6d8c5e53": {
     "views": []
    },
    "c0bb756ff59c48e8add0e8fd78527723": {
     "views": []
    },
    "c4ec92e7a8ae488ca7d0137def983e3d": {
     "views": []
    },
    "c77aa03a11c94cbcae24bd990589a9a2": {
     "views": []
    },
    "c87bf3f5012643d8b7e7ac51ef618808": {
     "views": []
    },
    "c8e963efca004aafbb928473e1becb5f": {
     "views": []
    },
    "cd68d9ec00a747f5877abab9d9c7c22d": {
     "views": []
    },
    "ce712b1c484a4023b6e0cb7c9ded63f3": {
     "views": []
    },
    "d34f4d9a51364d5eadc4e653a6a25ce5": {
     "views": []
    },
    "d63e03d6bff04461b959cdf665f09ebc": {
     "views": []
    },
    "d8a22f5991a9462c845b1a9859249f26": {
     "views": []
    },
    "dba2775d75574ced9816be28b4e6a900": {
     "views": []
    },
    "e04f0b37f81e499e9ac12828a25a6ca1": {
     "views": []
    },
    "e2933a1fc0bd44f2a08b03337ff9fb0d": {
     "views": []
    },
    "e295744b19fe428a8454b567a6f61ab7": {
     "views": []
    },
    "e2a1de40aeaf4ae7b347c183d840948f": {
     "views": []
    },
    "e41fbb10b6a247109de1275d5112697c": {
     "views": []
    },
    "e4c79b385860458496ceecc6166a2cb8": {
     "views": []
    },
    "e64bc83642d843bc98018dce19cf137c": {
     "views": []
    },
    "e670622668784e1e96d73a53dd76c394": {
     "views": []
    },
    "e907106f558649d890cc703b532f8f07": {
     "views": []
    },
    "eab9f629b0ad469bbb303ee4e586cf67": {
     "views": []
    },
    "efa89035f09a4286adfc5888b330611d": {
     "views": []
    },
    "f337c6e9762f448ca2812b847d484999": {
     "views": []
    },
    "f4b032ac3640482993e935b7c9a5bc6d": {
     "views": []
    },
    "f9a3a2e263e14f308ac07f9c3d8ef748": {
     "views": []
    },
    "fb35b0ae371a477b9f90489abbf8e633": {
     "views": []
    },
    "fff85897070b49759784291e0157dc8b": {
     "views": []
    }
   },
   "version": "1.1.2"
  }
 },
 "nbformat": 4,
 "nbformat_minor": 0
}
